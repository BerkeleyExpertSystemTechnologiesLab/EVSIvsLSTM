{
 "cells": [
  {
   "cell_type": "code",
   "execution_count": 34,
   "metadata": {},
   "outputs": [],
   "source": [
    "import pandas as pd\n",
    "import numpy as np\n",
    "from scipy.stats import spearmanr, kendalltau, pearsonr\n",
    "from statistics import mean"
   ]
  },
  {
   "cell_type": "markdown",
   "metadata": {},
   "source": [
    "# Utility Functions"
   ]
  },
  {
   "cell_type": "code",
   "execution_count": 24,
   "metadata": {},
   "outputs": [],
   "source": [
    "def get_rank(sensors_list):\n",
    "    i = 0 #index\n",
    "    rank = 1 #the rank that will be assigned to sensor\n",
    "    step_sizes = np.arange(10, 2, -1)\n",
    "    step_sizes = np.append(step_sizes, [1, 0])\n",
    "    temp = dict()\n",
    "    for step_size in step_sizes:\n",
    "        temp[sensors_list[i]] = rank\n",
    "        i += step_size\n",
    "        rank += 1\n",
    "    return temp"
   ]
  },
  {
   "cell_type": "markdown",
   "metadata": {},
   "source": [
    "# Ranking"
   ]
  },
  {
   "cell_type": "code",
   "execution_count": 25,
   "metadata": {
    "scrolled": true
   },
   "outputs": [],
   "source": [
    "# parameters\n",
    "initial_run = 2\n",
    "last_run = 5\n",
    "run_id = initial_run\n",
    "folder_path = 'backup/run '\n",
    "sensors = ['xmv_10', 'xmv_11', 'xmeas_19', 'xmeas_21', 'xmv_9', 'xmv_4', 'xmv_5', 'xmeas_17', 'xmeas_18', 'xmeas_9']\n",
    "\n",
    "# initialize\n",
    "evsi_rank = dict()\n",
    "fs_rank = dict()\n",
    "for sensor in sensors:\n",
    "    evsi_rank[sensor] = list()\n",
    "    fs_rank[sensor] = list()\n",
    "\n",
    "    \n",
    "while run_id <= last_run:\n",
    "    # read from csv\n",
    "    evsi_df = pd.read_csv(folder_path + str(run_id) + '/log/sensor_selection.csv')\n",
    "    evsi_list = evsi_df['sensor'].tolist()\n",
    "    \n",
    "    fs_df = pd.read_csv(folder_path + str(run_id) + '/log/acc.csv')\n",
    "    fs_list = fs_df['sensor'].tolist()\n",
    "    \n",
    "    # get ranking\n",
    "    evsi_temp = get_rank(evsi_list)\n",
    "    fs_temp = get_rank(fs_list)\n",
    "    \n",
    "    # sum ranking\n",
    "    for sensor in sensors:\n",
    "        evsi_rank[sensor].append(evsi_temp[sensor])\n",
    "        fs_rank[sensor].append(fs_temp[sensor])\n",
    "        \n",
    "    run_id += 1\n",
    "\n",
    "# for sensor in sensors:\n",
    "#     evsi_rank[sensor] = evsi_rank[sensor] / (last_run - initial_run + 1)\n",
    "#     fs_rank[sensor] = fs_rank[sensor] / (last_run - initial_run + 1)"
   ]
  },
  {
   "cell_type": "code",
   "execution_count": 26,
   "metadata": {},
   "outputs": [
    {
     "data": {
      "text/plain": [
       "{'xmv_10': [2, 2, 1, 1],\n",
       " 'xmv_11': [9, 6, 5, 7],\n",
       " 'xmeas_19': [4, 10, 9, 8],\n",
       " 'xmeas_21': [1, 3, 2, 4],\n",
       " 'xmv_9': [6, 9, 7, 9],\n",
       " 'xmv_4': [8, 4, 10, 10],\n",
       " 'xmv_5': [3, 5, 3, 3],\n",
       " 'xmeas_17': [7, 7, 4, 5],\n",
       " 'xmeas_18': [10, 8, 6, 6],\n",
       " 'xmeas_9': [5, 1, 8, 2]}"
      ]
     },
     "execution_count": 26,
     "metadata": {},
     "output_type": "execute_result"
    }
   ],
   "source": [
    "evsi_rank"
   ]
  },
  {
   "cell_type": "code",
   "execution_count": 27,
   "metadata": {},
   "outputs": [
    {
     "data": {
      "text/plain": [
       "{'xmv_10': [1, 1, 1, 1],\n",
       " 'xmv_11': [5, 5, 5, 9],\n",
       " 'xmeas_19': [8, 8, 7, 5],\n",
       " 'xmeas_21': [2, 2, 2, 2],\n",
       " 'xmv_9': [9, 9, 8, 6],\n",
       " 'xmv_4': [3, 3, 3, 3],\n",
       " 'xmv_5': [10, 10, 10, 8],\n",
       " 'xmeas_17': [6, 6, 6, 10],\n",
       " 'xmeas_18': [7, 7, 9, 4],\n",
       " 'xmeas_9': [4, 4, 4, 7]}"
      ]
     },
     "execution_count": 27,
     "metadata": {},
     "output_type": "execute_result"
    }
   ],
   "source": [
    "fs_rank"
   ]
  },
  {
   "cell_type": "code",
   "execution_count": 28,
   "metadata": {},
   "outputs": [],
   "source": [
    "evsi_average_rank = list()\n",
    "fs_average_rank = list()\n",
    "for sensor in sensors:\n",
    "    evsi_average_rank.append(mean(evsi_rank[sensor]))\n",
    "    fs_average_rank.append(mean(fs_rank[sensor]))"
   ]
  },
  {
   "cell_type": "code",
   "execution_count": 36,
   "metadata": {},
   "outputs": [
    {
     "name": "stdout",
     "output_type": "stream",
     "text": [
      "['xmv_10', 'xmv_11', 'xmeas_19', 'xmeas_21', 'xmv_9', 'xmv_4', 'xmv_5', 'xmeas_17', 'xmeas_18', 'xmeas_9']\n"
     ]
    },
    {
     "data": {
      "text/plain": [
       "[1.5, 6.75, 7.75, 2.5, 7.75, 8, 3.5, 5.75, 7.5, 4]"
      ]
     },
     "execution_count": 36,
     "metadata": {},
     "output_type": "execute_result"
    }
   ],
   "source": [
    "print(sensors)\n",
    "evsi_average_rank"
   ]
  },
  {
   "cell_type": "code",
   "execution_count": 30,
   "metadata": {},
   "outputs": [
    {
     "data": {
      "text/plain": [
       "[1, 6, 7, 2, 8, 3, 9.5, 7, 6.75, 4.75]"
      ]
     },
     "execution_count": 30,
     "metadata": {},
     "output_type": "execute_result"
    }
   ],
   "source": [
    "fs_average_rank"
   ]
  },
  {
   "cell_type": "code",
   "execution_count": 31,
   "metadata": {},
   "outputs": [
    {
     "data": {
      "text/plain": [
       "SpearmanrResult(correlation=0.3445121951219513, pvalue=0.3296360213428664)"
      ]
     },
     "execution_count": 31,
     "metadata": {},
     "output_type": "execute_result"
    }
   ],
   "source": [
    "spearmanr(evsi_average_rank, fs_average_rank)"
   ]
  },
  {
   "cell_type": "code",
   "execution_count": 33,
   "metadata": {},
   "outputs": [
    {
     "data": {
      "text/plain": [
       "KendalltauResult(correlation=0.29545454545454547, pvalue=0.2411711001677841)"
      ]
     },
     "execution_count": 33,
     "metadata": {},
     "output_type": "execute_result"
    }
   ],
   "source": [
    "kendalltau(evsi_average_rank, fs_average_rank)"
   ]
  },
  {
   "cell_type": "code",
   "execution_count": 35,
   "metadata": {},
   "outputs": [
    {
     "data": {
      "text/plain": [
       "(0.463660552837845, 0.17710287662103288)"
      ]
     },
     "execution_count": 35,
     "metadata": {},
     "output_type": "execute_result"
    }
   ],
   "source": [
    "pearsonr(evsi_average_rank, fs_average_rank)"
   ]
  },
  {
   "cell_type": "code",
   "execution_count": 32,
   "metadata": {},
   "outputs": [
    {
     "data": {
      "text/plain": [
       "SpearmanrResult(correlation=0.9999999999999999, pvalue=1.4042654220543672e-24)"
      ]
     },
     "execution_count": 32,
     "metadata": {},
     "output_type": "execute_result"
    }
   ],
   "source": [
    "a = [1, 2, 3, 4, 5]\n",
    "b = [1, 2, 3, 4, 5]\n",
    "spearmanr(a, b)"
   ]
  },
  {
   "cell_type": "code",
   "execution_count": null,
   "metadata": {},
   "outputs": [],
   "source": []
  }
 ],
 "metadata": {
  "kernelspec": {
   "display_name": "Python 3",
   "language": "python",
   "name": "python3"
  },
  "language_info": {
   "codemirror_mode": {
    "name": "ipython",
    "version": 3
   },
   "file_extension": ".py",
   "mimetype": "text/x-python",
   "name": "python",
   "nbconvert_exporter": "python",
   "pygments_lexer": "ipython3",
   "version": "3.7.9"
  }
 },
 "nbformat": 4,
 "nbformat_minor": 4
}
