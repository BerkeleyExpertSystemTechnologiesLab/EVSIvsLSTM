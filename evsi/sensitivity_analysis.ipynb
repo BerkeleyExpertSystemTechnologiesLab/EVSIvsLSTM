{
 "cells": [
  {
   "cell_type": "code",
   "execution_count": 24,
   "metadata": {
    "executionInfo": {
     "elapsed": 2881,
     "status": "ok",
     "timestamp": 1617983259610,
     "user": {
      "displayName": "Zichuan Fang",
      "photoUrl": "",
      "userId": "10100273499930448136"
     },
     "user_tz": 240
    },
    "id": "Rn6WvlnSy6h5"
   },
   "outputs": [],
   "source": [
    "import pandas as pd\n",
    "import numpy as np\n",
    "import matplotlib.pyplot as plt\n",
    "import matplotlib as mpl\n",
    "import seaborn as sns\n",
    "import pickle\n",
    "import csv\n",
    "\n",
    "from sklearn.metrics import confusion_matrix\n",
    "from sklearn.model_selection import train_test_split, GridSearchCV\n",
    "from sklearn.preprocessing import StandardScaler\n",
    "\n",
    "from tensorflow.keras.layers import LSTM, Dense, Dropout\n",
    "from tensorflow.keras.models import Sequential, load_model\n",
    "from tensorflow.keras.utils import to_categorical\n",
    "#from tensorflow.keras.optimizers import Adam\n",
    "#from tensorflow.keras.callbacks import CSVLogger\n",
    "import tensorflow as tf"
   ]
  },
  {
   "cell_type": "markdown",
   "metadata": {
    "id": "VbwB4C2X3MsO"
   },
   "source": [
    "**Data Loading**"
   ]
  },
  {
   "cell_type": "code",
   "execution_count": 25,
   "metadata": {
    "executionInfo": {
     "elapsed": 11357,
     "status": "ok",
     "timestamp": 1617983268096,
     "user": {
      "displayName": "Zichuan Fang",
      "photoUrl": "",
      "userId": "10100273499930448136"
     },
     "user_tz": 240
    },
    "id": "7iGDZUhi3LnW"
   },
   "outputs": [],
   "source": [
    "colab_path = '/content/drive/MyDrive/squishy/'\n",
    "Sampled_train = pd.read_csv(\"dataset/train.csv\")\n",
    "Sampled_test = pd.read_csv(\"dataset/test.csv\")\n",
    "Sampled_cv = pd.read_csv('dataset/cv.csv')"
   ]
  },
  {
   "cell_type": "markdown",
   "metadata": {
    "id": "L8jw1UfL4Smr"
   },
   "source": [
    "**Data Preprocessing**"
   ]
  },
  {
   "cell_type": "code",
   "execution_count": 26,
   "metadata": {
    "executionInfo": {
     "elapsed": 11826,
     "status": "ok",
     "timestamp": 1617983268571,
     "user": {
      "displayName": "Zichuan Fang",
      "photoUrl": "",
      "userId": "10100273499930448136"
     },
     "user_tz": 240
    },
    "id": "a3N0oFFF3g4D"
   },
   "outputs": [],
   "source": [
    "# Drop some mysterious fault type\n",
    "Sampled_train.drop(Sampled_train[(Sampled_train.faultNumber == 3) | (Sampled_train.faultNumber == 9) | (Sampled_train.faultNumber == 15)].index, inplace = True)\n",
    "Sampled_test.drop(Sampled_test[(Sampled_test.faultNumber == 3) | (Sampled_test.faultNumber == 9) | (Sampled_test.faultNumber == 15)].index, inplace = True)\n",
    "Sampled_cv.drop(Sampled_cv[(Sampled_cv.faultNumber == 3) | (Sampled_cv.faultNumber == 9) | (Sampled_cv.faultNumber == 15)].index, inplace = True)"
   ]
  },
  {
   "cell_type": "code",
   "execution_count": 27,
   "metadata": {
    "executionInfo": {
     "elapsed": 11821,
     "status": "ok",
     "timestamp": 1617983268572,
     "user": {
      "displayName": "Zichuan Fang",
      "photoUrl": "",
      "userId": "10100273499930448136"
     },
     "user_tz": 240
    },
    "id": "6Ne7fj0s3hnJ"
   },
   "outputs": [],
   "source": [
    "# make the Y value usable in LSTM\n",
    "y_train = to_categorical(Sampled_train['faultNumber'],num_classes=21)\n",
    "y_test = to_categorical(Sampled_test['faultNumber'],num_classes=21)\n",
    "y_cv = to_categorical(Sampled_cv['faultNumber'],num_classes=21)"
   ]
  },
  {
   "cell_type": "code",
   "execution_count": 28,
   "metadata": {
    "executionInfo": {
     "elapsed": 11808,
     "status": "ok",
     "timestamp": 1617983268573,
     "user": {
      "displayName": "Zichuan Fang",
      "photoUrl": "",
      "userId": "10100273499930448136"
     },
     "user_tz": 240
    },
    "id": "TjTn2VFZ3koV"
   },
   "outputs": [],
   "source": [
    "# drop unused meta data from x\n",
    "x_train_df = Sampled_train.drop(['faultNumber','simulationRun','sample'],axis=1)\n",
    "x_test_df = Sampled_test.drop(['faultNumber','simulationRun','sample'],axis =1)\n",
    "x_cv_df = Sampled_cv.drop(['faultNumber','simulationRun','sample'],axis =1)"
   ]
  },
  {
   "cell_type": "markdown",
   "metadata": {
    "id": "k3LPDwP6nuiv"
   },
   "source": [
    "**Parameters**"
   ]
  },
  {
   "cell_type": "code",
   "execution_count": 29,
   "metadata": {
    "executionInfo": {
     "elapsed": 12297,
     "status": "ok",
     "timestamp": 1617983269079,
     "user": {
      "displayName": "Zichuan Fang",
      "photoUrl": "",
      "userId": "10100273499930448136"
     },
     "user_tz": 240
    },
    "id": "HyRMCyBJ3rS_"
   },
   "outputs": [],
   "source": [
    "sensors = ['xmv_10', 'xmv_11', 'xmeas_19', 'xmeas_21', 'xmv_9', 'xmv_4', 'xmv_5', 'xmeas_17', 'xmeas_18', 'xmeas_9']\n",
    "model_path = 'models/evsi/' + '0_' + \"none/\"\n",
    "\n",
    "ratios = [2**j for j in range(1, 6)]\n",
    "\n",
    "# get prior probability\n",
    "temp = Sampled_train['faultNumber'].value_counts()\n",
    "non_fault = temp[0]\n",
    "total = temp.sum()\n",
    "\n",
    "temp = Sampled_cv['faultNumber'].value_counts()\n",
    "non_fault += temp[0]\n",
    "total += temp.sum()\n",
    "\n",
    "P_present = non_fault/total\n",
    "P_absent = 1 - P_present"
   ]
  },
  {
   "cell_type": "markdown",
   "metadata": {
    "id": "TSp4RamV3lpj"
   },
   "source": [
    "**Utility Functions**"
   ]
  },
  {
   "cell_type": "code",
   "execution_count": 30,
   "metadata": {
    "executionInfo": {
     "elapsed": 12292,
     "status": "ok",
     "timestamp": 1617983269080,
     "user": {
      "displayName": "Zichuan Fang",
      "photoUrl": "",
      "userId": "10100273499930448136"
     },
     "user_tz": 240
    },
    "id": "H2HQcMhy3nQZ"
   },
   "outputs": [],
   "source": [
    "def feature_remover(features_names):\n",
    "    # remove a list of features from x\n",
    "    \n",
    "    dimension = dict()\n",
    "    \n",
    "    # row dimension\n",
    "    dimension['train_row'] = len(x_train_df)\n",
    "    dimension['test_row'] = len(x_test_df)\n",
    "    dimension['cv_row'] = len(x_cv_df)\n",
    "    \n",
    "    # create a copy so we don't change the original dataframe\n",
    "    x_train_masked_df = x_train_df.copy()\n",
    "    x_test_masked_df = x_test_df.copy()\n",
    "    x_cv_masked_df = x_cv_df.copy()\n",
    "    \n",
    "    for feature in features_names:\n",
    "        x_train_masked_df.drop([feature], axis = 1, inplace = True)\n",
    "        x_test_masked_df.drop([feature], axis = 1, inplace = True)\n",
    "        x_cv_masked_df.drop([feature], axis = 1, inplace = True)\n",
    "        \n",
    "    # column dimension\n",
    "    dimension['train_col'] = x_train_masked_df.shape[1]\n",
    "    dimension['test_col'] = x_test_masked_df.shape[1]\n",
    "    dimension['cv_col'] = x_cv_masked_df.shape[1]\n",
    "    \n",
    "    standard_scalar = StandardScaler()\n",
    "    x_train_masked_df = standard_scalar.fit_transform(x_train_masked_df)\n",
    "    x_test_masked_df = standard_scalar.transform(x_test_masked_df)\n",
    "    x_cv_masked_df = standard_scalar.transform(x_cv_masked_df)    \n",
    "    \n",
    "    x_train = np.resize(x_train_masked_df, (dimension['train_row'], dimension['train_col'], 1))\n",
    "    x_test = np.resize(x_test_masked_df, (dimension['test_row'], dimension['test_col'], 1))\n",
    "    x_cv = np.resize(x_cv_masked_df, (dimension['cv_row'], dimension['cv_col'], 1))\n",
    "    \n",
    "    return dimension, x_train, x_test, x_cv"
   ]
  },
  {
   "cell_type": "code",
   "execution_count": 31,
   "metadata": {
    "executionInfo": {
     "elapsed": 12286,
     "status": "ok",
     "timestamp": 1617983269080,
     "user": {
      "displayName": "Zichuan Fang",
      "photoUrl": "",
      "userId": "10100273499930448136"
     },
     "user_tz": 240
    },
    "id": "z_JamX_JYa0G"
   },
   "outputs": [],
   "source": [
    "# helper function to calculate probability of correctly giving signal when present\n",
    "def get_signal_present(prediction, ground_truth, cost_false_positive, cost_false_negative):\n",
    "    present_index = list()\n",
    "    for i in range(len(ground_truth)):\n",
    "        if ground_truth[i] == 0:\n",
    "            present_index.append(i)\n",
    "    \n",
    "    counter = 0\n",
    "    for index in present_index:\n",
    "        if prediction[index] == 0:\n",
    "            counter += 1\n",
    "    \n",
    "    return counter/len(present_index)\n",
    "\n",
    "# helper function to calculate probability of correctly giving signal when present\n",
    "# there should be a more generic way using operator module to merge this with the one above.\n",
    "def get_no_signal_absent(prediction, ground_truth, cost_false_positive, cost_false_negative):\n",
    "    absent_index = list()\n",
    "    for i in range(len(ground_truth)):\n",
    "        if ground_truth[i] != 0:\n",
    "            absent_index.append(i)\n",
    "    \n",
    "    counter = 0\n",
    "    for index in absent_index:\n",
    "        if prediction[index] != 0:\n",
    "            counter += 1\n",
    "    return counter/len(absent_index)"
   ]
  },
  {
   "cell_type": "code",
   "execution_count": 32,
   "metadata": {
    "executionInfo": {
     "elapsed": 12279,
     "status": "ok",
     "timestamp": 1617983269080,
     "user": {
      "displayName": "Zichuan Fang",
      "photoUrl": "",
      "userId": "10100273499930448136"
     },
     "user_tz": 240
    },
    "id": "pwb2P5FbfiIQ"
   },
   "outputs": [],
   "source": [
    "def get_expected_cost(prediction, cost_false_positive, cost_false_negative):\n",
    "  # get P(signal|present) and P(no signal|absent)\n",
    "    ground_truth = Sampled_test['faultNumber'].tolist()\n",
    "    P_signal_present = get_signal_present(prediction, ground_truth, cost_false_positive, cost_false_negative)\n",
    "    P_no_signal_absent = get_no_signal_absent(prediction, ground_truth, cost_false_positive, cost_false_negative)\n",
    "    P_signal_absent = 1 - P_no_signal_absent\n",
    "    P_no_signal_present = 1 - P_signal_present\n",
    "\n",
    "  # get P(signal)\n",
    "    P_signal = P_present * P_signal_present + P_absent * P_signal_absent\n",
    "    P_no_signal = 1 - P_signal\n",
    "\n",
    "  # bayesian probability\n",
    "    P_absent_signal = (P_signal_absent * P_absent) / P_signal\n",
    "    P_present_signal = (P_signal_present * P_present) / P_signal\n",
    "    P_absent_no_signal = (P_no_signal_absent * P_absent) / P_no_signal\n",
    "    P_present_no_signal = (P_no_signal_present * P_present) / P_no_signal\n",
    "\n",
    "  #calculate the evoi\n",
    "    signal_action = None\n",
    "    no_signal_action = None\n",
    "    evoi = P_signal * min(cost_false_positive * P_absent_signal, cost_false_negative * P_present_signal) + P_no_signal * min(cost_false_positive * P_absent_no_signal, cost_false_negative * P_present_no_signal)\n",
    "    if cost_false_positive * P_absent_signal >= cost_false_negative * P_present_signal:\n",
    "        signal_action = 'No Fix'\n",
    "    else:\n",
    "        signal_action = 'Fix'\n",
    "    \n",
    "    if cost_false_positive * P_absent_no_signal >= cost_false_negative * P_present_no_signal:\n",
    "        no_signal_action = 'No Fix'\n",
    "    else:\n",
    "        no_signal_action = 'Fix'\n",
    "    return evoi, signal_action, no_signal_action"
   ]
  },
  {
   "cell_type": "code",
   "execution_count": 33,
   "metadata": {
    "executionInfo": {
     "elapsed": 12274,
     "status": "ok",
     "timestamp": 1617983269081,
     "user": {
      "displayName": "Zichuan Fang",
      "photoUrl": "",
      "userId": "10100273499930448136"
     },
     "user_tz": 240
    },
    "id": "iD3s-nlZjl6p"
   },
   "outputs": [],
   "source": [
    "def plot_dict(dictionary):\n",
    "    x, y = [], []\n",
    "    for key, value in dictionary.items():\n",
    "        x.append(key)\n",
    "        y.append(value)\n",
    "    return x, y"
   ]
  },
  {
   "cell_type": "markdown",
   "metadata": {
    "id": "ceXXPGED4a2r"
   },
   "source": [
    "**Sensitivity Analysis**"
   ]
  },
  {
   "cell_type": "code",
   "execution_count": 34,
   "metadata": {},
   "outputs": [
    {
     "name": "stdout",
     "output_type": "stream",
     "text": [
      "2\n",
      "[0.41331370262390665, 'Fix', 'No Fix']\n",
      "[0.641731778425656, 'Fix', 'No Fix']\n",
      "[0.6148594752186589, 'Fix', 'No Fix']\n",
      "[0.5183790087463557, 'Fix', 'No Fix']\n",
      "[0.6037720116618076, 'Fix', 'No Fix']\n",
      "[0.6387072886297376, 'Fix', 'No Fix']\n",
      "[0.6082489795918368, 'Fix', 'No Fix']\n",
      "[0.632660058309038, 'Fix', 'No Fix']\n",
      "[0.594401749271137, 'Fix', 'No Fix']\n",
      "[0.4891871720116618, 'Fix', 'No Fix']\n",
      "4\n",
      "[0.6250483965014577, 'Fix', 'No Fix']\n",
      "[0.9748221574344023, 'Fix', 'No Fix']\n",
      "[0.9873084548104956, 'Fix', 'No Fix']\n",
      "[0.7348513119533527, 'Fix', 'No Fix']\n",
      "[0.8993259475218659, 'Fix', 'No Fix']\n",
      "[0.9728909620991254, 'Fix', 'No Fix']\n",
      "[0.8637154518950438, 'Fix', 'No Fix']\n",
      "[0.9504443148688048, 'Fix', 'No Fix']\n",
      "[0.9078128279883382, 'Fix', 'No Fix']\n",
      "[0.7001930029154518, 'Fix', 'No Fix']\n",
      "8\n",
      "[1.0485177842565596, 'Fix', 'No Fix']\n",
      "[1.6355685131195337, 'Fix', 'Fix']\n",
      "[1.6355685131195337, 'Fix', 'Fix']\n",
      "[1.167795918367347, 'Fix', 'No Fix']\n",
      "[1.4904338192419826, 'Fix', 'No Fix']\n",
      "[1.6355685131195337, 'Fix', 'Fix']\n",
      "[1.3746483965014578, 'Fix', 'No Fix']\n",
      "[1.5860128279883383, 'Fix', 'No Fix']\n",
      "[1.5346349854227406, 'Fix', 'No Fix']\n",
      "[1.122204664723032, 'Fix', 'No Fix']\n",
      "16\n",
      "[1.6355685131195337, 'Fix', 'Fix']\n",
      "[1.6355685131195337, 'Fix', 'Fix']\n",
      "[1.6355685131195337, 'Fix', 'Fix']\n",
      "[1.6355685131195337, 'Fix', 'Fix']\n",
      "[1.6355685131195337, 'Fix', 'Fix']\n",
      "[1.6355685131195337, 'Fix', 'Fix']\n",
      "[1.6355685131195337, 'Fix', 'Fix']\n",
      "[1.6355685131195337, 'Fix', 'Fix']\n",
      "[1.6355685131195337, 'Fix', 'Fix']\n",
      "[1.6355685131195337, 'Fix', 'Fix']\n",
      "32\n"
     ]
    },
    {
     "ename": "MemoryError",
     "evalue": "Unable to allocate 91.8 MiB for an array with shape (51, 235840) and data type float64",
     "output_type": "error",
     "traceback": [
      "\u001b[1;31m---------------------------------------------------------------------------\u001b[0m",
      "\u001b[1;31mMemoryError\u001b[0m                               Traceback (most recent call last)",
      "\u001b[1;32m<ipython-input-34-7c9722a322b6>\u001b[0m in \u001b[0;36m<module>\u001b[1;34m\u001b[0m\n\u001b[0;32m     21\u001b[0m         \u001b[0mremove_sensors\u001b[0m \u001b[1;33m=\u001b[0m \u001b[0msensors\u001b[0m\u001b[1;33m.\u001b[0m\u001b[0mcopy\u001b[0m\u001b[1;33m(\u001b[0m\u001b[1;33m)\u001b[0m\u001b[1;33m\u001b[0m\u001b[1;33m\u001b[0m\u001b[0m\n\u001b[0;32m     22\u001b[0m         \u001b[0mremove_sensors\u001b[0m\u001b[1;33m.\u001b[0m\u001b[0mremove\u001b[0m\u001b[1;33m(\u001b[0m\u001b[0msensor\u001b[0m\u001b[1;33m)\u001b[0m\u001b[1;33m\u001b[0m\u001b[1;33m\u001b[0m\u001b[0m\n\u001b[1;32m---> 23\u001b[1;33m         \u001b[0mdimension\u001b[0m\u001b[1;33m,\u001b[0m \u001b[0mx_train\u001b[0m\u001b[1;33m,\u001b[0m \u001b[0mx_test\u001b[0m\u001b[1;33m,\u001b[0m \u001b[0mx_cv\u001b[0m \u001b[1;33m=\u001b[0m \u001b[0mfeature_remover\u001b[0m\u001b[1;33m(\u001b[0m\u001b[0mfeatures_names\u001b[0m \u001b[1;33m=\u001b[0m \u001b[0mremove_sensors\u001b[0m\u001b[1;33m)\u001b[0m\u001b[1;33m\u001b[0m\u001b[1;33m\u001b[0m\u001b[0m\n\u001b[0m\u001b[0;32m     24\u001b[0m \u001b[1;33m\u001b[0m\u001b[0m\n\u001b[0;32m     25\u001b[0m         \u001b[0mupper_model\u001b[0m \u001b[1;33m=\u001b[0m \u001b[0mload_model\u001b[0m\u001b[1;33m(\u001b[0m\u001b[0mmodel_path\u001b[0m \u001b[1;33m+\u001b[0m \u001b[1;34m'+'\u001b[0m \u001b[1;33m+\u001b[0m \u001b[0msensor\u001b[0m\u001b[1;33m,\u001b[0m \u001b[0mcompile\u001b[0m\u001b[1;33m=\u001b[0m \u001b[1;32mFalse\u001b[0m\u001b[1;33m)\u001b[0m\u001b[1;33m\u001b[0m\u001b[1;33m\u001b[0m\u001b[0m\n",
      "\u001b[1;32m<ipython-input-30-5c61ea2c1147>\u001b[0m in \u001b[0;36mfeature_remover\u001b[1;34m(features_names)\u001b[0m\n\u001b[0;32m     15\u001b[0m \u001b[1;33m\u001b[0m\u001b[0m\n\u001b[0;32m     16\u001b[0m     \u001b[1;32mfor\u001b[0m \u001b[0mfeature\u001b[0m \u001b[1;32min\u001b[0m \u001b[0mfeatures_names\u001b[0m\u001b[1;33m:\u001b[0m\u001b[1;33m\u001b[0m\u001b[1;33m\u001b[0m\u001b[0m\n\u001b[1;32m---> 17\u001b[1;33m         \u001b[0mx_train_masked_df\u001b[0m\u001b[1;33m.\u001b[0m\u001b[0mdrop\u001b[0m\u001b[1;33m(\u001b[0m\u001b[1;33m[\u001b[0m\u001b[0mfeature\u001b[0m\u001b[1;33m]\u001b[0m\u001b[1;33m,\u001b[0m \u001b[0maxis\u001b[0m \u001b[1;33m=\u001b[0m \u001b[1;36m1\u001b[0m\u001b[1;33m,\u001b[0m \u001b[0minplace\u001b[0m \u001b[1;33m=\u001b[0m \u001b[1;32mTrue\u001b[0m\u001b[1;33m)\u001b[0m\u001b[1;33m\u001b[0m\u001b[1;33m\u001b[0m\u001b[0m\n\u001b[0m\u001b[0;32m     18\u001b[0m         \u001b[0mx_test_masked_df\u001b[0m\u001b[1;33m.\u001b[0m\u001b[0mdrop\u001b[0m\u001b[1;33m(\u001b[0m\u001b[1;33m[\u001b[0m\u001b[0mfeature\u001b[0m\u001b[1;33m]\u001b[0m\u001b[1;33m,\u001b[0m \u001b[0maxis\u001b[0m \u001b[1;33m=\u001b[0m \u001b[1;36m1\u001b[0m\u001b[1;33m,\u001b[0m \u001b[0minplace\u001b[0m \u001b[1;33m=\u001b[0m \u001b[1;32mTrue\u001b[0m\u001b[1;33m)\u001b[0m\u001b[1;33m\u001b[0m\u001b[1;33m\u001b[0m\u001b[0m\n\u001b[0;32m     19\u001b[0m         \u001b[0mx_cv_masked_df\u001b[0m\u001b[1;33m.\u001b[0m\u001b[0mdrop\u001b[0m\u001b[1;33m(\u001b[0m\u001b[1;33m[\u001b[0m\u001b[0mfeature\u001b[0m\u001b[1;33m]\u001b[0m\u001b[1;33m,\u001b[0m \u001b[0maxis\u001b[0m \u001b[1;33m=\u001b[0m \u001b[1;36m1\u001b[0m\u001b[1;33m,\u001b[0m \u001b[0minplace\u001b[0m \u001b[1;33m=\u001b[0m \u001b[1;32mTrue\u001b[0m\u001b[1;33m)\u001b[0m\u001b[1;33m\u001b[0m\u001b[1;33m\u001b[0m\u001b[0m\n",
      "\u001b[1;32mD:\\Enviroment\\Anaconda\\lib\\site-packages\\pandas\\core\\frame.py\u001b[0m in \u001b[0;36mdrop\u001b[1;34m(self, labels, axis, index, columns, level, inplace, errors)\u001b[0m\n\u001b[0;32m   4168\u001b[0m             \u001b[0mlevel\u001b[0m\u001b[1;33m=\u001b[0m\u001b[0mlevel\u001b[0m\u001b[1;33m,\u001b[0m\u001b[1;33m\u001b[0m\u001b[1;33m\u001b[0m\u001b[0m\n\u001b[0;32m   4169\u001b[0m             \u001b[0minplace\u001b[0m\u001b[1;33m=\u001b[0m\u001b[0minplace\u001b[0m\u001b[1;33m,\u001b[0m\u001b[1;33m\u001b[0m\u001b[1;33m\u001b[0m\u001b[0m\n\u001b[1;32m-> 4170\u001b[1;33m             \u001b[0merrors\u001b[0m\u001b[1;33m=\u001b[0m\u001b[0merrors\u001b[0m\u001b[1;33m,\u001b[0m\u001b[1;33m\u001b[0m\u001b[1;33m\u001b[0m\u001b[0m\n\u001b[0m\u001b[0;32m   4171\u001b[0m         )\n\u001b[0;32m   4172\u001b[0m \u001b[1;33m\u001b[0m\u001b[0m\n",
      "\u001b[1;32mD:\\Enviroment\\Anaconda\\lib\\site-packages\\pandas\\core\\generic.py\u001b[0m in \u001b[0;36mdrop\u001b[1;34m(self, labels, axis, index, columns, level, inplace, errors)\u001b[0m\n\u001b[0;32m   3885\u001b[0m         \u001b[1;32mfor\u001b[0m \u001b[0maxis\u001b[0m\u001b[1;33m,\u001b[0m \u001b[0mlabels\u001b[0m \u001b[1;32min\u001b[0m \u001b[0maxes\u001b[0m\u001b[1;33m.\u001b[0m\u001b[0mitems\u001b[0m\u001b[1;33m(\u001b[0m\u001b[1;33m)\u001b[0m\u001b[1;33m:\u001b[0m\u001b[1;33m\u001b[0m\u001b[1;33m\u001b[0m\u001b[0m\n\u001b[0;32m   3886\u001b[0m             \u001b[1;32mif\u001b[0m \u001b[0mlabels\u001b[0m \u001b[1;32mis\u001b[0m \u001b[1;32mnot\u001b[0m \u001b[1;32mNone\u001b[0m\u001b[1;33m:\u001b[0m\u001b[1;33m\u001b[0m\u001b[1;33m\u001b[0m\u001b[0m\n\u001b[1;32m-> 3887\u001b[1;33m                 \u001b[0mobj\u001b[0m \u001b[1;33m=\u001b[0m \u001b[0mobj\u001b[0m\u001b[1;33m.\u001b[0m\u001b[0m_drop_axis\u001b[0m\u001b[1;33m(\u001b[0m\u001b[0mlabels\u001b[0m\u001b[1;33m,\u001b[0m \u001b[0maxis\u001b[0m\u001b[1;33m,\u001b[0m \u001b[0mlevel\u001b[0m\u001b[1;33m=\u001b[0m\u001b[0mlevel\u001b[0m\u001b[1;33m,\u001b[0m \u001b[0merrors\u001b[0m\u001b[1;33m=\u001b[0m\u001b[0merrors\u001b[0m\u001b[1;33m)\u001b[0m\u001b[1;33m\u001b[0m\u001b[1;33m\u001b[0m\u001b[0m\n\u001b[0m\u001b[0;32m   3888\u001b[0m \u001b[1;33m\u001b[0m\u001b[0m\n\u001b[0;32m   3889\u001b[0m         \u001b[1;32mif\u001b[0m \u001b[0minplace\u001b[0m\u001b[1;33m:\u001b[0m\u001b[1;33m\u001b[0m\u001b[1;33m\u001b[0m\u001b[0m\n",
      "\u001b[1;32mD:\\Enviroment\\Anaconda\\lib\\site-packages\\pandas\\core\\generic.py\u001b[0m in \u001b[0;36m_drop_axis\u001b[1;34m(self, labels, axis, level, errors)\u001b[0m\n\u001b[0;32m   3920\u001b[0m             \u001b[1;32melse\u001b[0m\u001b[1;33m:\u001b[0m\u001b[1;33m\u001b[0m\u001b[1;33m\u001b[0m\u001b[0m\n\u001b[0;32m   3921\u001b[0m                 \u001b[0mnew_axis\u001b[0m \u001b[1;33m=\u001b[0m \u001b[0maxis\u001b[0m\u001b[1;33m.\u001b[0m\u001b[0mdrop\u001b[0m\u001b[1;33m(\u001b[0m\u001b[0mlabels\u001b[0m\u001b[1;33m,\u001b[0m \u001b[0merrors\u001b[0m\u001b[1;33m=\u001b[0m\u001b[0merrors\u001b[0m\u001b[1;33m)\u001b[0m\u001b[1;33m\u001b[0m\u001b[1;33m\u001b[0m\u001b[0m\n\u001b[1;32m-> 3922\u001b[1;33m             \u001b[0mresult\u001b[0m \u001b[1;33m=\u001b[0m \u001b[0mself\u001b[0m\u001b[1;33m.\u001b[0m\u001b[0mreindex\u001b[0m\u001b[1;33m(\u001b[0m\u001b[1;33m**\u001b[0m\u001b[1;33m{\u001b[0m\u001b[0maxis_name\u001b[0m\u001b[1;33m:\u001b[0m \u001b[0mnew_axis\u001b[0m\u001b[1;33m}\u001b[0m\u001b[1;33m)\u001b[0m\u001b[1;33m\u001b[0m\u001b[1;33m\u001b[0m\u001b[0m\n\u001b[0m\u001b[0;32m   3923\u001b[0m \u001b[1;33m\u001b[0m\u001b[0m\n\u001b[0;32m   3924\u001b[0m         \u001b[1;31m# Case for non-unique axis\u001b[0m\u001b[1;33m\u001b[0m\u001b[1;33m\u001b[0m\u001b[1;33m\u001b[0m\u001b[0m\n",
      "\u001b[1;32mD:\\Enviroment\\Anaconda\\lib\\site-packages\\pandas\\util\\_decorators.py\u001b[0m in \u001b[0;36mwrapper\u001b[1;34m(*args, **kwargs)\u001b[0m\n\u001b[0;32m    307\u001b[0m         \u001b[1;33m@\u001b[0m\u001b[0mwraps\u001b[0m\u001b[1;33m(\u001b[0m\u001b[0mfunc\u001b[0m\u001b[1;33m)\u001b[0m\u001b[1;33m\u001b[0m\u001b[1;33m\u001b[0m\u001b[0m\n\u001b[0;32m    308\u001b[0m         \u001b[1;32mdef\u001b[0m \u001b[0mwrapper\u001b[0m\u001b[1;33m(\u001b[0m\u001b[1;33m*\u001b[0m\u001b[0margs\u001b[0m\u001b[1;33m,\u001b[0m \u001b[1;33m**\u001b[0m\u001b[0mkwargs\u001b[0m\u001b[1;33m)\u001b[0m \u001b[1;33m->\u001b[0m \u001b[0mCallable\u001b[0m\u001b[1;33m[\u001b[0m\u001b[1;33m...\u001b[0m\u001b[1;33m,\u001b[0m \u001b[0mAny\u001b[0m\u001b[1;33m]\u001b[0m\u001b[1;33m:\u001b[0m\u001b[1;33m\u001b[0m\u001b[1;33m\u001b[0m\u001b[0m\n\u001b[1;32m--> 309\u001b[1;33m             \u001b[1;32mreturn\u001b[0m \u001b[0mfunc\u001b[0m\u001b[1;33m(\u001b[0m\u001b[1;33m*\u001b[0m\u001b[0margs\u001b[0m\u001b[1;33m,\u001b[0m \u001b[1;33m**\u001b[0m\u001b[0mkwargs\u001b[0m\u001b[1;33m)\u001b[0m\u001b[1;33m\u001b[0m\u001b[1;33m\u001b[0m\u001b[0m\n\u001b[0m\u001b[0;32m    310\u001b[0m \u001b[1;33m\u001b[0m\u001b[0m\n\u001b[0;32m    311\u001b[0m         \u001b[0mkind\u001b[0m \u001b[1;33m=\u001b[0m \u001b[0minspect\u001b[0m\u001b[1;33m.\u001b[0m\u001b[0mParameter\u001b[0m\u001b[1;33m.\u001b[0m\u001b[0mPOSITIONAL_OR_KEYWORD\u001b[0m\u001b[1;33m\u001b[0m\u001b[1;33m\u001b[0m\u001b[0m\n",
      "\u001b[1;32mD:\\Enviroment\\Anaconda\\lib\\site-packages\\pandas\\core\\frame.py\u001b[0m in \u001b[0;36mreindex\u001b[1;34m(self, *args, **kwargs)\u001b[0m\n\u001b[0;32m   4030\u001b[0m         \u001b[0mkwargs\u001b[0m\u001b[1;33m.\u001b[0m\u001b[0mpop\u001b[0m\u001b[1;33m(\u001b[0m\u001b[1;34m\"axis\"\u001b[0m\u001b[1;33m,\u001b[0m \u001b[1;32mNone\u001b[0m\u001b[1;33m)\u001b[0m\u001b[1;33m\u001b[0m\u001b[1;33m\u001b[0m\u001b[0m\n\u001b[0;32m   4031\u001b[0m         \u001b[0mkwargs\u001b[0m\u001b[1;33m.\u001b[0m\u001b[0mpop\u001b[0m\u001b[1;33m(\u001b[0m\u001b[1;34m\"labels\"\u001b[0m\u001b[1;33m,\u001b[0m \u001b[1;32mNone\u001b[0m\u001b[1;33m)\u001b[0m\u001b[1;33m\u001b[0m\u001b[1;33m\u001b[0m\u001b[0m\n\u001b[1;32m-> 4032\u001b[1;33m         \u001b[1;32mreturn\u001b[0m \u001b[0msuper\u001b[0m\u001b[1;33m(\u001b[0m\u001b[1;33m)\u001b[0m\u001b[1;33m.\u001b[0m\u001b[0mreindex\u001b[0m\u001b[1;33m(\u001b[0m\u001b[1;33m**\u001b[0m\u001b[0mkwargs\u001b[0m\u001b[1;33m)\u001b[0m\u001b[1;33m\u001b[0m\u001b[1;33m\u001b[0m\u001b[0m\n\u001b[0m\u001b[0;32m   4033\u001b[0m \u001b[1;33m\u001b[0m\u001b[0m\n\u001b[0;32m   4034\u001b[0m     def drop(\n",
      "\u001b[1;32mD:\\Enviroment\\Anaconda\\lib\\site-packages\\pandas\\core\\generic.py\u001b[0m in \u001b[0;36mreindex\u001b[1;34m(self, *args, **kwargs)\u001b[0m\n\u001b[0;32m   4460\u001b[0m         \u001b[1;31m# perform the reindex on the axes\u001b[0m\u001b[1;33m\u001b[0m\u001b[1;33m\u001b[0m\u001b[1;33m\u001b[0m\u001b[0m\n\u001b[0;32m   4461\u001b[0m         return self._reindex_axes(\n\u001b[1;32m-> 4462\u001b[1;33m             \u001b[0maxes\u001b[0m\u001b[1;33m,\u001b[0m \u001b[0mlevel\u001b[0m\u001b[1;33m,\u001b[0m \u001b[0mlimit\u001b[0m\u001b[1;33m,\u001b[0m \u001b[0mtolerance\u001b[0m\u001b[1;33m,\u001b[0m \u001b[0mmethod\u001b[0m\u001b[1;33m,\u001b[0m \u001b[0mfill_value\u001b[0m\u001b[1;33m,\u001b[0m \u001b[0mcopy\u001b[0m\u001b[1;33m\u001b[0m\u001b[1;33m\u001b[0m\u001b[0m\n\u001b[0m\u001b[0;32m   4463\u001b[0m         ).__finalize__(self, method=\"reindex\")\n\u001b[0;32m   4464\u001b[0m \u001b[1;33m\u001b[0m\u001b[0m\n",
      "\u001b[1;32mD:\\Enviroment\\Anaconda\\lib\\site-packages\\pandas\\core\\frame.py\u001b[0m in \u001b[0;36m_reindex_axes\u001b[1;34m(self, axes, level, limit, tolerance, method, fill_value, copy)\u001b[0m\n\u001b[0;32m   3871\u001b[0m         \u001b[1;32mif\u001b[0m \u001b[0mcolumns\u001b[0m \u001b[1;32mis\u001b[0m \u001b[1;32mnot\u001b[0m \u001b[1;32mNone\u001b[0m\u001b[1;33m:\u001b[0m\u001b[1;33m\u001b[0m\u001b[1;33m\u001b[0m\u001b[0m\n\u001b[0;32m   3872\u001b[0m             frame = frame._reindex_columns(\n\u001b[1;32m-> 3873\u001b[1;33m                 \u001b[0mcolumns\u001b[0m\u001b[1;33m,\u001b[0m \u001b[0mmethod\u001b[0m\u001b[1;33m,\u001b[0m \u001b[0mcopy\u001b[0m\u001b[1;33m,\u001b[0m \u001b[0mlevel\u001b[0m\u001b[1;33m,\u001b[0m \u001b[0mfill_value\u001b[0m\u001b[1;33m,\u001b[0m \u001b[0mlimit\u001b[0m\u001b[1;33m,\u001b[0m \u001b[0mtolerance\u001b[0m\u001b[1;33m\u001b[0m\u001b[1;33m\u001b[0m\u001b[0m\n\u001b[0m\u001b[0;32m   3874\u001b[0m             )\n\u001b[0;32m   3875\u001b[0m \u001b[1;33m\u001b[0m\u001b[0m\n",
      "\u001b[1;32mD:\\Enviroment\\Anaconda\\lib\\site-packages\\pandas\\core\\frame.py\u001b[0m in \u001b[0;36m_reindex_columns\u001b[1;34m(self, new_columns, method, copy, level, fill_value, limit, tolerance)\u001b[0m\n\u001b[0;32m   3919\u001b[0m             \u001b[0mcopy\u001b[0m\u001b[1;33m=\u001b[0m\u001b[0mcopy\u001b[0m\u001b[1;33m,\u001b[0m\u001b[1;33m\u001b[0m\u001b[1;33m\u001b[0m\u001b[0m\n\u001b[0;32m   3920\u001b[0m             \u001b[0mfill_value\u001b[0m\u001b[1;33m=\u001b[0m\u001b[0mfill_value\u001b[0m\u001b[1;33m,\u001b[0m\u001b[1;33m\u001b[0m\u001b[1;33m\u001b[0m\u001b[0m\n\u001b[1;32m-> 3921\u001b[1;33m             \u001b[0mallow_dups\u001b[0m\u001b[1;33m=\u001b[0m\u001b[1;32mFalse\u001b[0m\u001b[1;33m,\u001b[0m\u001b[1;33m\u001b[0m\u001b[1;33m\u001b[0m\u001b[0m\n\u001b[0m\u001b[0;32m   3922\u001b[0m         )\n\u001b[0;32m   3923\u001b[0m \u001b[1;33m\u001b[0m\u001b[0m\n",
      "\u001b[1;32mD:\\Enviroment\\Anaconda\\lib\\site-packages\\pandas\\core\\generic.py\u001b[0m in \u001b[0;36m_reindex_with_indexers\u001b[1;34m(self, reindexers, fill_value, copy, allow_dups)\u001b[0m\n\u001b[0;32m   4528\u001b[0m                 \u001b[0mfill_value\u001b[0m\u001b[1;33m=\u001b[0m\u001b[0mfill_value\u001b[0m\u001b[1;33m,\u001b[0m\u001b[1;33m\u001b[0m\u001b[1;33m\u001b[0m\u001b[0m\n\u001b[0;32m   4529\u001b[0m                 \u001b[0mallow_dups\u001b[0m\u001b[1;33m=\u001b[0m\u001b[0mallow_dups\u001b[0m\u001b[1;33m,\u001b[0m\u001b[1;33m\u001b[0m\u001b[1;33m\u001b[0m\u001b[0m\n\u001b[1;32m-> 4530\u001b[1;33m                 \u001b[0mcopy\u001b[0m\u001b[1;33m=\u001b[0m\u001b[0mcopy\u001b[0m\u001b[1;33m,\u001b[0m\u001b[1;33m\u001b[0m\u001b[1;33m\u001b[0m\u001b[0m\n\u001b[0m\u001b[0;32m   4531\u001b[0m             )\n\u001b[0;32m   4532\u001b[0m             \u001b[1;31m# If we've made a copy once, no need to make another one\u001b[0m\u001b[1;33m\u001b[0m\u001b[1;33m\u001b[0m\u001b[1;33m\u001b[0m\u001b[0m\n",
      "\u001b[1;32mD:\\Enviroment\\Anaconda\\lib\\site-packages\\pandas\\core\\internals\\managers.py\u001b[0m in \u001b[0;36mreindex_indexer\u001b[1;34m(self, new_axis, indexer, axis, fill_value, allow_dups, copy, consolidate)\u001b[0m\n\u001b[0;32m   1280\u001b[0m \u001b[1;33m\u001b[0m\u001b[0m\n\u001b[0;32m   1281\u001b[0m         \u001b[1;32mif\u001b[0m \u001b[0maxis\u001b[0m \u001b[1;33m==\u001b[0m \u001b[1;36m0\u001b[0m\u001b[1;33m:\u001b[0m\u001b[1;33m\u001b[0m\u001b[1;33m\u001b[0m\u001b[0m\n\u001b[1;32m-> 1282\u001b[1;33m             \u001b[0mnew_blocks\u001b[0m \u001b[1;33m=\u001b[0m \u001b[0mself\u001b[0m\u001b[1;33m.\u001b[0m\u001b[0m_slice_take_blocks_ax0\u001b[0m\u001b[1;33m(\u001b[0m\u001b[0mindexer\u001b[0m\u001b[1;33m,\u001b[0m \u001b[0mfill_value\u001b[0m\u001b[1;33m=\u001b[0m\u001b[0mfill_value\u001b[0m\u001b[1;33m)\u001b[0m\u001b[1;33m\u001b[0m\u001b[1;33m\u001b[0m\u001b[0m\n\u001b[0m\u001b[0;32m   1283\u001b[0m         \u001b[1;32melse\u001b[0m\u001b[1;33m:\u001b[0m\u001b[1;33m\u001b[0m\u001b[1;33m\u001b[0m\u001b[0m\n\u001b[0;32m   1284\u001b[0m             new_blocks = [\n",
      "\u001b[1;32mD:\\Enviroment\\Anaconda\\lib\\site-packages\\pandas\\core\\internals\\managers.py\u001b[0m in \u001b[0;36m_slice_take_blocks_ax0\u001b[1;34m(self, slice_or_indexer, fill_value, only_slice)\u001b[0m\n\u001b[0;32m   1408\u001b[0m                             \u001b[0mblocks\u001b[0m\u001b[1;33m.\u001b[0m\u001b[0mappend\u001b[0m\u001b[1;33m(\u001b[0m\u001b[0mnb\u001b[0m\u001b[1;33m)\u001b[0m\u001b[1;33m\u001b[0m\u001b[1;33m\u001b[0m\u001b[0m\n\u001b[0;32m   1409\u001b[0m                     \u001b[1;32melse\u001b[0m\u001b[1;33m:\u001b[0m\u001b[1;33m\u001b[0m\u001b[1;33m\u001b[0m\u001b[0m\n\u001b[1;32m-> 1410\u001b[1;33m                         \u001b[0mnb\u001b[0m \u001b[1;33m=\u001b[0m \u001b[0mblk\u001b[0m\u001b[1;33m.\u001b[0m\u001b[0mtake_nd\u001b[0m\u001b[1;33m(\u001b[0m\u001b[0mtaker\u001b[0m\u001b[1;33m,\u001b[0m \u001b[0maxis\u001b[0m\u001b[1;33m=\u001b[0m\u001b[1;36m0\u001b[0m\u001b[1;33m,\u001b[0m \u001b[0mnew_mgr_locs\u001b[0m\u001b[1;33m=\u001b[0m\u001b[0mmgr_locs\u001b[0m\u001b[1;33m)\u001b[0m\u001b[1;33m\u001b[0m\u001b[1;33m\u001b[0m\u001b[0m\n\u001b[0m\u001b[0;32m   1411\u001b[0m                         \u001b[0mblocks\u001b[0m\u001b[1;33m.\u001b[0m\u001b[0mappend\u001b[0m\u001b[1;33m(\u001b[0m\u001b[0mnb\u001b[0m\u001b[1;33m)\u001b[0m\u001b[1;33m\u001b[0m\u001b[1;33m\u001b[0m\u001b[0m\n\u001b[0;32m   1412\u001b[0m \u001b[1;33m\u001b[0m\u001b[0m\n",
      "\u001b[1;32mD:\\Enviroment\\Anaconda\\lib\\site-packages\\pandas\\core\\internals\\blocks.py\u001b[0m in \u001b[0;36mtake_nd\u001b[1;34m(self, indexer, axis, new_mgr_locs, fill_value)\u001b[0m\n\u001b[0;32m   1254\u001b[0m \u001b[1;33m\u001b[0m\u001b[0m\n\u001b[0;32m   1255\u001b[0m         new_values = algos.take_nd(\n\u001b[1;32m-> 1256\u001b[1;33m             \u001b[0mvalues\u001b[0m\u001b[1;33m,\u001b[0m \u001b[0mindexer\u001b[0m\u001b[1;33m,\u001b[0m \u001b[0maxis\u001b[0m\u001b[1;33m=\u001b[0m\u001b[0maxis\u001b[0m\u001b[1;33m,\u001b[0m \u001b[0mallow_fill\u001b[0m\u001b[1;33m=\u001b[0m\u001b[0mallow_fill\u001b[0m\u001b[1;33m,\u001b[0m \u001b[0mfill_value\u001b[0m\u001b[1;33m=\u001b[0m\u001b[0mfill_value\u001b[0m\u001b[1;33m\u001b[0m\u001b[1;33m\u001b[0m\u001b[0m\n\u001b[0m\u001b[0;32m   1257\u001b[0m         )\n\u001b[0;32m   1258\u001b[0m \u001b[1;33m\u001b[0m\u001b[0m\n",
      "\u001b[1;32mD:\\Enviroment\\Anaconda\\lib\\site-packages\\pandas\\core\\algorithms.py\u001b[0m in \u001b[0;36mtake_nd\u001b[1;34m(arr, indexer, axis, out, fill_value, allow_fill)\u001b[0m\n\u001b[0;32m   1706\u001b[0m             \u001b[0mout\u001b[0m \u001b[1;33m=\u001b[0m \u001b[0mnp\u001b[0m\u001b[1;33m.\u001b[0m\u001b[0mempty\u001b[0m\u001b[1;33m(\u001b[0m\u001b[0mout_shape\u001b[0m\u001b[1;33m,\u001b[0m \u001b[0mdtype\u001b[0m\u001b[1;33m=\u001b[0m\u001b[0mdtype\u001b[0m\u001b[1;33m,\u001b[0m \u001b[0morder\u001b[0m\u001b[1;33m=\u001b[0m\u001b[1;34m\"F\"\u001b[0m\u001b[1;33m)\u001b[0m\u001b[1;33m\u001b[0m\u001b[1;33m\u001b[0m\u001b[0m\n\u001b[0;32m   1707\u001b[0m         \u001b[1;32melse\u001b[0m\u001b[1;33m:\u001b[0m\u001b[1;33m\u001b[0m\u001b[1;33m\u001b[0m\u001b[0m\n\u001b[1;32m-> 1708\u001b[1;33m             \u001b[0mout\u001b[0m \u001b[1;33m=\u001b[0m \u001b[0mnp\u001b[0m\u001b[1;33m.\u001b[0m\u001b[0mempty\u001b[0m\u001b[1;33m(\u001b[0m\u001b[0mout_shape\u001b[0m\u001b[1;33m,\u001b[0m \u001b[0mdtype\u001b[0m\u001b[1;33m=\u001b[0m\u001b[0mdtype\u001b[0m\u001b[1;33m)\u001b[0m\u001b[1;33m\u001b[0m\u001b[1;33m\u001b[0m\u001b[0m\n\u001b[0m\u001b[0;32m   1709\u001b[0m \u001b[1;33m\u001b[0m\u001b[0m\n\u001b[0;32m   1710\u001b[0m     func = _get_take_nd_function(\n",
      "\u001b[1;31mMemoryError\u001b[0m: Unable to allocate 91.8 MiB for an array with shape (51, 235840) and data type float64"
     ]
    }
   ],
   "source": [
    "with open('log/sensitivity_analysis.csv', 'a', newline='') as out:\n",
    "    csv_out = csv.writer(out)\n",
    "    csv_out.writerow(['sensor', 'evsi', 'signal action', 'no signal action'])\n",
    "\n",
    "for ratio in ratios:\n",
    "    print(ratio)\n",
    "    \n",
    "    # prepare the data\n",
    "    dimension, x_train, x_test, x_cv = feature_remover(features_names = sensors)\n",
    "\n",
    "    # load the model \n",
    "    base_model = load_model(model_path + 'base', compile = False)\n",
    "\n",
    "    # get prediction from the base model\n",
    "    base_prediction = base_model.predict_classes(x_test, verbose = 0)\n",
    "\n",
    "    base_cost, _, _ = get_expected_cost(base_prediction, 2, 2*ratio)\n",
    "\n",
    "    upper_dict = dict()\n",
    "    for sensor in sensors:\n",
    "        remove_sensors = sensors.copy()\n",
    "        remove_sensors.remove(sensor)\n",
    "        dimension, x_train, x_test, x_cv = feature_remover(features_names = remove_sensors)\n",
    "\n",
    "        upper_model = load_model(model_path + '+' + sensor, compile= False)\n",
    "        upper_prediction = upper_model.predict_classes(x_test, verbose = 0)\n",
    "        upper_dict[sensor] = list(get_expected_cost(upper_prediction, 2, 2*ratio))\n",
    "        print(upper_dict[sensor])\n",
    "\n",
    "    # Calculate the evoi\n",
    "    evoi_dict = dict()\n",
    "    for sensor in sensors:\n",
    "        evoi_dict[sensor] = [base_cost - upper_dict[sensor][0], upper_dict[sensor][1], upper_dict[sensor][2]]\n",
    "    ranked_sensors = sorted(evoi_dict.items(), key=lambda x: x[1][0], reverse= True)\n",
    "    \n",
    "    with open('log/sensitivity_analysis.csv', 'a', newline='') as out:\n",
    "        csv_out = csv.writer(out)\n",
    "        for row in ranked_sensors:\n",
    "            csv_out.writerow(row)\n",
    "        csv_out.writerow([])"
   ]
  },
  {
   "cell_type": "code",
   "execution_count": null,
   "metadata": {
    "colab": {
     "base_uri": "https://localhost:8080/",
     "height": 677
    },
    "executionInfo": {
     "elapsed": 256687,
     "status": "ok",
     "timestamp": 1617983513556,
     "user": {
      "displayName": "Zichuan Fang",
      "photoUrl": "",
      "userId": "10100273499930448136"
     },
     "user_tz": 240
    },
    "id": "nn_8urFoeUNp",
    "outputId": "b3dcef8e-07be-4cfa-9b6a-f810fb5534bc"
   },
   "outputs": [],
   "source": [
    "# x_1, y_1 = plot_dict(evoi_dict)\n",
    "# #y_1_100 = [z * 100 for z in y_1]\n",
    "# plt.figure(figsize=(20,10))\n",
    "# sns.barplot(x_1, y_1, palette = mpl.cm.ScalarMappable(cmap=sns.dark_palette(\"#69d\", reverse=False, as_cmap=True)).to_rgba(y_1))\n",
    "# #plt.xticks(rotation=45);\n",
    "# #plt.ylim((-5.0, 16.0))\n",
    "# plt.title('Complete Feature Validation Accuracy Advantage')\n",
    "# plt.ylabel('%')\n",
    "# plt.xlabel('Masked Feature Name');"
   ]
  },
  {
   "cell_type": "code",
   "execution_count": null,
   "metadata": {
    "executionInfo": {
     "elapsed": 256680,
     "status": "ok",
     "timestamp": 1617983513557,
     "user": {
      "displayName": "Zichuan Fang",
      "photoUrl": "",
      "userId": "10100273499930448136"
     },
     "user_tz": 240
    },
    "id": "rC7pqMB6jcoj"
   },
   "outputs": [],
   "source": []
  }
 ],
 "metadata": {
  "accelerator": "GPU",
  "colab": {
   "authorship_tag": "ABX9TyNHgcpYHcW4Vp1oTcEL0se1",
   "collapsed_sections": [],
   "mount_file_id": "1hOwgiccvorzkZmE0QKm0WRe23_mUf-gX",
   "name": "EVOI.ipynb",
   "provenance": []
  },
  "kernelspec": {
   "display_name": "Python 3",
   "language": "python",
   "name": "python3"
  },
  "language_info": {
   "codemirror_mode": {
    "name": "ipython",
    "version": 3
   },
   "file_extension": ".py",
   "mimetype": "text/x-python",
   "name": "python",
   "nbconvert_exporter": "python",
   "pygments_lexer": "ipython3",
   "version": "3.7.9"
  }
 },
 "nbformat": 4,
 "nbformat_minor": 1
}
