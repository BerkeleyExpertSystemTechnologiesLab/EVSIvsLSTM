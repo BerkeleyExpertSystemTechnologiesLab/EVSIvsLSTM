{
 "cells": [
  {
   "cell_type": "code",
   "execution_count": 1,
   "metadata": {
    "executionInfo": {
     "elapsed": 2881,
     "status": "ok",
     "timestamp": 1617983259610,
     "user": {
      "displayName": "Zichuan Fang",
      "photoUrl": "",
      "userId": "10100273499930448136"
     },
     "user_tz": 240
    },
    "id": "Rn6WvlnSy6h5"
   },
   "outputs": [],
   "source": [
    "import pandas as pd\n",
    "import numpy as np\n",
    "import matplotlib.pyplot as plt\n",
    "import matplotlib as mpl\n",
    "import seaborn as sns\n",
    "import pickle\n",
    "\n",
    "# from sklearn.metrics import confusion_matrix\n",
    "# from sklearn.model_selection import train_test_split, GridSearchCV\n",
    "# from sklearn.preprocessing import StandardScaler\n",
    "\n",
    "# from tensorflow.keras.layers import LSTM, Dense, Dropout\n",
    "# from tensorflow.keras.models import Sequential, load_model\n",
    "# from tensorflow.keras.utils import to_categorical\n",
    "# from tensorflow.keras.optimizers import Adam\n",
    "# from tensorflow.keras.callbacks import CSVLogger\n",
    "# import tensorflow as tf"
   ]
  },
  {
   "cell_type": "markdown",
   "metadata": {
    "id": "VbwB4C2X3MsO"
   },
   "source": [
    "**Data Loading**"
   ]
  },
  {
   "cell_type": "code",
   "execution_count": 2,
   "metadata": {
    "executionInfo": {
     "elapsed": 11357,
     "status": "ok",
     "timestamp": 1617983268096,
     "user": {
      "displayName": "Zichuan Fang",
      "photoUrl": "",
      "userId": "10100273499930448136"
     },
     "user_tz": 240
    },
    "id": "7iGDZUhi3LnW"
   },
   "outputs": [],
   "source": [
    "colab_path = '/content/drive/MyDrive/squishy/'\n",
    "Sampled_train = pd.read_csv(\"dataset/train.csv\")\n",
    "Sampled_test = pd.read_csv(\"dataset/test.csv\")\n",
    "Sampled_cv = pd.read_csv('dataset/cv.csv')"
   ]
  },
  {
   "cell_type": "code",
   "execution_count": 5,
   "metadata": {},
   "outputs": [
    {
     "data": {
      "text/html": [
       "<div>\n",
       "<style scoped>\n",
       "    .dataframe tbody tr th:only-of-type {\n",
       "        vertical-align: middle;\n",
       "    }\n",
       "\n",
       "    .dataframe tbody tr th {\n",
       "        vertical-align: top;\n",
       "    }\n",
       "\n",
       "    .dataframe thead th {\n",
       "        text-align: right;\n",
       "    }\n",
       "</style>\n",
       "<table border=\"1\" class=\"dataframe\">\n",
       "  <thead>\n",
       "    <tr style=\"text-align: right;\">\n",
       "      <th></th>\n",
       "      <th>faultNumber</th>\n",
       "      <th>simulationRun</th>\n",
       "      <th>sample</th>\n",
       "      <th>xmeas_1</th>\n",
       "      <th>xmeas_2</th>\n",
       "      <th>xmeas_3</th>\n",
       "      <th>xmeas_4</th>\n",
       "      <th>xmeas_5</th>\n",
       "      <th>xmeas_6</th>\n",
       "      <th>xmeas_7</th>\n",
       "      <th>...</th>\n",
       "      <th>xmv_2</th>\n",
       "      <th>xmv_3</th>\n",
       "      <th>xmv_4</th>\n",
       "      <th>xmv_5</th>\n",
       "      <th>xmv_6</th>\n",
       "      <th>xmv_7</th>\n",
       "      <th>xmv_8</th>\n",
       "      <th>xmv_9</th>\n",
       "      <th>xmv_10</th>\n",
       "      <th>xmv_11</th>\n",
       "    </tr>\n",
       "  </thead>\n",
       "  <tbody>\n",
       "    <tr>\n",
       "      <th>0</th>\n",
       "      <td>0.0</td>\n",
       "      <td>41.0</td>\n",
       "      <td>1</td>\n",
       "      <td>0.24688</td>\n",
       "      <td>3647.9</td>\n",
       "      <td>4533.6</td>\n",
       "      <td>9.4248</td>\n",
       "      <td>26.922</td>\n",
       "      <td>42.385</td>\n",
       "      <td>2704.7</td>\n",
       "      <td>...</td>\n",
       "      <td>53.689</td>\n",
       "      <td>25.002</td>\n",
       "      <td>59.902</td>\n",
       "      <td>22.471</td>\n",
       "      <td>40.327</td>\n",
       "      <td>39.962</td>\n",
       "      <td>44.677</td>\n",
       "      <td>47.324</td>\n",
       "      <td>41.025</td>\n",
       "      <td>19.807</td>\n",
       "    </tr>\n",
       "    <tr>\n",
       "      <th>1</th>\n",
       "      <td>0.0</td>\n",
       "      <td>41.0</td>\n",
       "      <td>2</td>\n",
       "      <td>0.25000</td>\n",
       "      <td>3674.5</td>\n",
       "      <td>4529.1</td>\n",
       "      <td>9.2560</td>\n",
       "      <td>27.140</td>\n",
       "      <td>42.360</td>\n",
       "      <td>2705.7</td>\n",
       "      <td>...</td>\n",
       "      <td>53.744</td>\n",
       "      <td>24.695</td>\n",
       "      <td>61.624</td>\n",
       "      <td>22.421</td>\n",
       "      <td>40.185</td>\n",
       "      <td>42.975</td>\n",
       "      <td>48.771</td>\n",
       "      <td>47.409</td>\n",
       "      <td>40.873</td>\n",
       "      <td>17.919</td>\n",
       "    </tr>\n",
       "    <tr>\n",
       "      <th>2</th>\n",
       "      <td>0.0</td>\n",
       "      <td>41.0</td>\n",
       "      <td>3</td>\n",
       "      <td>0.24920</td>\n",
       "      <td>3654.1</td>\n",
       "      <td>4508.9</td>\n",
       "      <td>9.1863</td>\n",
       "      <td>26.726</td>\n",
       "      <td>42.283</td>\n",
       "      <td>2704.2</td>\n",
       "      <td>...</td>\n",
       "      <td>53.983</td>\n",
       "      <td>24.782</td>\n",
       "      <td>63.532</td>\n",
       "      <td>22.156</td>\n",
       "      <td>40.091</td>\n",
       "      <td>44.833</td>\n",
       "      <td>48.759</td>\n",
       "      <td>47.478</td>\n",
       "      <td>41.272</td>\n",
       "      <td>19.579</td>\n",
       "    </tr>\n",
       "    <tr>\n",
       "      <th>3</th>\n",
       "      <td>0.0</td>\n",
       "      <td>41.0</td>\n",
       "      <td>4</td>\n",
       "      <td>0.25134</td>\n",
       "      <td>3676.3</td>\n",
       "      <td>4554.6</td>\n",
       "      <td>9.3282</td>\n",
       "      <td>26.475</td>\n",
       "      <td>42.852</td>\n",
       "      <td>2702.0</td>\n",
       "      <td>...</td>\n",
       "      <td>53.437</td>\n",
       "      <td>24.571</td>\n",
       "      <td>63.426</td>\n",
       "      <td>21.658</td>\n",
       "      <td>40.113</td>\n",
       "      <td>39.402</td>\n",
       "      <td>46.549</td>\n",
       "      <td>47.418</td>\n",
       "      <td>40.806</td>\n",
       "      <td>16.900</td>\n",
       "    </tr>\n",
       "    <tr>\n",
       "      <th>4</th>\n",
       "      <td>0.0</td>\n",
       "      <td>41.0</td>\n",
       "      <td>5</td>\n",
       "      <td>0.25737</td>\n",
       "      <td>3676.2</td>\n",
       "      <td>4446.9</td>\n",
       "      <td>9.2917</td>\n",
       "      <td>27.190</td>\n",
       "      <td>42.568</td>\n",
       "      <td>2703.6</td>\n",
       "      <td>...</td>\n",
       "      <td>52.690</td>\n",
       "      <td>24.805</td>\n",
       "      <td>62.954</td>\n",
       "      <td>22.301</td>\n",
       "      <td>40.527</td>\n",
       "      <td>42.334</td>\n",
       "      <td>47.969</td>\n",
       "      <td>47.395</td>\n",
       "      <td>40.807</td>\n",
       "      <td>19.291</td>\n",
       "    </tr>\n",
       "    <tr>\n",
       "      <th>...</th>\n",
       "      <td>...</td>\n",
       "      <td>...</td>\n",
       "      <td>...</td>\n",
       "      <td>...</td>\n",
       "      <td>...</td>\n",
       "      <td>...</td>\n",
       "      <td>...</td>\n",
       "      <td>...</td>\n",
       "      <td>...</td>\n",
       "      <td>...</td>\n",
       "      <td>...</td>\n",
       "      <td>...</td>\n",
       "      <td>...</td>\n",
       "      <td>...</td>\n",
       "      <td>...</td>\n",
       "      <td>...</td>\n",
       "      <td>...</td>\n",
       "      <td>...</td>\n",
       "      <td>...</td>\n",
       "      <td>...</td>\n",
       "      <td>...</td>\n",
       "    </tr>\n",
       "    <tr>\n",
       "      <th>106395</th>\n",
       "      <td>20.0</td>\n",
       "      <td>34.0</td>\n",
       "      <td>496</td>\n",
       "      <td>0.20641</td>\n",
       "      <td>3605.1</td>\n",
       "      <td>4552.1</td>\n",
       "      <td>9.2731</td>\n",
       "      <td>26.630</td>\n",
       "      <td>42.174</td>\n",
       "      <td>2714.3</td>\n",
       "      <td>...</td>\n",
       "      <td>54.617</td>\n",
       "      <td>19.905</td>\n",
       "      <td>62.194</td>\n",
       "      <td>17.119</td>\n",
       "      <td>39.365</td>\n",
       "      <td>40.245</td>\n",
       "      <td>47.838</td>\n",
       "      <td>44.847</td>\n",
       "      <td>41.058</td>\n",
       "      <td>20.687</td>\n",
       "    </tr>\n",
       "    <tr>\n",
       "      <th>106396</th>\n",
       "      <td>20.0</td>\n",
       "      <td>34.0</td>\n",
       "      <td>497</td>\n",
       "      <td>0.25420</td>\n",
       "      <td>3616.3</td>\n",
       "      <td>4527.8</td>\n",
       "      <td>9.3712</td>\n",
       "      <td>26.922</td>\n",
       "      <td>42.104</td>\n",
       "      <td>2716.2</td>\n",
       "      <td>...</td>\n",
       "      <td>54.048</td>\n",
       "      <td>24.977</td>\n",
       "      <td>62.279</td>\n",
       "      <td>17.113</td>\n",
       "      <td>39.327</td>\n",
       "      <td>40.658</td>\n",
       "      <td>46.300</td>\n",
       "      <td>44.737</td>\n",
       "      <td>40.980</td>\n",
       "      <td>17.106</td>\n",
       "    </tr>\n",
       "    <tr>\n",
       "      <th>106397</th>\n",
       "      <td>20.0</td>\n",
       "      <td>34.0</td>\n",
       "      <td>498</td>\n",
       "      <td>0.25376</td>\n",
       "      <td>3643.9</td>\n",
       "      <td>4538.0</td>\n",
       "      <td>9.2911</td>\n",
       "      <td>27.154</td>\n",
       "      <td>42.133</td>\n",
       "      <td>2718.5</td>\n",
       "      <td>...</td>\n",
       "      <td>53.926</td>\n",
       "      <td>25.020</td>\n",
       "      <td>61.353</td>\n",
       "      <td>17.018</td>\n",
       "      <td>39.062</td>\n",
       "      <td>38.578</td>\n",
       "      <td>43.411</td>\n",
       "      <td>44.541</td>\n",
       "      <td>40.641</td>\n",
       "      <td>20.232</td>\n",
       "    </tr>\n",
       "    <tr>\n",
       "      <th>106398</th>\n",
       "      <td>20.0</td>\n",
       "      <td>34.0</td>\n",
       "      <td>499</td>\n",
       "      <td>0.25124</td>\n",
       "      <td>3696.7</td>\n",
       "      <td>4437.7</td>\n",
       "      <td>9.3413</td>\n",
       "      <td>26.936</td>\n",
       "      <td>42.509</td>\n",
       "      <td>2717.5</td>\n",
       "      <td>...</td>\n",
       "      <td>54.437</td>\n",
       "      <td>25.019</td>\n",
       "      <td>61.485</td>\n",
       "      <td>16.412</td>\n",
       "      <td>40.747</td>\n",
       "      <td>40.993</td>\n",
       "      <td>45.869</td>\n",
       "      <td>44.214</td>\n",
       "      <td>41.518</td>\n",
       "      <td>17.912</td>\n",
       "    </tr>\n",
       "    <tr>\n",
       "      <th>106399</th>\n",
       "      <td>20.0</td>\n",
       "      <td>34.0</td>\n",
       "      <td>500</td>\n",
       "      <td>0.25376</td>\n",
       "      <td>3659.2</td>\n",
       "      <td>4531.9</td>\n",
       "      <td>9.2622</td>\n",
       "      <td>26.911</td>\n",
       "      <td>42.275</td>\n",
       "      <td>2718.2</td>\n",
       "      <td>...</td>\n",
       "      <td>53.310</td>\n",
       "      <td>24.772</td>\n",
       "      <td>61.963</td>\n",
       "      <td>15.788</td>\n",
       "      <td>40.844</td>\n",
       "      <td>35.711</td>\n",
       "      <td>47.789</td>\n",
       "      <td>44.089</td>\n",
       "      <td>40.956</td>\n",
       "      <td>19.640</td>\n",
       "    </tr>\n",
       "  </tbody>\n",
       "</table>\n",
       "<p>106400 rows × 55 columns</p>\n",
       "</div>"
      ],
      "text/plain": [
       "        faultNumber  simulationRun  sample  xmeas_1  xmeas_2  xmeas_3  \\\n",
       "0               0.0           41.0       1  0.24688   3647.9   4533.6   \n",
       "1               0.0           41.0       2  0.25000   3674.5   4529.1   \n",
       "2               0.0           41.0       3  0.24920   3654.1   4508.9   \n",
       "3               0.0           41.0       4  0.25134   3676.3   4554.6   \n",
       "4               0.0           41.0       5  0.25737   3676.2   4446.9   \n",
       "...             ...            ...     ...      ...      ...      ...   \n",
       "106395         20.0           34.0     496  0.20641   3605.1   4552.1   \n",
       "106396         20.0           34.0     497  0.25420   3616.3   4527.8   \n",
       "106397         20.0           34.0     498  0.25376   3643.9   4538.0   \n",
       "106398         20.0           34.0     499  0.25124   3696.7   4437.7   \n",
       "106399         20.0           34.0     500  0.25376   3659.2   4531.9   \n",
       "\n",
       "        xmeas_4  xmeas_5  xmeas_6  xmeas_7  ...   xmv_2   xmv_3   xmv_4  \\\n",
       "0        9.4248   26.922   42.385   2704.7  ...  53.689  25.002  59.902   \n",
       "1        9.2560   27.140   42.360   2705.7  ...  53.744  24.695  61.624   \n",
       "2        9.1863   26.726   42.283   2704.2  ...  53.983  24.782  63.532   \n",
       "3        9.3282   26.475   42.852   2702.0  ...  53.437  24.571  63.426   \n",
       "4        9.2917   27.190   42.568   2703.6  ...  52.690  24.805  62.954   \n",
       "...         ...      ...      ...      ...  ...     ...     ...     ...   \n",
       "106395   9.2731   26.630   42.174   2714.3  ...  54.617  19.905  62.194   \n",
       "106396   9.3712   26.922   42.104   2716.2  ...  54.048  24.977  62.279   \n",
       "106397   9.2911   27.154   42.133   2718.5  ...  53.926  25.020  61.353   \n",
       "106398   9.3413   26.936   42.509   2717.5  ...  54.437  25.019  61.485   \n",
       "106399   9.2622   26.911   42.275   2718.2  ...  53.310  24.772  61.963   \n",
       "\n",
       "         xmv_5   xmv_6   xmv_7   xmv_8   xmv_9  xmv_10  xmv_11  \n",
       "0       22.471  40.327  39.962  44.677  47.324  41.025  19.807  \n",
       "1       22.421  40.185  42.975  48.771  47.409  40.873  17.919  \n",
       "2       22.156  40.091  44.833  48.759  47.478  41.272  19.579  \n",
       "3       21.658  40.113  39.402  46.549  47.418  40.806  16.900  \n",
       "4       22.301  40.527  42.334  47.969  47.395  40.807  19.291  \n",
       "...        ...     ...     ...     ...     ...     ...     ...  \n",
       "106395  17.119  39.365  40.245  47.838  44.847  41.058  20.687  \n",
       "106396  17.113  39.327  40.658  46.300  44.737  40.980  17.106  \n",
       "106397  17.018  39.062  38.578  43.411  44.541  40.641  20.232  \n",
       "106398  16.412  40.747  40.993  45.869  44.214  41.518  17.912  \n",
       "106399  15.788  40.844  35.711  47.789  44.089  40.956  19.640  \n",
       "\n",
       "[106400 rows x 55 columns]"
      ]
     },
     "execution_count": 5,
     "metadata": {},
     "output_type": "execute_result"
    }
   ],
   "source": [
    "Sampled_cv"
   ]
  },
  {
   "cell_type": "markdown",
   "metadata": {
    "id": "L8jw1UfL4Smr"
   },
   "source": [
    "**Data Preprocessing**"
   ]
  },
  {
   "cell_type": "code",
   "execution_count": 17,
   "metadata": {
    "executionInfo": {
     "elapsed": 11826,
     "status": "ok",
     "timestamp": 1617983268571,
     "user": {
      "displayName": "Zichuan Fang",
      "photoUrl": "",
      "userId": "10100273499930448136"
     },
     "user_tz": 240
    },
    "id": "a3N0oFFF3g4D"
   },
   "outputs": [],
   "source": [
    "# Drop some mysterious fault type\n",
    "Sampled_train.drop(Sampled_train[(Sampled_train.faultNumber == 3) | (Sampled_train.faultNumber == 9) | (Sampled_train.faultNumber == 15)].index, inplace = True)\n",
    "Sampled_test.drop(Sampled_test[(Sampled_test.faultNumber == 3) | (Sampled_test.faultNumber == 9) | (Sampled_test.faultNumber == 15)].index, inplace = True)\n",
    "Sampled_cv.drop(Sampled_cv[(Sampled_cv.faultNumber == 3) | (Sampled_cv.faultNumber == 9) | (Sampled_cv.faultNumber == 15)].index, inplace = True)"
   ]
  },
  {
   "cell_type": "code",
   "execution_count": 18,
   "metadata": {
    "executionInfo": {
     "elapsed": 11821,
     "status": "ok",
     "timestamp": 1617983268572,
     "user": {
      "displayName": "Zichuan Fang",
      "photoUrl": "",
      "userId": "10100273499930448136"
     },
     "user_tz": 240
    },
    "id": "6Ne7fj0s3hnJ"
   },
   "outputs": [],
   "source": [
    "# make the Y value usable in LSTM\n",
    "y_train = to_categorical(Sampled_train['faultNumber'],num_classes=21)\n",
    "y_test = to_categorical(Sampled_test['faultNumber'],num_classes=21)\n",
    "y_cv = to_categorical(Sampled_cv['faultNumber'],num_classes=21)"
   ]
  },
  {
   "cell_type": "code",
   "execution_count": 19,
   "metadata": {
    "colab": {
     "base_uri": "https://localhost:8080/"
    },
    "executionInfo": {
     "elapsed": 11815,
     "status": "ok",
     "timestamp": 1617983268572,
     "user": {
      "displayName": "Zichuan Fang",
      "photoUrl": "",
      "userId": "10100273499930448136"
     },
     "user_tz": 240
    },
    "id": "fWUrqmUU3jPl",
    "outputId": "f4eb1178-44b3-40f9-83d8-a7ba5ea9f887"
   },
   "outputs": [
    {
     "data": {
      "text/plain": [
       "array([1., 0., 0., 0., 0., 0., 0., 0., 0., 0., 0., 0., 0., 0., 0., 0., 0.,\n",
       "       0., 0., 0., 0.], dtype=float32)"
      ]
     },
     "execution_count": 19,
     "metadata": {},
     "output_type": "execute_result"
    }
   ],
   "source": [
    "y_train[0]"
   ]
  },
  {
   "cell_type": "code",
   "execution_count": 20,
   "metadata": {
    "executionInfo": {
     "elapsed": 11808,
     "status": "ok",
     "timestamp": 1617983268573,
     "user": {
      "displayName": "Zichuan Fang",
      "photoUrl": "",
      "userId": "10100273499930448136"
     },
     "user_tz": 240
    },
    "id": "TjTn2VFZ3koV"
   },
   "outputs": [],
   "source": [
    "# drop unused meta data from x\n",
    "x_train_df = Sampled_train.drop(['faultNumber','simulationRun','sample'],axis=1)\n",
    "x_test_df = Sampled_test.drop(['faultNumber','simulationRun','sample'],axis =1)\n",
    "x_cv_df = Sampled_cv.drop(['faultNumber','simulationRun','sample'],axis =1)"
   ]
  },
  {
   "cell_type": "code",
   "execution_count": 21,
   "metadata": {
    "colab": {
     "base_uri": "https://localhost:8080/",
     "height": 435
    },
    "executionInfo": {
     "elapsed": 12306,
     "status": "ok",
     "timestamp": 1617983269078,
     "user": {
      "displayName": "Zichuan Fang",
      "photoUrl": "",
      "userId": "10100273499930448136"
     },
     "user_tz": 240
    },
    "id": "DDuLM3M33mJ8",
    "outputId": "e818951e-49ef-43b5-a410-b5138fa84b27"
   },
   "outputs": [
    {
     "data": {
      "text/html": [
       "<div>\n",
       "<style scoped>\n",
       "    .dataframe tbody tr th:only-of-type {\n",
       "        vertical-align: middle;\n",
       "    }\n",
       "\n",
       "    .dataframe tbody tr th {\n",
       "        vertical-align: top;\n",
       "    }\n",
       "\n",
       "    .dataframe thead th {\n",
       "        text-align: right;\n",
       "    }\n",
       "</style>\n",
       "<table border=\"1\" class=\"dataframe\">\n",
       "  <thead>\n",
       "    <tr style=\"text-align: right;\">\n",
       "      <th></th>\n",
       "      <th>xmeas_1</th>\n",
       "      <th>xmeas_2</th>\n",
       "      <th>xmeas_3</th>\n",
       "      <th>xmeas_4</th>\n",
       "      <th>xmeas_5</th>\n",
       "      <th>xmeas_6</th>\n",
       "      <th>xmeas_7</th>\n",
       "      <th>xmeas_8</th>\n",
       "      <th>xmeas_9</th>\n",
       "      <th>xmeas_10</th>\n",
       "      <th>...</th>\n",
       "      <th>xmv_2</th>\n",
       "      <th>xmv_3</th>\n",
       "      <th>xmv_4</th>\n",
       "      <th>xmv_5</th>\n",
       "      <th>xmv_6</th>\n",
       "      <th>xmv_7</th>\n",
       "      <th>xmv_8</th>\n",
       "      <th>xmv_9</th>\n",
       "      <th>xmv_10</th>\n",
       "      <th>xmv_11</th>\n",
       "    </tr>\n",
       "  </thead>\n",
       "  <tbody>\n",
       "    <tr>\n",
       "      <th>0</th>\n",
       "      <td>0.25171</td>\n",
       "      <td>3672.4</td>\n",
       "      <td>4466.3</td>\n",
       "      <td>9.5122</td>\n",
       "      <td>27.057</td>\n",
       "      <td>42.473</td>\n",
       "      <td>2705.6</td>\n",
       "      <td>74.750</td>\n",
       "      <td>120.41</td>\n",
       "      <td>0.33642</td>\n",
       "      <td>...</td>\n",
       "      <td>54.494</td>\n",
       "      <td>24.527</td>\n",
       "      <td>59.710</td>\n",
       "      <td>22.357</td>\n",
       "      <td>40.149</td>\n",
       "      <td>40.074</td>\n",
       "      <td>47.955</td>\n",
       "      <td>47.300</td>\n",
       "      <td>42.100</td>\n",
       "      <td>15.345</td>\n",
       "    </tr>\n",
       "    <tr>\n",
       "      <th>1</th>\n",
       "      <td>0.25234</td>\n",
       "      <td>3642.2</td>\n",
       "      <td>4568.7</td>\n",
       "      <td>9.4145</td>\n",
       "      <td>26.999</td>\n",
       "      <td>42.586</td>\n",
       "      <td>2705.2</td>\n",
       "      <td>75.126</td>\n",
       "      <td>120.38</td>\n",
       "      <td>0.33801</td>\n",
       "      <td>...</td>\n",
       "      <td>53.269</td>\n",
       "      <td>24.465</td>\n",
       "      <td>60.466</td>\n",
       "      <td>22.413</td>\n",
       "      <td>39.956</td>\n",
       "      <td>36.651</td>\n",
       "      <td>45.038</td>\n",
       "      <td>47.502</td>\n",
       "      <td>40.553</td>\n",
       "      <td>16.063</td>\n",
       "    </tr>\n",
       "    <tr>\n",
       "      <th>2</th>\n",
       "      <td>0.24840</td>\n",
       "      <td>3643.1</td>\n",
       "      <td>4507.5</td>\n",
       "      <td>9.2901</td>\n",
       "      <td>26.927</td>\n",
       "      <td>42.278</td>\n",
       "      <td>2703.5</td>\n",
       "      <td>74.540</td>\n",
       "      <td>120.38</td>\n",
       "      <td>0.33702</td>\n",
       "      <td>...</td>\n",
       "      <td>54.000</td>\n",
       "      <td>24.860</td>\n",
       "      <td>60.642</td>\n",
       "      <td>22.199</td>\n",
       "      <td>40.074</td>\n",
       "      <td>41.868</td>\n",
       "      <td>44.553</td>\n",
       "      <td>47.479</td>\n",
       "      <td>41.341</td>\n",
       "      <td>20.452</td>\n",
       "    </tr>\n",
       "    <tr>\n",
       "      <th>3</th>\n",
       "      <td>0.25153</td>\n",
       "      <td>3628.3</td>\n",
       "      <td>4519.3</td>\n",
       "      <td>9.3347</td>\n",
       "      <td>26.999</td>\n",
       "      <td>42.330</td>\n",
       "      <td>2703.9</td>\n",
       "      <td>74.861</td>\n",
       "      <td>120.38</td>\n",
       "      <td>0.33648</td>\n",
       "      <td>...</td>\n",
       "      <td>53.860</td>\n",
       "      <td>24.553</td>\n",
       "      <td>61.908</td>\n",
       "      <td>21.981</td>\n",
       "      <td>40.141</td>\n",
       "      <td>40.066</td>\n",
       "      <td>48.048</td>\n",
       "      <td>47.440</td>\n",
       "      <td>40.780</td>\n",
       "      <td>17.123</td>\n",
       "    </tr>\n",
       "    <tr>\n",
       "      <th>4</th>\n",
       "      <td>0.21763</td>\n",
       "      <td>3655.8</td>\n",
       "      <td>4571.0</td>\n",
       "      <td>9.3087</td>\n",
       "      <td>26.901</td>\n",
       "      <td>42.402</td>\n",
       "      <td>2707.7</td>\n",
       "      <td>74.380</td>\n",
       "      <td>120.40</td>\n",
       "      <td>0.32114</td>\n",
       "      <td>...</td>\n",
       "      <td>53.307</td>\n",
       "      <td>21.775</td>\n",
       "      <td>61.891</td>\n",
       "      <td>22.412</td>\n",
       "      <td>37.696</td>\n",
       "      <td>38.295</td>\n",
       "      <td>44.678</td>\n",
       "      <td>47.530</td>\n",
       "      <td>41.089</td>\n",
       "      <td>18.681</td>\n",
       "    </tr>\n",
       "    <tr>\n",
       "      <th>...</th>\n",
       "      <td>...</td>\n",
       "      <td>...</td>\n",
       "      <td>...</td>\n",
       "      <td>...</td>\n",
       "      <td>...</td>\n",
       "      <td>...</td>\n",
       "      <td>...</td>\n",
       "      <td>...</td>\n",
       "      <td>...</td>\n",
       "      <td>...</td>\n",
       "      <td>...</td>\n",
       "      <td>...</td>\n",
       "      <td>...</td>\n",
       "      <td>...</td>\n",
       "      <td>...</td>\n",
       "      <td>...</td>\n",
       "      <td>...</td>\n",
       "      <td>...</td>\n",
       "      <td>...</td>\n",
       "      <td>...</td>\n",
       "      <td>...</td>\n",
       "    </tr>\n",
       "    <tr>\n",
       "      <th>103995</th>\n",
       "      <td>0.26827</td>\n",
       "      <td>3649.8</td>\n",
       "      <td>4499.3</td>\n",
       "      <td>9.3200</td>\n",
       "      <td>26.802</td>\n",
       "      <td>42.250</td>\n",
       "      <td>2699.1</td>\n",
       "      <td>74.217</td>\n",
       "      <td>120.36</td>\n",
       "      <td>0.33150</td>\n",
       "      <td>...</td>\n",
       "      <td>53.919</td>\n",
       "      <td>26.907</td>\n",
       "      <td>62.637</td>\n",
       "      <td>21.743</td>\n",
       "      <td>40.209</td>\n",
       "      <td>39.039</td>\n",
       "      <td>43.465</td>\n",
       "      <td>49.677</td>\n",
       "      <td>40.592</td>\n",
       "      <td>17.575</td>\n",
       "    </tr>\n",
       "    <tr>\n",
       "      <th>103996</th>\n",
       "      <td>0.27573</td>\n",
       "      <td>3600.2</td>\n",
       "      <td>4521.3</td>\n",
       "      <td>9.3550</td>\n",
       "      <td>26.812</td>\n",
       "      <td>42.205</td>\n",
       "      <td>2699.8</td>\n",
       "      <td>75.099</td>\n",
       "      <td>120.39</td>\n",
       "      <td>0.35967</td>\n",
       "      <td>...</td>\n",
       "      <td>54.614</td>\n",
       "      <td>26.719</td>\n",
       "      <td>61.912</td>\n",
       "      <td>21.778</td>\n",
       "      <td>42.831</td>\n",
       "      <td>42.310</td>\n",
       "      <td>44.167</td>\n",
       "      <td>49.827</td>\n",
       "      <td>40.957</td>\n",
       "      <td>18.122</td>\n",
       "    </tr>\n",
       "    <tr>\n",
       "      <th>103997</th>\n",
       "      <td>0.27337</td>\n",
       "      <td>3598.0</td>\n",
       "      <td>4486.2</td>\n",
       "      <td>9.4248</td>\n",
       "      <td>26.464</td>\n",
       "      <td>42.507</td>\n",
       "      <td>2700.2</td>\n",
       "      <td>75.996</td>\n",
       "      <td>120.38</td>\n",
       "      <td>0.35972</td>\n",
       "      <td>...</td>\n",
       "      <td>55.035</td>\n",
       "      <td>26.951</td>\n",
       "      <td>61.747</td>\n",
       "      <td>21.444</td>\n",
       "      <td>42.824</td>\n",
       "      <td>38.587</td>\n",
       "      <td>43.779</td>\n",
       "      <td>49.802</td>\n",
       "      <td>40.755</td>\n",
       "      <td>16.289</td>\n",
       "    </tr>\n",
       "    <tr>\n",
       "      <th>103998</th>\n",
       "      <td>0.23480</td>\n",
       "      <td>3657.4</td>\n",
       "      <td>4515.7</td>\n",
       "      <td>9.3286</td>\n",
       "      <td>26.779</td>\n",
       "      <td>42.215</td>\n",
       "      <td>2703.6</td>\n",
       "      <td>75.501</td>\n",
       "      <td>120.40</td>\n",
       "      <td>0.34155</td>\n",
       "      <td>...</td>\n",
       "      <td>54.206</td>\n",
       "      <td>23.104</td>\n",
       "      <td>62.557</td>\n",
       "      <td>21.862</td>\n",
       "      <td>40.438</td>\n",
       "      <td>41.286</td>\n",
       "      <td>48.560</td>\n",
       "      <td>49.791</td>\n",
       "      <td>41.916</td>\n",
       "      <td>19.503</td>\n",
       "    </tr>\n",
       "    <tr>\n",
       "      <th>103999</th>\n",
       "      <td>0.23432</td>\n",
       "      <td>3645.9</td>\n",
       "      <td>4499.5</td>\n",
       "      <td>9.3241</td>\n",
       "      <td>27.066</td>\n",
       "      <td>42.120</td>\n",
       "      <td>2705.8</td>\n",
       "      <td>74.471</td>\n",
       "      <td>120.42</td>\n",
       "      <td>0.34409</td>\n",
       "      <td>...</td>\n",
       "      <td>54.399</td>\n",
       "      <td>23.151</td>\n",
       "      <td>64.714</td>\n",
       "      <td>21.887</td>\n",
       "      <td>40.128</td>\n",
       "      <td>39.617</td>\n",
       "      <td>46.733</td>\n",
       "      <td>49.612</td>\n",
       "      <td>41.477</td>\n",
       "      <td>17.758</td>\n",
       "    </tr>\n",
       "  </tbody>\n",
       "</table>\n",
       "<p>89000 rows × 52 columns</p>\n",
       "</div>"
      ],
      "text/plain": [
       "        xmeas_1  xmeas_2  xmeas_3  xmeas_4  xmeas_5  xmeas_6  xmeas_7  \\\n",
       "0       0.25171   3672.4   4466.3   9.5122   27.057   42.473   2705.6   \n",
       "1       0.25234   3642.2   4568.7   9.4145   26.999   42.586   2705.2   \n",
       "2       0.24840   3643.1   4507.5   9.2901   26.927   42.278   2703.5   \n",
       "3       0.25153   3628.3   4519.3   9.3347   26.999   42.330   2703.9   \n",
       "4       0.21763   3655.8   4571.0   9.3087   26.901   42.402   2707.7   \n",
       "...         ...      ...      ...      ...      ...      ...      ...   \n",
       "103995  0.26827   3649.8   4499.3   9.3200   26.802   42.250   2699.1   \n",
       "103996  0.27573   3600.2   4521.3   9.3550   26.812   42.205   2699.8   \n",
       "103997  0.27337   3598.0   4486.2   9.4248   26.464   42.507   2700.2   \n",
       "103998  0.23480   3657.4   4515.7   9.3286   26.779   42.215   2703.6   \n",
       "103999  0.23432   3645.9   4499.5   9.3241   27.066   42.120   2705.8   \n",
       "\n",
       "        xmeas_8  xmeas_9  xmeas_10  ...   xmv_2   xmv_3   xmv_4   xmv_5  \\\n",
       "0        74.750   120.41   0.33642  ...  54.494  24.527  59.710  22.357   \n",
       "1        75.126   120.38   0.33801  ...  53.269  24.465  60.466  22.413   \n",
       "2        74.540   120.38   0.33702  ...  54.000  24.860  60.642  22.199   \n",
       "3        74.861   120.38   0.33648  ...  53.860  24.553  61.908  21.981   \n",
       "4        74.380   120.40   0.32114  ...  53.307  21.775  61.891  22.412   \n",
       "...         ...      ...       ...  ...     ...     ...     ...     ...   \n",
       "103995   74.217   120.36   0.33150  ...  53.919  26.907  62.637  21.743   \n",
       "103996   75.099   120.39   0.35967  ...  54.614  26.719  61.912  21.778   \n",
       "103997   75.996   120.38   0.35972  ...  55.035  26.951  61.747  21.444   \n",
       "103998   75.501   120.40   0.34155  ...  54.206  23.104  62.557  21.862   \n",
       "103999   74.471   120.42   0.34409  ...  54.399  23.151  64.714  21.887   \n",
       "\n",
       "         xmv_6   xmv_7   xmv_8   xmv_9  xmv_10  xmv_11  \n",
       "0       40.149  40.074  47.955  47.300  42.100  15.345  \n",
       "1       39.956  36.651  45.038  47.502  40.553  16.063  \n",
       "2       40.074  41.868  44.553  47.479  41.341  20.452  \n",
       "3       40.141  40.066  48.048  47.440  40.780  17.123  \n",
       "4       37.696  38.295  44.678  47.530  41.089  18.681  \n",
       "...        ...     ...     ...     ...     ...     ...  \n",
       "103995  40.209  39.039  43.465  49.677  40.592  17.575  \n",
       "103996  42.831  42.310  44.167  49.827  40.957  18.122  \n",
       "103997  42.824  38.587  43.779  49.802  40.755  16.289  \n",
       "103998  40.438  41.286  48.560  49.791  41.916  19.503  \n",
       "103999  40.128  39.617  46.733  49.612  41.477  17.758  \n",
       "\n",
       "[89000 rows x 52 columns]"
      ]
     },
     "execution_count": 21,
     "metadata": {},
     "output_type": "execute_result"
    }
   ],
   "source": [
    "x_test_df"
   ]
  },
  {
   "cell_type": "markdown",
   "metadata": {
    "id": "k3LPDwP6nuiv"
   },
   "source": [
    "**Parameters**"
   ]
  },
  {
   "cell_type": "code",
   "execution_count": 22,
   "metadata": {
    "executionInfo": {
     "elapsed": 12297,
     "status": "ok",
     "timestamp": 1617983269079,
     "user": {
      "displayName": "Zichuan Fang",
      "photoUrl": "",
      "userId": "10100273499930448136"
     },
     "user_tz": 240
    },
    "id": "HyRMCyBJ3rS_"
   },
   "outputs": [],
   "source": [
    "cost_false_positive = 2\n",
    "cost_false_negative = 16\n",
    "\n",
    "sensors = ['xmv_10', 'xmv_11', 'xmeas_19', 'xmeas_21', 'xmv_9', 'xmv_4', 'xmv_5', 'xmeas_17', 'xmeas_18', 'xmeas_9']\n",
    "model_path = 'models/' + '0_' + \"none/\"\n",
    "# get prior probability\n",
    "temp = Sampled_train['faultNumber'].value_counts()\n",
    "non_fault = temp[0]\n",
    "total = temp.sum()\n",
    "\n",
    "temp = Sampled_cv['faultNumber'].value_counts()\n",
    "non_fault += temp[0]\n",
    "total += temp.sum()\n",
    "\n",
    "P_present = non_fault/total\n",
    "P_absent = 1 - P_present"
   ]
  },
  {
   "cell_type": "markdown",
   "metadata": {
    "id": "TSp4RamV3lpj"
   },
   "source": [
    "**Utility Functions**"
   ]
  },
  {
   "cell_type": "code",
   "execution_count": 23,
   "metadata": {
    "executionInfo": {
     "elapsed": 12292,
     "status": "ok",
     "timestamp": 1617983269080,
     "user": {
      "displayName": "Zichuan Fang",
      "photoUrl": "",
      "userId": "10100273499930448136"
     },
     "user_tz": 240
    },
    "id": "H2HQcMhy3nQZ"
   },
   "outputs": [],
   "source": [
    "def feature_remover(features_names):\n",
    "    # remove a list of features from x\n",
    "    \n",
    "    dimension = dict()\n",
    "    \n",
    "    # row dimension\n",
    "    dimension['train_row'] = len(x_train_df)\n",
    "    dimension['test_row'] = len(x_test_df)\n",
    "    dimension['cv_row'] = len(x_cv_df)\n",
    "    \n",
    "    # create a copy so we don't change the original dataframe\n",
    "    x_train_masked_df = x_train_df.copy()\n",
    "    x_test_masked_df = x_test_df.copy()\n",
    "    x_cv_masked_df = x_cv_df.copy()\n",
    "    \n",
    "    for feature in features_names:\n",
    "        x_train_masked_df.drop([feature], axis = 1, inplace = True)\n",
    "        x_test_masked_df.drop([feature], axis = 1, inplace = True)\n",
    "        x_cv_masked_df.drop([feature], axis = 1, inplace = True)\n",
    "        \n",
    "    # column dimension\n",
    "    dimension['train_col'] = x_train_masked_df.shape[1]\n",
    "    dimension['test_col'] = x_test_masked_df.shape[1]\n",
    "    dimension['cv_col'] = x_cv_masked_df.shape[1]\n",
    "    \n",
    "    standard_scalar = StandardScaler()\n",
    "    x_train_masked_df = standard_scalar.fit_transform(x_train_masked_df)\n",
    "    x_test_masked_df = standard_scalar.transform(x_test_masked_df)\n",
    "    x_cv_masked_df = standard_scalar.transform(x_cv_masked_df)    \n",
    "\n",
    "    \n",
    "    x_train = np.resize(x_train_masked_df, (dimension['train_row'], dimension['train_col'], 1))\n",
    "    x_test = np.resize(x_test_masked_df, (dimension['test_row'], dimension['test_col'], 1))\n",
    "    x_cv = np.resize(x_cv_masked_df, (dimension['cv_row'], dimension['cv_col'], 1))\n",
    "    \n",
    "    return dimension, x_train, x_test, x_cv"
   ]
  },
  {
   "cell_type": "code",
   "execution_count": 24,
   "metadata": {
    "executionInfo": {
     "elapsed": 12286,
     "status": "ok",
     "timestamp": 1617983269080,
     "user": {
      "displayName": "Zichuan Fang",
      "photoUrl": "",
      "userId": "10100273499930448136"
     },
     "user_tz": 240
    },
    "id": "z_JamX_JYa0G"
   },
   "outputs": [],
   "source": [
    "# helper function to calculate probability of correctly giving signal when present\n",
    "def get_signal_present(prediction, ground_truth):\n",
    "    present_index = list()\n",
    "    for i in range(len(ground_truth)):\n",
    "        if ground_truth[i] == 0:\n",
    "            present_index.append(i)\n",
    "    \n",
    "    counter = 0\n",
    "    for index in present_index:\n",
    "        if prediction[index] == 0:\n",
    "            counter += 1\n",
    "    \n",
    "    return counter/len(present_index)\n",
    "\n",
    "# helper function to calculate probability of correctly giving signal when present\n",
    "# there should be a more generic way using operator module to merge this with the one above.\n",
    "def get_no_signal_absent(prediction, ground_truth):\n",
    "    absent_index = list()\n",
    "    for i in range(len(ground_truth)):\n",
    "        if ground_truth[i] != 0:\n",
    "            absent_index.append(i)\n",
    "    \n",
    "    counter = 0\n",
    "    for index in absent_index:\n",
    "        if prediction[index] != 0:\n",
    "            counter += 1\n",
    "    return counter/len(absent_index)"
   ]
  },
  {
   "cell_type": "code",
   "execution_count": 25,
   "metadata": {
    "executionInfo": {
     "elapsed": 12279,
     "status": "ok",
     "timestamp": 1617983269080,
     "user": {
      "displayName": "Zichuan Fang",
      "photoUrl": "",
      "userId": "10100273499930448136"
     },
     "user_tz": 240
    },
    "id": "pwb2P5FbfiIQ"
   },
   "outputs": [],
   "source": [
    "def get_expected_cost(prediction):\n",
    "  # get P(signal|present) and P(no signal|absent)\n",
    "    ground_truth = Sampled_test['faultNumber'].tolist()\n",
    "    P_signal_present = get_signal_present(prediction, ground_truth)\n",
    "    P_no_signal_absent = get_no_signal_absent(prediction, ground_truth)\n",
    "    P_signal_absent = 1 - P_no_signal_absent\n",
    "    P_no_signal_present = 1 - P_signal_present\n",
    "\n",
    "  # get P(signal)\n",
    "    P_signal = P_present * P_signal_present + P_absent * P_signal_absent\n",
    "    P_no_signal = 1 - P_signal\n",
    "\n",
    "  # bayesian probability\n",
    "    P_absent_signal = (P_signal_absent * P_absent) / P_signal\n",
    "    P_present_signal = (P_signal_present * P_present) / P_signal\n",
    "    P_absent_no_signal = (P_no_signal_absent * P_absent) / P_no_signal\n",
    "    P_present_no_signal = (P_no_signal_present * P_present) / P_no_signal\n",
    "\n",
    "  #calculate the evoi\n",
    "    evoi = P_signal * min(cost_false_positive * P_absent_signal, cost_false_negative * P_present_signal) + P_no_signal * min(cost_false_positive * P_absent_no_signal, cost_false_negative * P_present_no_signal)\n",
    "  \n",
    "    return evoi"
   ]
  },
  {
   "cell_type": "code",
   "execution_count": 26,
   "metadata": {
    "executionInfo": {
     "elapsed": 12274,
     "status": "ok",
     "timestamp": 1617983269081,
     "user": {
      "displayName": "Zichuan Fang",
      "photoUrl": "",
      "userId": "10100273499930448136"
     },
     "user_tz": 240
    },
    "id": "iD3s-nlZjl6p"
   },
   "outputs": [],
   "source": [
    "def plot_dict(dictionary):\n",
    "    x, y = [], []\n",
    "    for key, value in dictionary.items():\n",
    "        x.append(key)\n",
    "        y.append(value)\n",
    "    return x, y"
   ]
  },
  {
   "cell_type": "markdown",
   "metadata": {
    "id": "ceXXPGED4a2r"
   },
   "source": [
    "**Lower Branch**"
   ]
  },
  {
   "cell_type": "code",
   "execution_count": 27,
   "metadata": {
    "executionInfo": {
     "elapsed": 12519,
     "status": "ok",
     "timestamp": 1617983269333,
     "user": {
      "displayName": "Zichuan Fang",
      "photoUrl": "",
      "userId": "10100273499930448136"
     },
     "user_tz": 240
    },
    "id": "4bhCfxhBXiY7"
   },
   "outputs": [],
   "source": [
    "# prepare the data\n",
    "dimension, x_train, x_test, x_cv = feature_remover(features_names = sensors)"
   ]
  },
  {
   "cell_type": "code",
   "execution_count": 28,
   "metadata": {
    "colab": {
     "base_uri": "https://localhost:8080/"
    },
    "executionInfo": {
     "elapsed": 25530,
     "status": "ok",
     "timestamp": 1617983282349,
     "user": {
      "displayName": "Zichuan Fang",
      "photoUrl": "",
      "userId": "10100273499930448136"
     },
     "user_tz": 240
    },
    "id": "osAHXw0VzzUz",
    "outputId": "7335e843-d32f-4e7d-92df-fc4cf8da9e01"
   },
   "outputs": [
    {
     "name": "stdout",
     "output_type": "stream",
     "text": [
      "Model: \"sequential_14\"\n",
      "_________________________________________________________________\n",
      "Layer (type)                 Output Shape              Param #   \n",
      "=================================================================\n",
      "lstm_28 (LSTM)               (None, 42, 256)           264192    \n",
      "_________________________________________________________________\n",
      "lstm_29 (LSTM)               (None, 128)               197120    \n",
      "_________________________________________________________________\n",
      "dense_42 (Dense)             (None, 300)               38700     \n",
      "_________________________________________________________________\n",
      "dropout_14 (Dropout)         (None, 300)               0         \n",
      "_________________________________________________________________\n",
      "dense_43 (Dense)             (None, 128)               38528     \n",
      "_________________________________________________________________\n",
      "dense_44 (Dense)             (None, 21)                2709      \n",
      "=================================================================\n",
      "Total params: 541,249\n",
      "Trainable params: 541,249\n",
      "Non-trainable params: 0\n",
      "_________________________________________________________________\n"
     ]
    }
   ],
   "source": [
    "# load the model \n",
    "base_42_model = load_model(model_path + 'base', compile = False)\n",
    "base_42_model.summary()"
   ]
  },
  {
   "cell_type": "code",
   "execution_count": 29,
   "metadata": {
    "colab": {
     "base_uri": "https://localhost:8080/"
    },
    "executionInfo": {
     "elapsed": 65294,
     "status": "ok",
     "timestamp": 1617983322120,
     "user": {
      "displayName": "Zichuan Fang",
      "photoUrl": "",
      "userId": "10100273499930448136"
     },
     "user_tz": 240
    },
    "id": "FqzuIU1qPy_V",
    "outputId": "3da80b35-4ae4-4c24-868e-081943852e9b"
   },
   "outputs": [
    {
     "name": "stdout",
     "output_type": "stream",
     "text": [
      "WARNING:tensorflow:From <ipython-input-29-2250e571377b>:2: Sequential.predict_classes (from tensorflow.python.keras.engine.sequential) is deprecated and will be removed after 2021-01-01.\n",
      "Instructions for updating:\n",
      "Please use instead:* `np.argmax(model.predict(x), axis=-1)`,   if your model does multi-class classification   (e.g. if it uses a `softmax` last-layer activation).* `(model.predict(x) > 0.5).astype(\"int32\")`,   if your model does binary classification   (e.g. if it uses a `sigmoid` last-layer activation).\n",
      "2782/2782 [==============================] - 8s 3ms/step\n"
     ]
    }
   ],
   "source": [
    "# get prediction from the base model\n",
    "base_prediction = base_42_model.predict_classes(x_test, verbose = 1)"
   ]
  },
  {
   "cell_type": "code",
   "execution_count": 30,
   "metadata": {
    "executionInfo": {
     "elapsed": 66142,
     "status": "ok",
     "timestamp": 1617983322976,
     "user": {
      "displayName": "Zichuan Fang",
      "photoUrl": "",
      "userId": "10100273499930448136"
     },
     "user_tz": 240
    },
    "id": "FWgzb8lzXnL3"
   },
   "outputs": [
    {
     "data": {
      "text/plain": [
       "1.410942857142857"
      ]
     },
     "execution_count": 30,
     "metadata": {},
     "output_type": "execute_result"
    }
   ],
   "source": [
    "base_cost = get_expected_cost(base_prediction)\n",
    "base_cost"
   ]
  },
  {
   "cell_type": "markdown",
   "metadata": {
    "id": "AhpnefOHBPhE"
   },
   "source": [
    "**Upper Branch**"
   ]
  },
  {
   "cell_type": "code",
   "execution_count": 31,
   "metadata": {
    "colab": {
     "base_uri": "https://localhost:8080/"
    },
    "executionInfo": {
     "elapsed": 255690,
     "status": "ok",
     "timestamp": 1617983512530,
     "user": {
      "displayName": "Zichuan Fang",
      "photoUrl": "",
      "userId": "10100273499930448136"
     },
     "user_tz": 240
    },
    "id": "ksPammZYw7KC",
    "outputId": "e31a50a1-f8e7-418e-f94f-4e97435c9f46"
   },
   "outputs": [
    {
     "name": "stdout",
     "output_type": "stream",
     "text": [
      "2782/2782 [==============================] - 8s 3ms/step\n",
      "2782/2782 [==============================] - 8s 3ms/step\n",
      "2782/2782 [==============================] - ETA:  - 10s 4ms/step\n",
      "2782/2782 [==============================] - 9s 3ms/step\n",
      "2782/2782 [==============================] - 8s 3ms/step\n",
      "2782/2782 [==============================] - 8s 3ms/step\n",
      "2782/2782 [==============================] - 8s 3ms/step\n",
      "2782/2782 [==============================] - 8s 3ms/step\n",
      "2782/2782 [==============================] - 8s 3ms/step\n",
      "2782/2782 [==============================] - 8s 3ms/step\n"
     ]
    }
   ],
   "source": [
    "upper_dict = dict()\n",
    "for sensor in sensors:\n",
    "    remove_sensors = sensors.copy()\n",
    "    remove_sensors.remove(sensor)\n",
    "    dimension, x_train, x_test, x_cv = feature_remover(features_names = remove_sensors)\n",
    "    \n",
    "    upper_model = load_model(model_path + '+' + sensor, compile= False)\n",
    "    upper_prediction = upper_model.predict_classes(x_test, verbose = 1)\n",
    "    upper_dict[sensor] = get_expected_cost(upper_prediction)"
   ]
  },
  {
   "cell_type": "code",
   "execution_count": 32,
   "metadata": {
    "colab": {
     "base_uri": "https://localhost:8080/"
    },
    "executionInfo": {
     "elapsed": 255684,
     "status": "ok",
     "timestamp": 1617983512531,
     "user": {
      "displayName": "Zichuan Fang",
      "photoUrl": "",
      "userId": "10100273499930448136"
     },
     "user_tz": 240
    },
    "id": "6eUh2AssEJql",
    "outputId": "7cb80245-6a49-48fb-8e05-303bf6c74162"
   },
   "outputs": [
    {
     "data": {
      "text/plain": [
       "{'xmv_10': 0.5809481049562681,\n",
       " 'xmeas_33': 0.7804454810495626,\n",
       " 'xmv_4': 0.781392419825073,\n",
       " 'xmeas_25': 0.8530431486880468,\n",
       " 'xmeas_21': 0.8312798833819243,\n",
       " 'xmv_11': 1.1598209912536444,\n",
       " 'xmeas_17': 0.9060291545189505,\n",
       " 'xmeas_22': 0.8621860058309039,\n",
       " 'xmeas_35': 0.8661737609329445,\n",
       " 'xmeas_30': 0.9216775510204083}"
      ]
     },
     "execution_count": 32,
     "metadata": {},
     "output_type": "execute_result"
    }
   ],
   "source": [
    "upper_dict"
   ]
  },
  {
   "cell_type": "markdown",
   "metadata": {
    "id": "MwG7vYPGeMUW"
   },
   "source": [
    "**EVOI**"
   ]
  },
  {
   "cell_type": "code",
   "execution_count": 33,
   "metadata": {
    "colab": {
     "base_uri": "https://localhost:8080/"
    },
    "executionInfo": {
     "elapsed": 255678,
     "status": "ok",
     "timestamp": 1617983512531,
     "user": {
      "displayName": "Zichuan Fang",
      "photoUrl": "",
      "userId": "10100273499930448136"
     },
     "user_tz": 240
    },
    "id": "-0Hd509_EMjs",
    "outputId": "c929da98-4bbe-4b9d-80de-4858ef129fd0"
   },
   "outputs": [
    {
     "data": {
      "text/plain": [
       "{'xmv_10': 0.8299947521865889,\n",
       " 'xmeas_33': 0.6304973760932945,\n",
       " 'xmv_4': 0.629550437317784,\n",
       " 'xmeas_25': 0.5578997084548103,\n",
       " 'xmeas_21': 0.5796629737609328,\n",
       " 'xmv_11': 0.2511218658892127,\n",
       " 'xmeas_17': 0.5049137026239066,\n",
       " 'xmeas_22': 0.5487568513119532,\n",
       " 'xmeas_35': 0.5447690962099125,\n",
       " 'xmeas_30': 0.4892653061224488}"
      ]
     },
     "execution_count": 33,
     "metadata": {},
     "output_type": "execute_result"
    }
   ],
   "source": [
    "# Calculate the evoi\n",
    "evoi_dict = dict()\n",
    "for sensor in sensors:\n",
    "    evoi_dict[sensor] = base_cost - upper_dict[sensor]\n",
    "evoi_dict"
   ]
  },
  {
   "cell_type": "code",
   "execution_count": 34,
   "metadata": {
    "colab": {
     "base_uri": "https://localhost:8080/"
    },
    "executionInfo": {
     "elapsed": 255786,
     "status": "ok",
     "timestamp": 1617983512647,
     "user": {
      "displayName": "Zichuan Fang",
      "photoUrl": "",
      "userId": "10100273499930448136"
     },
     "user_tz": 240
    },
    "id": "2PRpV6ZweOih",
    "outputId": "05ce02a8-1564-4582-a0e3-8786843a57f0"
   },
   "outputs": [
    {
     "data": {
      "text/plain": [
       "[('xmv_10', 0.8299947521865889),\n",
       " ('xmeas_33', 0.6304973760932945),\n",
       " ('xmv_4', 0.629550437317784),\n",
       " ('xmeas_21', 0.5796629737609328),\n",
       " ('xmeas_25', 0.5578997084548103),\n",
       " ('xmeas_22', 0.5487568513119532),\n",
       " ('xmeas_35', 0.5447690962099125),\n",
       " ('xmeas_17', 0.5049137026239066),\n",
       " ('xmeas_30', 0.4892653061224488),\n",
       " ('xmv_11', 0.2511218658892127)]"
      ]
     },
     "execution_count": 34,
     "metadata": {},
     "output_type": "execute_result"
    }
   ],
   "source": [
    "sorted(evoi_dict.items(), key=lambda x: x[1], reverse= True)"
   ]
  },
  {
   "cell_type": "code",
   "execution_count": 35,
   "metadata": {
    "colab": {
     "base_uri": "https://localhost:8080/",
     "height": 677
    },
    "executionInfo": {
     "elapsed": 256687,
     "status": "ok",
     "timestamp": 1617983513556,
     "user": {
      "displayName": "Zichuan Fang",
      "photoUrl": "",
      "userId": "10100273499930448136"
     },
     "user_tz": 240
    },
    "id": "nn_8urFoeUNp",
    "outputId": "b3dcef8e-07be-4cfa-9b6a-f810fb5534bc"
   },
   "outputs": [
    {
     "data": {
      "image/png": "[encoded data removed]",
      "text/plain": [
       "<Figure size 1440x720 with 1 Axes>"
      ]
     },
     "metadata": {
      "needs_background": "light"
     },
     "output_type": "display_data"
    }
   ],
   "source": [
    "x_1, y_1 = plot_dict(evoi_dict)\n",
    "#y_1_100 = [z * 100 for z in y_1]\n",
    "plt.figure(figsize=(20,10))\n",
    "sns.barplot(x_1, y_1, palette = mpl.cm.ScalarMappable(cmap=sns.dark_palette(\"#69d\", reverse=False, as_cmap=True)).to_rgba(y_1))\n",
    "#plt.xticks(rotation=45);\n",
    "#plt.ylim((-5.0, 16.0))\n",
    "plt.title('Complete Feature Validation Accuracy Advantage')\n",
    "plt.ylabel('%')\n",
    "plt.xlabel('Masked Feature Name');"
   ]
  },
  {
   "cell_type": "code",
   "execution_count": null,
   "metadata": {
    "executionInfo": {
     "elapsed": 256680,
     "status": "ok",
     "timestamp": 1617983513557,
     "user": {
      "displayName": "Zichuan Fang",
      "photoUrl": "",
      "userId": "10100273499930448136"
     },
     "user_tz": 240
    },
    "id": "rC7pqMB6jcoj"
   },
   "outputs": [],
   "source": []
  }
 ],
 "metadata": {
  "accelerator": "GPU",
  "colab": {
   "authorship_tag": "ABX9TyNHgcpYHcW4Vp1oTcEL0se1",
   "collapsed_sections": [],
   "mount_file_id": "1hOwgiccvorzkZmE0QKm0WRe23_mUf-gX",
   "name": "EVOI.ipynb",
   "provenance": []
  },
  "kernelspec": {
   "display_name": "Python 3",
   "language": "python",
   "name": "python3"
  },
  "language_info": {
   "codemirror_mode": {
    "name": "ipython",
    "version": 3
   },
   "file_extension": ".py",
   "mimetype": "text/x-python",
   "name": "python",
   "nbconvert_exporter": "python",
   "pygments_lexer": "ipython3",
   "version": "3.7.9"
  }
 },
 "nbformat": 4,
 "nbformat_minor": 1
}
