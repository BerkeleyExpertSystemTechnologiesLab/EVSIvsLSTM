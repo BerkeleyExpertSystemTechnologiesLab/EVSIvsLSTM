{
  "nbformat": 4,
  "nbformat_minor": 0,
  "metadata": {
    "colab": {
      "name": "ForwardStepwiseSelection.ipynb",
      "provenance": [],
      "collapsed_sections": [
        "RnXPLeK4M207",
        "qMQQTzfFM208",
        "zmwu8MwwM20_",
        "6jF-qzWLM21C",
        "SHrc4Y0GKgpo",
        "Lm3iQwl0clcJ",
        "xYbF4k4YM21D",
        "TYIh1VdVJRwa",
        "PvgD0jgwM21E"
      ],
      "toc_visible": true,
      "machine_shape": "hm"
    },
    "kernelspec": {
      "display_name": "Python 3",
      "language": "python",
      "name": "python3"
    },
    "language_info": {
      "codemirror_mode": {
        "name": "ipython",
        "version": 3
      },
      "file_extension": ".py",
      "mimetype": "text/x-python",
      "name": "python",
      "nbconvert_exporter": "python",
      "pygments_lexer": "ipython3",
      "version": "3.7.9"
    },
    "accelerator": "GPU"
  },
  "cells": [
    {
      "cell_type": "code",
      "metadata": {
        "colab": {
          "base_uri": "https://localhost:8080/"
        },
        "id": "srbICu-EM20m",
        "outputId": "98f5eb3c-2a31-4f48-8280-cdf8954a52ec"
      },
      "source": [
        "!pip install pyreadr\n",
        "\n",
        "import pyreadr\n",
        "import pandas as pd\n",
        "import numpy as np\n",
        "import matplotlib.pyplot as plt\n",
        "import seaborn as sns\n",
        "import pickle\n",
        "\n",
        "from sklearn.metrics import confusion_matrix\n",
        "from sklearn.model_selection import train_test_split, GridSearchCV\n",
        "from sklearn.ensemble import RandomForestClassifier\n",
        "from sklearn.model_selection import GridSearchCV\n",
        "from sklearn.model_selection import RandomizedSearchCV\n",
        "from sklearn.preprocessing import StandardScaler\n",
        "from sklearn.linear_model import LogisticRegression\n",
        "\n",
        "from tensorflow.keras.layers import LSTM, Dense, Dropout, Flatten, Dropout, Conv1D, MaxPooling2D\n",
        "from tensorflow.keras.models import Sequential\n",
        "from tensorflow.keras.utils import to_categorical\n",
        "from tensorflow.keras.optimizers import Adam\n",
        "from keras.layers.advanced_activations import LeakyReLU\n"
      ],
      "execution_count": 10,
      "outputs": [
        {
          "output_type": "stream",
          "text": [
            "Requirement already satisfied: pyreadr in /usr/local/lib/python3.7/dist-packages (0.4.1)\n",
            "Requirement already satisfied: pandas>0.24.0 in /usr/local/lib/python3.7/dist-packages (from pyreadr) (1.1.5)\n",
            "Requirement already satisfied: pytz>=2017.2 in /usr/local/lib/python3.7/dist-packages (from pandas>0.24.0->pyreadr) (2018.9)\n",
            "Requirement already satisfied: numpy>=1.15.4 in /usr/local/lib/python3.7/dist-packages (from pandas>0.24.0->pyreadr) (1.19.5)\n",
            "Requirement already satisfied: python-dateutil>=2.7.3 in /usr/local/lib/python3.7/dist-packages (from pandas>0.24.0->pyreadr) (2.8.1)\n",
            "Requirement already satisfied: six>=1.5 in /usr/local/lib/python3.7/dist-packages (from python-dateutil>=2.7.3->pandas>0.24.0->pyreadr) (1.15.0)\n"
          ],
          "name": "stdout"
        }
      ]
    },
    {
      "cell_type": "code",
      "metadata": {
        "colab": {
          "base_uri": "https://localhost:8080/"
        },
        "id": "Oj5wvuBNN_YJ",
        "outputId": "98724c3f-cdfa-458e-f5ea-ef57399795ab"
      },
      "source": [
        "from google.colab import drive\n",
        "drive.mount('/content/drive')"
      ],
      "execution_count": 11,
      "outputs": [
        {
          "output_type": "stream",
          "text": [
            "Drive already mounted at /content/drive; to attempt to forcibly remount, call drive.mount(\"/content/drive\", force_remount=True).\n"
          ],
          "name": "stdout"
        }
      ]
    },
    {
      "cell_type": "markdown",
      "metadata": {
        "id": "RnXPLeK4M207"
      },
      "source": [
        "# Loading From CSV"
      ]
    },
    {
      "cell_type": "code",
      "metadata": {
        "id": "kRhB02QhM207"
      },
      "source": [
        "Sampled_train = pd.read_csv(\"/content/drive/MyDrive/research/dataset/train.csv\")\n",
        "Sampled_test = pd.read_csv(\"/content/drive/MyDrive/research/dataset/test.csv\")\n",
        "Sampled_cv = pd.read_csv('/content/drive/MyDrive/research/dataset/cv.csv')"
      ],
      "execution_count": 12,
      "outputs": []
    },
    {
      "cell_type": "code",
      "metadata": {
        "colab": {
          "base_uri": "https://localhost:8080/",
          "height": 439
        },
        "id": "7gFPNEvFM208",
        "outputId": "a332efbd-34d0-4d3e-9d52-e9e754802eeb"
      },
      "source": [
        "Sampled_train"
      ],
      "execution_count": 13,
      "outputs": [
        {
          "output_type": "execute_result",
          "data": {
            "text/html": [
              "<div>\n",
              "<style scoped>\n",
              "    .dataframe tbody tr th:only-of-type {\n",
              "        vertical-align: middle;\n",
              "    }\n",
              "\n",
              "    .dataframe tbody tr th {\n",
              "        vertical-align: top;\n",
              "    }\n",
              "\n",
              "    .dataframe thead th {\n",
              "        text-align: right;\n",
              "    }\n",
              "</style>\n",
              "<table border=\"1\" class=\"dataframe\">\n",
              "  <thead>\n",
              "    <tr style=\"text-align: right;\">\n",
              "      <th></th>\n",
              "      <th>faultNumber</th>\n",
              "      <th>simulationRun</th>\n",
              "      <th>sample</th>\n",
              "      <th>xmeas_1</th>\n",
              "      <th>xmeas_2</th>\n",
              "      <th>xmeas_3</th>\n",
              "      <th>xmeas_4</th>\n",
              "      <th>xmeas_5</th>\n",
              "      <th>xmeas_6</th>\n",
              "      <th>xmeas_7</th>\n",
              "      <th>xmeas_8</th>\n",
              "      <th>xmeas_9</th>\n",
              "      <th>xmeas_10</th>\n",
              "      <th>xmeas_11</th>\n",
              "      <th>xmeas_12</th>\n",
              "      <th>xmeas_13</th>\n",
              "      <th>xmeas_14</th>\n",
              "      <th>xmeas_15</th>\n",
              "      <th>xmeas_16</th>\n",
              "      <th>xmeas_17</th>\n",
              "      <th>xmeas_18</th>\n",
              "      <th>xmeas_19</th>\n",
              "      <th>xmeas_20</th>\n",
              "      <th>xmeas_21</th>\n",
              "      <th>xmeas_22</th>\n",
              "      <th>xmeas_23</th>\n",
              "      <th>xmeas_24</th>\n",
              "      <th>xmeas_25</th>\n",
              "      <th>xmeas_26</th>\n",
              "      <th>xmeas_27</th>\n",
              "      <th>xmeas_28</th>\n",
              "      <th>xmeas_29</th>\n",
              "      <th>xmeas_30</th>\n",
              "      <th>xmeas_31</th>\n",
              "      <th>xmeas_32</th>\n",
              "      <th>xmeas_33</th>\n",
              "      <th>xmeas_34</th>\n",
              "      <th>xmeas_35</th>\n",
              "      <th>xmeas_36</th>\n",
              "      <th>xmeas_37</th>\n",
              "      <th>xmeas_38</th>\n",
              "      <th>xmeas_39</th>\n",
              "      <th>xmeas_40</th>\n",
              "      <th>xmeas_41</th>\n",
              "      <th>xmv_1</th>\n",
              "      <th>xmv_2</th>\n",
              "      <th>xmv_3</th>\n",
              "      <th>xmv_4</th>\n",
              "      <th>xmv_5</th>\n",
              "      <th>xmv_6</th>\n",
              "      <th>xmv_7</th>\n",
              "      <th>xmv_8</th>\n",
              "      <th>xmv_9</th>\n",
              "      <th>xmv_10</th>\n",
              "      <th>xmv_11</th>\n",
              "    </tr>\n",
              "  </thead>\n",
              "  <tbody>\n",
              "    <tr>\n",
              "      <th>0</th>\n",
              "      <td>0.0</td>\n",
              "      <td>1.0</td>\n",
              "      <td>1</td>\n",
              "      <td>0.25038</td>\n",
              "      <td>3674.0</td>\n",
              "      <td>4529.0</td>\n",
              "      <td>9.2320</td>\n",
              "      <td>26.889</td>\n",
              "      <td>42.402</td>\n",
              "      <td>2704.3</td>\n",
              "      <td>74.863</td>\n",
              "      <td>120.41</td>\n",
              "      <td>0.33818</td>\n",
              "      <td>80.044</td>\n",
              "      <td>51.435</td>\n",
              "      <td>2632.9</td>\n",
              "      <td>25.029</td>\n",
              "      <td>50.528</td>\n",
              "      <td>3101.1</td>\n",
              "      <td>22.819</td>\n",
              "      <td>65.732</td>\n",
              "      <td>229.61</td>\n",
              "      <td>341.22</td>\n",
              "      <td>94.640</td>\n",
              "      <td>77.047</td>\n",
              "      <td>32.188</td>\n",
              "      <td>8.8933</td>\n",
              "      <td>26.383</td>\n",
              "      <td>6.8820</td>\n",
              "      <td>18.776</td>\n",
              "      <td>1.6567</td>\n",
              "      <td>32.958</td>\n",
              "      <td>13.823</td>\n",
              "      <td>23.978</td>\n",
              "      <td>1.2565</td>\n",
              "      <td>18.579</td>\n",
              "      <td>2.2633</td>\n",
              "      <td>4.8436</td>\n",
              "      <td>2.2986</td>\n",
              "      <td>0.017866</td>\n",
              "      <td>0.83570</td>\n",
              "      <td>0.098577</td>\n",
              "      <td>53.724</td>\n",
              "      <td>43.828</td>\n",
              "      <td>62.881</td>\n",
              "      <td>53.744</td>\n",
              "      <td>24.657</td>\n",
              "      <td>62.544</td>\n",
              "      <td>22.137</td>\n",
              "      <td>39.935</td>\n",
              "      <td>42.323</td>\n",
              "      <td>47.757</td>\n",
              "      <td>47.510</td>\n",
              "      <td>41.258</td>\n",
              "      <td>18.447</td>\n",
              "    </tr>\n",
              "    <tr>\n",
              "      <th>1</th>\n",
              "      <td>0.0</td>\n",
              "      <td>1.0</td>\n",
              "      <td>2</td>\n",
              "      <td>0.25109</td>\n",
              "      <td>3659.4</td>\n",
              "      <td>4556.6</td>\n",
              "      <td>9.4264</td>\n",
              "      <td>26.721</td>\n",
              "      <td>42.576</td>\n",
              "      <td>2705.0</td>\n",
              "      <td>75.000</td>\n",
              "      <td>120.41</td>\n",
              "      <td>0.33620</td>\n",
              "      <td>80.078</td>\n",
              "      <td>50.154</td>\n",
              "      <td>2633.8</td>\n",
              "      <td>24.419</td>\n",
              "      <td>48.772</td>\n",
              "      <td>3102.0</td>\n",
              "      <td>23.333</td>\n",
              "      <td>65.716</td>\n",
              "      <td>230.54</td>\n",
              "      <td>341.30</td>\n",
              "      <td>94.595</td>\n",
              "      <td>77.434</td>\n",
              "      <td>32.188</td>\n",
              "      <td>8.8933</td>\n",
              "      <td>26.383</td>\n",
              "      <td>6.8820</td>\n",
              "      <td>18.776</td>\n",
              "      <td>1.6567</td>\n",
              "      <td>32.958</td>\n",
              "      <td>13.823</td>\n",
              "      <td>23.978</td>\n",
              "      <td>1.2565</td>\n",
              "      <td>18.579</td>\n",
              "      <td>2.2633</td>\n",
              "      <td>4.8436</td>\n",
              "      <td>2.2986</td>\n",
              "      <td>0.017866</td>\n",
              "      <td>0.83570</td>\n",
              "      <td>0.098577</td>\n",
              "      <td>53.724</td>\n",
              "      <td>43.828</td>\n",
              "      <td>63.132</td>\n",
              "      <td>53.414</td>\n",
              "      <td>24.588</td>\n",
              "      <td>59.259</td>\n",
              "      <td>22.084</td>\n",
              "      <td>40.176</td>\n",
              "      <td>38.554</td>\n",
              "      <td>43.692</td>\n",
              "      <td>47.427</td>\n",
              "      <td>41.359</td>\n",
              "      <td>17.194</td>\n",
              "    </tr>\n",
              "    <tr>\n",
              "      <th>2</th>\n",
              "      <td>0.0</td>\n",
              "      <td>1.0</td>\n",
              "      <td>3</td>\n",
              "      <td>0.25038</td>\n",
              "      <td>3660.3</td>\n",
              "      <td>4477.8</td>\n",
              "      <td>9.4426</td>\n",
              "      <td>26.875</td>\n",
              "      <td>42.070</td>\n",
              "      <td>2706.2</td>\n",
              "      <td>74.771</td>\n",
              "      <td>120.42</td>\n",
              "      <td>0.33563</td>\n",
              "      <td>80.220</td>\n",
              "      <td>50.302</td>\n",
              "      <td>2635.5</td>\n",
              "      <td>25.244</td>\n",
              "      <td>50.071</td>\n",
              "      <td>3103.5</td>\n",
              "      <td>21.924</td>\n",
              "      <td>65.732</td>\n",
              "      <td>230.08</td>\n",
              "      <td>341.38</td>\n",
              "      <td>94.605</td>\n",
              "      <td>77.466</td>\n",
              "      <td>31.767</td>\n",
              "      <td>8.7694</td>\n",
              "      <td>26.095</td>\n",
              "      <td>6.8259</td>\n",
              "      <td>18.961</td>\n",
              "      <td>1.6292</td>\n",
              "      <td>32.985</td>\n",
              "      <td>13.742</td>\n",
              "      <td>23.897</td>\n",
              "      <td>1.3001</td>\n",
              "      <td>18.765</td>\n",
              "      <td>2.2602</td>\n",
              "      <td>4.8543</td>\n",
              "      <td>2.3900</td>\n",
              "      <td>0.017866</td>\n",
              "      <td>0.83570</td>\n",
              "      <td>0.098577</td>\n",
              "      <td>53.724</td>\n",
              "      <td>43.828</td>\n",
              "      <td>63.117</td>\n",
              "      <td>54.357</td>\n",
              "      <td>24.666</td>\n",
              "      <td>61.275</td>\n",
              "      <td>22.380</td>\n",
              "      <td>40.244</td>\n",
              "      <td>38.990</td>\n",
              "      <td>46.699</td>\n",
              "      <td>47.468</td>\n",
              "      <td>41.199</td>\n",
              "      <td>20.530</td>\n",
              "    </tr>\n",
              "    <tr>\n",
              "      <th>3</th>\n",
              "      <td>0.0</td>\n",
              "      <td>1.0</td>\n",
              "      <td>4</td>\n",
              "      <td>0.24977</td>\n",
              "      <td>3661.3</td>\n",
              "      <td>4512.1</td>\n",
              "      <td>9.4776</td>\n",
              "      <td>26.758</td>\n",
              "      <td>42.063</td>\n",
              "      <td>2707.2</td>\n",
              "      <td>75.224</td>\n",
              "      <td>120.39</td>\n",
              "      <td>0.33553</td>\n",
              "      <td>80.305</td>\n",
              "      <td>49.990</td>\n",
              "      <td>2635.6</td>\n",
              "      <td>23.268</td>\n",
              "      <td>50.435</td>\n",
              "      <td>3102.8</td>\n",
              "      <td>22.948</td>\n",
              "      <td>65.781</td>\n",
              "      <td>227.91</td>\n",
              "      <td>341.71</td>\n",
              "      <td>94.473</td>\n",
              "      <td>77.443</td>\n",
              "      <td>31.767</td>\n",
              "      <td>8.7694</td>\n",
              "      <td>26.095</td>\n",
              "      <td>6.8259</td>\n",
              "      <td>18.961</td>\n",
              "      <td>1.6292</td>\n",
              "      <td>32.985</td>\n",
              "      <td>13.742</td>\n",
              "      <td>23.897</td>\n",
              "      <td>1.3001</td>\n",
              "      <td>18.765</td>\n",
              "      <td>2.2602</td>\n",
              "      <td>4.8543</td>\n",
              "      <td>2.3900</td>\n",
              "      <td>0.017866</td>\n",
              "      <td>0.83570</td>\n",
              "      <td>0.098577</td>\n",
              "      <td>53.724</td>\n",
              "      <td>43.828</td>\n",
              "      <td>63.100</td>\n",
              "      <td>53.946</td>\n",
              "      <td>24.725</td>\n",
              "      <td>59.856</td>\n",
              "      <td>22.277</td>\n",
              "      <td>40.257</td>\n",
              "      <td>38.072</td>\n",
              "      <td>47.541</td>\n",
              "      <td>47.658</td>\n",
              "      <td>41.643</td>\n",
              "      <td>18.089</td>\n",
              "    </tr>\n",
              "    <tr>\n",
              "      <th>4</th>\n",
              "      <td>0.0</td>\n",
              "      <td>1.0</td>\n",
              "      <td>5</td>\n",
              "      <td>0.29405</td>\n",
              "      <td>3679.0</td>\n",
              "      <td>4497.0</td>\n",
              "      <td>9.3381</td>\n",
              "      <td>26.889</td>\n",
              "      <td>42.650</td>\n",
              "      <td>2705.1</td>\n",
              "      <td>75.388</td>\n",
              "      <td>120.39</td>\n",
              "      <td>0.32632</td>\n",
              "      <td>80.064</td>\n",
              "      <td>51.310</td>\n",
              "      <td>2632.4</td>\n",
              "      <td>26.099</td>\n",
              "      <td>50.480</td>\n",
              "      <td>3103.5</td>\n",
              "      <td>22.808</td>\n",
              "      <td>65.788</td>\n",
              "      <td>231.37</td>\n",
              "      <td>341.11</td>\n",
              "      <td>94.678</td>\n",
              "      <td>76.947</td>\n",
              "      <td>32.322</td>\n",
              "      <td>8.5821</td>\n",
              "      <td>26.769</td>\n",
              "      <td>6.8688</td>\n",
              "      <td>18.782</td>\n",
              "      <td>1.6396</td>\n",
              "      <td>33.071</td>\n",
              "      <td>13.834</td>\n",
              "      <td>24.228</td>\n",
              "      <td>1.0938</td>\n",
              "      <td>18.666</td>\n",
              "      <td>2.2193</td>\n",
              "      <td>4.8304</td>\n",
              "      <td>2.2416</td>\n",
              "      <td>0.017866</td>\n",
              "      <td>0.83570</td>\n",
              "      <td>0.098577</td>\n",
              "      <td>53.724</td>\n",
              "      <td>43.828</td>\n",
              "      <td>63.313</td>\n",
              "      <td>53.658</td>\n",
              "      <td>28.797</td>\n",
              "      <td>60.717</td>\n",
              "      <td>21.947</td>\n",
              "      <td>39.144</td>\n",
              "      <td>41.955</td>\n",
              "      <td>47.645</td>\n",
              "      <td>47.346</td>\n",
              "      <td>41.507</td>\n",
              "      <td>18.461</td>\n",
              "    </tr>\n",
              "    <tr>\n",
              "      <th>...</th>\n",
              "      <td>...</td>\n",
              "      <td>...</td>\n",
              "      <td>...</td>\n",
              "      <td>...</td>\n",
              "      <td>...</td>\n",
              "      <td>...</td>\n",
              "      <td>...</td>\n",
              "      <td>...</td>\n",
              "      <td>...</td>\n",
              "      <td>...</td>\n",
              "      <td>...</td>\n",
              "      <td>...</td>\n",
              "      <td>...</td>\n",
              "      <td>...</td>\n",
              "      <td>...</td>\n",
              "      <td>...</td>\n",
              "      <td>...</td>\n",
              "      <td>...</td>\n",
              "      <td>...</td>\n",
              "      <td>...</td>\n",
              "      <td>...</td>\n",
              "      <td>...</td>\n",
              "      <td>...</td>\n",
              "      <td>...</td>\n",
              "      <td>...</td>\n",
              "      <td>...</td>\n",
              "      <td>...</td>\n",
              "      <td>...</td>\n",
              "      <td>...</td>\n",
              "      <td>...</td>\n",
              "      <td>...</td>\n",
              "      <td>...</td>\n",
              "      <td>...</td>\n",
              "      <td>...</td>\n",
              "      <td>...</td>\n",
              "      <td>...</td>\n",
              "      <td>...</td>\n",
              "      <td>...</td>\n",
              "      <td>...</td>\n",
              "      <td>...</td>\n",
              "      <td>...</td>\n",
              "      <td>...</td>\n",
              "      <td>...</td>\n",
              "      <td>...</td>\n",
              "      <td>...</td>\n",
              "      <td>...</td>\n",
              "      <td>...</td>\n",
              "      <td>...</td>\n",
              "      <td>...</td>\n",
              "      <td>...</td>\n",
              "      <td>...</td>\n",
              "      <td>...</td>\n",
              "      <td>...</td>\n",
              "      <td>...</td>\n",
              "      <td>...</td>\n",
              "    </tr>\n",
              "    <tr>\n",
              "      <th>270395</th>\n",
              "      <td>20.0</td>\n",
              "      <td>24.0</td>\n",
              "      <td>496</td>\n",
              "      <td>0.28437</td>\n",
              "      <td>3645.3</td>\n",
              "      <td>4476.8</td>\n",
              "      <td>9.3158</td>\n",
              "      <td>27.041</td>\n",
              "      <td>42.017</td>\n",
              "      <td>2691.9</td>\n",
              "      <td>74.217</td>\n",
              "      <td>120.41</td>\n",
              "      <td>0.33693</td>\n",
              "      <td>79.951</td>\n",
              "      <td>50.860</td>\n",
              "      <td>2610.8</td>\n",
              "      <td>24.668</td>\n",
              "      <td>48.663</td>\n",
              "      <td>3093.0</td>\n",
              "      <td>22.379</td>\n",
              "      <td>65.982</td>\n",
              "      <td>235.45</td>\n",
              "      <td>336.23</td>\n",
              "      <td>94.645</td>\n",
              "      <td>76.700</td>\n",
              "      <td>32.044</td>\n",
              "      <td>8.7699</td>\n",
              "      <td>26.246</td>\n",
              "      <td>6.8068</td>\n",
              "      <td>19.346</td>\n",
              "      <td>1.6191</td>\n",
              "      <td>32.682</td>\n",
              "      <td>13.709</td>\n",
              "      <td>23.334</td>\n",
              "      <td>1.2064</td>\n",
              "      <td>18.913</td>\n",
              "      <td>2.2850</td>\n",
              "      <td>4.7707</td>\n",
              "      <td>2.2680</td>\n",
              "      <td>0.018453</td>\n",
              "      <td>0.85368</td>\n",
              "      <td>0.088404</td>\n",
              "      <td>53.842</td>\n",
              "      <td>44.153</td>\n",
              "      <td>63.581</td>\n",
              "      <td>53.831</td>\n",
              "      <td>27.820</td>\n",
              "      <td>58.953</td>\n",
              "      <td>19.810</td>\n",
              "      <td>40.356</td>\n",
              "      <td>40.631</td>\n",
              "      <td>43.441</td>\n",
              "      <td>49.613</td>\n",
              "      <td>42.208</td>\n",
              "      <td>19.711</td>\n",
              "    </tr>\n",
              "    <tr>\n",
              "      <th>270396</th>\n",
              "      <td>20.0</td>\n",
              "      <td>24.0</td>\n",
              "      <td>497</td>\n",
              "      <td>0.27925</td>\n",
              "      <td>3687.0</td>\n",
              "      <td>4471.1</td>\n",
              "      <td>9.2843</td>\n",
              "      <td>26.594</td>\n",
              "      <td>41.935</td>\n",
              "      <td>2692.1</td>\n",
              "      <td>74.513</td>\n",
              "      <td>120.39</td>\n",
              "      <td>0.32284</td>\n",
              "      <td>79.890</td>\n",
              "      <td>50.685</td>\n",
              "      <td>2610.6</td>\n",
              "      <td>27.534</td>\n",
              "      <td>49.249</td>\n",
              "      <td>3090.2</td>\n",
              "      <td>23.482</td>\n",
              "      <td>65.926</td>\n",
              "      <td>238.03</td>\n",
              "      <td>336.88</td>\n",
              "      <td>94.655</td>\n",
              "      <td>76.948</td>\n",
              "      <td>32.151</td>\n",
              "      <td>8.9606</td>\n",
              "      <td>26.211</td>\n",
              "      <td>6.8488</td>\n",
              "      <td>18.977</td>\n",
              "      <td>1.7243</td>\n",
              "      <td>32.865</td>\n",
              "      <td>13.787</td>\n",
              "      <td>23.628</td>\n",
              "      <td>1.0893</td>\n",
              "      <td>19.075</td>\n",
              "      <td>2.2680</td>\n",
              "      <td>4.8855</td>\n",
              "      <td>2.2031</td>\n",
              "      <td>0.018453</td>\n",
              "      <td>0.85368</td>\n",
              "      <td>0.088404</td>\n",
              "      <td>53.842</td>\n",
              "      <td>44.153</td>\n",
              "      <td>63.320</td>\n",
              "      <td>52.904</td>\n",
              "      <td>27.161</td>\n",
              "      <td>61.933</td>\n",
              "      <td>19.796</td>\n",
              "      <td>38.746</td>\n",
              "      <td>40.117</td>\n",
              "      <td>44.795</td>\n",
              "      <td>49.616</td>\n",
              "      <td>40.490</td>\n",
              "      <td>17.089</td>\n",
              "    </tr>\n",
              "    <tr>\n",
              "      <th>270397</th>\n",
              "      <td>20.0</td>\n",
              "      <td>24.0</td>\n",
              "      <td>498</td>\n",
              "      <td>0.27898</td>\n",
              "      <td>3671.8</td>\n",
              "      <td>4453.8</td>\n",
              "      <td>9.2279</td>\n",
              "      <td>26.427</td>\n",
              "      <td>42.475</td>\n",
              "      <td>2694.8</td>\n",
              "      <td>74.098</td>\n",
              "      <td>120.42</td>\n",
              "      <td>0.32033</td>\n",
              "      <td>80.184</td>\n",
              "      <td>49.269</td>\n",
              "      <td>2612.9</td>\n",
              "      <td>25.033</td>\n",
              "      <td>48.594</td>\n",
              "      <td>3092.7</td>\n",
              "      <td>23.109</td>\n",
              "      <td>65.937</td>\n",
              "      <td>238.28</td>\n",
              "      <td>337.30</td>\n",
              "      <td>94.665</td>\n",
              "      <td>77.357</td>\n",
              "      <td>32.151</td>\n",
              "      <td>8.9606</td>\n",
              "      <td>26.211</td>\n",
              "      <td>6.8488</td>\n",
              "      <td>18.977</td>\n",
              "      <td>1.7243</td>\n",
              "      <td>32.865</td>\n",
              "      <td>13.787</td>\n",
              "      <td>23.628</td>\n",
              "      <td>1.0893</td>\n",
              "      <td>19.075</td>\n",
              "      <td>2.2680</td>\n",
              "      <td>4.8855</td>\n",
              "      <td>2.2031</td>\n",
              "      <td>0.018453</td>\n",
              "      <td>0.85368</td>\n",
              "      <td>0.088404</td>\n",
              "      <td>53.842</td>\n",
              "      <td>44.153</td>\n",
              "      <td>63.581</td>\n",
              "      <td>53.112</td>\n",
              "      <td>27.188</td>\n",
              "      <td>62.026</td>\n",
              "      <td>19.764</td>\n",
              "      <td>39.052</td>\n",
              "      <td>35.948</td>\n",
              "      <td>43.279</td>\n",
              "      <td>49.824</td>\n",
              "      <td>41.805</td>\n",
              "      <td>17.934</td>\n",
              "    </tr>\n",
              "    <tr>\n",
              "      <th>270398</th>\n",
              "      <td>20.0</td>\n",
              "      <td>24.0</td>\n",
              "      <td>499</td>\n",
              "      <td>0.26937</td>\n",
              "      <td>3691.9</td>\n",
              "      <td>4495.6</td>\n",
              "      <td>9.3308</td>\n",
              "      <td>26.934</td>\n",
              "      <td>42.480</td>\n",
              "      <td>2694.8</td>\n",
              "      <td>75.163</td>\n",
              "      <td>120.39</td>\n",
              "      <td>0.33166</td>\n",
              "      <td>80.240</td>\n",
              "      <td>50.435</td>\n",
              "      <td>2612.6</td>\n",
              "      <td>25.598</td>\n",
              "      <td>48.453</td>\n",
              "      <td>3093.8</td>\n",
              "      <td>22.824</td>\n",
              "      <td>66.016</td>\n",
              "      <td>241.27</td>\n",
              "      <td>336.74</td>\n",
              "      <td>94.604</td>\n",
              "      <td>77.187</td>\n",
              "      <td>32.118</td>\n",
              "      <td>8.8653</td>\n",
              "      <td>26.227</td>\n",
              "      <td>6.8508</td>\n",
              "      <td>19.090</td>\n",
              "      <td>1.7002</td>\n",
              "      <td>32.636</td>\n",
              "      <td>14.063</td>\n",
              "      <td>24.057</td>\n",
              "      <td>1.3346</td>\n",
              "      <td>19.032</td>\n",
              "      <td>2.2650</td>\n",
              "      <td>4.8473</td>\n",
              "      <td>2.2859</td>\n",
              "      <td>0.018453</td>\n",
              "      <td>0.85368</td>\n",
              "      <td>0.088404</td>\n",
              "      <td>53.842</td>\n",
              "      <td>44.153</td>\n",
              "      <td>62.918</td>\n",
              "      <td>53.451</td>\n",
              "      <td>26.270</td>\n",
              "      <td>59.054</td>\n",
              "      <td>20.009</td>\n",
              "      <td>39.653</td>\n",
              "      <td>39.381</td>\n",
              "      <td>42.955</td>\n",
              "      <td>49.782</td>\n",
              "      <td>40.466</td>\n",
              "      <td>18.613</td>\n",
              "    </tr>\n",
              "    <tr>\n",
              "      <th>270399</th>\n",
              "      <td>20.0</td>\n",
              "      <td>24.0</td>\n",
              "      <td>500</td>\n",
              "      <td>0.26889</td>\n",
              "      <td>3680.8</td>\n",
              "      <td>4487.4</td>\n",
              "      <td>9.2932</td>\n",
              "      <td>26.875</td>\n",
              "      <td>42.351</td>\n",
              "      <td>2693.8</td>\n",
              "      <td>75.356</td>\n",
              "      <td>120.41</td>\n",
              "      <td>0.32912</td>\n",
              "      <td>80.166</td>\n",
              "      <td>49.673</td>\n",
              "      <td>2610.5</td>\n",
              "      <td>27.231</td>\n",
              "      <td>50.221</td>\n",
              "      <td>3093.9</td>\n",
              "      <td>22.943</td>\n",
              "      <td>66.071</td>\n",
              "      <td>240.09</td>\n",
              "      <td>336.23</td>\n",
              "      <td>94.608</td>\n",
              "      <td>77.055</td>\n",
              "      <td>32.118</td>\n",
              "      <td>8.8653</td>\n",
              "      <td>26.227</td>\n",
              "      <td>6.8508</td>\n",
              "      <td>19.090</td>\n",
              "      <td>1.7002</td>\n",
              "      <td>32.636</td>\n",
              "      <td>14.063</td>\n",
              "      <td>24.057</td>\n",
              "      <td>1.3346</td>\n",
              "      <td>19.032</td>\n",
              "      <td>2.2650</td>\n",
              "      <td>4.8473</td>\n",
              "      <td>2.2859</td>\n",
              "      <td>0.018453</td>\n",
              "      <td>0.85368</td>\n",
              "      <td>0.088404</td>\n",
              "      <td>53.842</td>\n",
              "      <td>44.153</td>\n",
              "      <td>63.109</td>\n",
              "      <td>53.549</td>\n",
              "      <td>26.317</td>\n",
              "      <td>60.959</td>\n",
              "      <td>19.448</td>\n",
              "      <td>39.961</td>\n",
              "      <td>37.137</td>\n",
              "      <td>47.045</td>\n",
              "      <td>50.111</td>\n",
              "      <td>41.509</td>\n",
              "      <td>18.336</td>\n",
              "    </tr>\n",
              "  </tbody>\n",
              "</table>\n",
              "<p>270400 rows × 55 columns</p>\n",
              "</div>"
            ],
            "text/plain": [
              "        faultNumber  simulationRun  sample  ...   xmv_9  xmv_10  xmv_11\n",
              "0               0.0            1.0       1  ...  47.510  41.258  18.447\n",
              "1               0.0            1.0       2  ...  47.427  41.359  17.194\n",
              "2               0.0            1.0       3  ...  47.468  41.199  20.530\n",
              "3               0.0            1.0       4  ...  47.658  41.643  18.089\n",
              "4               0.0            1.0       5  ...  47.346  41.507  18.461\n",
              "...             ...            ...     ...  ...     ...     ...     ...\n",
              "270395         20.0           24.0     496  ...  49.613  42.208  19.711\n",
              "270396         20.0           24.0     497  ...  49.616  40.490  17.089\n",
              "270397         20.0           24.0     498  ...  49.824  41.805  17.934\n",
              "270398         20.0           24.0     499  ...  49.782  40.466  18.613\n",
              "270399         20.0           24.0     500  ...  50.111  41.509  18.336\n",
              "\n",
              "[270400 rows x 55 columns]"
            ]
          },
          "metadata": {
            "tags": []
          },
          "execution_count": 13
        }
      ]
    },
    {
      "cell_type": "markdown",
      "metadata": {
        "id": "qMQQTzfFM208"
      },
      "source": [
        "# Preprocessing"
      ]
    },
    {
      "cell_type": "code",
      "metadata": {
        "id": "WtJtkqaEM209"
      },
      "source": [
        "# Drop some mysterious fault type\n",
        "Sampled_train.drop(Sampled_train[(Sampled_train.faultNumber == 3) | (Sampled_train.faultNumber == 9) | (Sampled_train.faultNumber == 15)].index, inplace = True)\n",
        "Sampled_test.drop(Sampled_test[(Sampled_test.faultNumber == 3) | (Sampled_test.faultNumber == 9) | (Sampled_test.faultNumber == 15)].index, inplace = True)\n",
        "Sampled_cv.drop(Sampled_cv[(Sampled_cv.faultNumber == 3) | (Sampled_cv.faultNumber == 9) | (Sampled_cv.faultNumber == 15)].index, inplace = True)"
      ],
      "execution_count": 14,
      "outputs": []
    },
    {
      "cell_type": "code",
      "metadata": {
        "id": "GJV60K0sM209"
      },
      "source": [
        "# make the Y value usable in LSTM\n",
        "y_train = to_categorical(Sampled_train['faultNumber'],num_classes=21)\n",
        "y_test = to_categorical(Sampled_test['faultNumber'],num_classes=21)\n",
        "y_cv = to_categorical(Sampled_cv['faultNumber'],num_classes=21)"
      ],
      "execution_count": 15,
      "outputs": []
    },
    {
      "cell_type": "code",
      "metadata": {
        "colab": {
          "base_uri": "https://localhost:8080/",
          "height": 439
        },
        "id": "BltQv6B0M209",
        "outputId": "29f34dc6-cabb-404e-88ae-280c01bf9710"
      },
      "source": [
        "# Test if the dropping is successful\n",
        "Sampled_cv[Sampled_cv['faultNumber'] == 1]\n",
        "Sampled_train"
      ],
      "execution_count": 16,
      "outputs": [
        {
          "output_type": "execute_result",
          "data": {
            "text/html": [
              "<div>\n",
              "<style scoped>\n",
              "    .dataframe tbody tr th:only-of-type {\n",
              "        vertical-align: middle;\n",
              "    }\n",
              "\n",
              "    .dataframe tbody tr th {\n",
              "        vertical-align: top;\n",
              "    }\n",
              "\n",
              "    .dataframe thead th {\n",
              "        text-align: right;\n",
              "    }\n",
              "</style>\n",
              "<table border=\"1\" class=\"dataframe\">\n",
              "  <thead>\n",
              "    <tr style=\"text-align: right;\">\n",
              "      <th></th>\n",
              "      <th>faultNumber</th>\n",
              "      <th>simulationRun</th>\n",
              "      <th>sample</th>\n",
              "      <th>xmeas_1</th>\n",
              "      <th>xmeas_2</th>\n",
              "      <th>xmeas_3</th>\n",
              "      <th>xmeas_4</th>\n",
              "      <th>xmeas_5</th>\n",
              "      <th>xmeas_6</th>\n",
              "      <th>xmeas_7</th>\n",
              "      <th>xmeas_8</th>\n",
              "      <th>xmeas_9</th>\n",
              "      <th>xmeas_10</th>\n",
              "      <th>xmeas_11</th>\n",
              "      <th>xmeas_12</th>\n",
              "      <th>xmeas_13</th>\n",
              "      <th>xmeas_14</th>\n",
              "      <th>xmeas_15</th>\n",
              "      <th>xmeas_16</th>\n",
              "      <th>xmeas_17</th>\n",
              "      <th>xmeas_18</th>\n",
              "      <th>xmeas_19</th>\n",
              "      <th>xmeas_20</th>\n",
              "      <th>xmeas_21</th>\n",
              "      <th>xmeas_22</th>\n",
              "      <th>xmeas_23</th>\n",
              "      <th>xmeas_24</th>\n",
              "      <th>xmeas_25</th>\n",
              "      <th>xmeas_26</th>\n",
              "      <th>xmeas_27</th>\n",
              "      <th>xmeas_28</th>\n",
              "      <th>xmeas_29</th>\n",
              "      <th>xmeas_30</th>\n",
              "      <th>xmeas_31</th>\n",
              "      <th>xmeas_32</th>\n",
              "      <th>xmeas_33</th>\n",
              "      <th>xmeas_34</th>\n",
              "      <th>xmeas_35</th>\n",
              "      <th>xmeas_36</th>\n",
              "      <th>xmeas_37</th>\n",
              "      <th>xmeas_38</th>\n",
              "      <th>xmeas_39</th>\n",
              "      <th>xmeas_40</th>\n",
              "      <th>xmeas_41</th>\n",
              "      <th>xmv_1</th>\n",
              "      <th>xmv_2</th>\n",
              "      <th>xmv_3</th>\n",
              "      <th>xmv_4</th>\n",
              "      <th>xmv_5</th>\n",
              "      <th>xmv_6</th>\n",
              "      <th>xmv_7</th>\n",
              "      <th>xmv_8</th>\n",
              "      <th>xmv_9</th>\n",
              "      <th>xmv_10</th>\n",
              "      <th>xmv_11</th>\n",
              "    </tr>\n",
              "  </thead>\n",
              "  <tbody>\n",
              "    <tr>\n",
              "      <th>0</th>\n",
              "      <td>0.0</td>\n",
              "      <td>1.0</td>\n",
              "      <td>1</td>\n",
              "      <td>0.25038</td>\n",
              "      <td>3674.0</td>\n",
              "      <td>4529.0</td>\n",
              "      <td>9.2320</td>\n",
              "      <td>26.889</td>\n",
              "      <td>42.402</td>\n",
              "      <td>2704.3</td>\n",
              "      <td>74.863</td>\n",
              "      <td>120.41</td>\n",
              "      <td>0.33818</td>\n",
              "      <td>80.044</td>\n",
              "      <td>51.435</td>\n",
              "      <td>2632.9</td>\n",
              "      <td>25.029</td>\n",
              "      <td>50.528</td>\n",
              "      <td>3101.1</td>\n",
              "      <td>22.819</td>\n",
              "      <td>65.732</td>\n",
              "      <td>229.61</td>\n",
              "      <td>341.22</td>\n",
              "      <td>94.640</td>\n",
              "      <td>77.047</td>\n",
              "      <td>32.188</td>\n",
              "      <td>8.8933</td>\n",
              "      <td>26.383</td>\n",
              "      <td>6.8820</td>\n",
              "      <td>18.776</td>\n",
              "      <td>1.6567</td>\n",
              "      <td>32.958</td>\n",
              "      <td>13.823</td>\n",
              "      <td>23.978</td>\n",
              "      <td>1.2565</td>\n",
              "      <td>18.579</td>\n",
              "      <td>2.2633</td>\n",
              "      <td>4.8436</td>\n",
              "      <td>2.2986</td>\n",
              "      <td>0.017866</td>\n",
              "      <td>0.83570</td>\n",
              "      <td>0.098577</td>\n",
              "      <td>53.724</td>\n",
              "      <td>43.828</td>\n",
              "      <td>62.881</td>\n",
              "      <td>53.744</td>\n",
              "      <td>24.657</td>\n",
              "      <td>62.544</td>\n",
              "      <td>22.137</td>\n",
              "      <td>39.935</td>\n",
              "      <td>42.323</td>\n",
              "      <td>47.757</td>\n",
              "      <td>47.510</td>\n",
              "      <td>41.258</td>\n",
              "      <td>18.447</td>\n",
              "    </tr>\n",
              "    <tr>\n",
              "      <th>1</th>\n",
              "      <td>0.0</td>\n",
              "      <td>1.0</td>\n",
              "      <td>2</td>\n",
              "      <td>0.25109</td>\n",
              "      <td>3659.4</td>\n",
              "      <td>4556.6</td>\n",
              "      <td>9.4264</td>\n",
              "      <td>26.721</td>\n",
              "      <td>42.576</td>\n",
              "      <td>2705.0</td>\n",
              "      <td>75.000</td>\n",
              "      <td>120.41</td>\n",
              "      <td>0.33620</td>\n",
              "      <td>80.078</td>\n",
              "      <td>50.154</td>\n",
              "      <td>2633.8</td>\n",
              "      <td>24.419</td>\n",
              "      <td>48.772</td>\n",
              "      <td>3102.0</td>\n",
              "      <td>23.333</td>\n",
              "      <td>65.716</td>\n",
              "      <td>230.54</td>\n",
              "      <td>341.30</td>\n",
              "      <td>94.595</td>\n",
              "      <td>77.434</td>\n",
              "      <td>32.188</td>\n",
              "      <td>8.8933</td>\n",
              "      <td>26.383</td>\n",
              "      <td>6.8820</td>\n",
              "      <td>18.776</td>\n",
              "      <td>1.6567</td>\n",
              "      <td>32.958</td>\n",
              "      <td>13.823</td>\n",
              "      <td>23.978</td>\n",
              "      <td>1.2565</td>\n",
              "      <td>18.579</td>\n",
              "      <td>2.2633</td>\n",
              "      <td>4.8436</td>\n",
              "      <td>2.2986</td>\n",
              "      <td>0.017866</td>\n",
              "      <td>0.83570</td>\n",
              "      <td>0.098577</td>\n",
              "      <td>53.724</td>\n",
              "      <td>43.828</td>\n",
              "      <td>63.132</td>\n",
              "      <td>53.414</td>\n",
              "      <td>24.588</td>\n",
              "      <td>59.259</td>\n",
              "      <td>22.084</td>\n",
              "      <td>40.176</td>\n",
              "      <td>38.554</td>\n",
              "      <td>43.692</td>\n",
              "      <td>47.427</td>\n",
              "      <td>41.359</td>\n",
              "      <td>17.194</td>\n",
              "    </tr>\n",
              "    <tr>\n",
              "      <th>2</th>\n",
              "      <td>0.0</td>\n",
              "      <td>1.0</td>\n",
              "      <td>3</td>\n",
              "      <td>0.25038</td>\n",
              "      <td>3660.3</td>\n",
              "      <td>4477.8</td>\n",
              "      <td>9.4426</td>\n",
              "      <td>26.875</td>\n",
              "      <td>42.070</td>\n",
              "      <td>2706.2</td>\n",
              "      <td>74.771</td>\n",
              "      <td>120.42</td>\n",
              "      <td>0.33563</td>\n",
              "      <td>80.220</td>\n",
              "      <td>50.302</td>\n",
              "      <td>2635.5</td>\n",
              "      <td>25.244</td>\n",
              "      <td>50.071</td>\n",
              "      <td>3103.5</td>\n",
              "      <td>21.924</td>\n",
              "      <td>65.732</td>\n",
              "      <td>230.08</td>\n",
              "      <td>341.38</td>\n",
              "      <td>94.605</td>\n",
              "      <td>77.466</td>\n",
              "      <td>31.767</td>\n",
              "      <td>8.7694</td>\n",
              "      <td>26.095</td>\n",
              "      <td>6.8259</td>\n",
              "      <td>18.961</td>\n",
              "      <td>1.6292</td>\n",
              "      <td>32.985</td>\n",
              "      <td>13.742</td>\n",
              "      <td>23.897</td>\n",
              "      <td>1.3001</td>\n",
              "      <td>18.765</td>\n",
              "      <td>2.2602</td>\n",
              "      <td>4.8543</td>\n",
              "      <td>2.3900</td>\n",
              "      <td>0.017866</td>\n",
              "      <td>0.83570</td>\n",
              "      <td>0.098577</td>\n",
              "      <td>53.724</td>\n",
              "      <td>43.828</td>\n",
              "      <td>63.117</td>\n",
              "      <td>54.357</td>\n",
              "      <td>24.666</td>\n",
              "      <td>61.275</td>\n",
              "      <td>22.380</td>\n",
              "      <td>40.244</td>\n",
              "      <td>38.990</td>\n",
              "      <td>46.699</td>\n",
              "      <td>47.468</td>\n",
              "      <td>41.199</td>\n",
              "      <td>20.530</td>\n",
              "    </tr>\n",
              "    <tr>\n",
              "      <th>3</th>\n",
              "      <td>0.0</td>\n",
              "      <td>1.0</td>\n",
              "      <td>4</td>\n",
              "      <td>0.24977</td>\n",
              "      <td>3661.3</td>\n",
              "      <td>4512.1</td>\n",
              "      <td>9.4776</td>\n",
              "      <td>26.758</td>\n",
              "      <td>42.063</td>\n",
              "      <td>2707.2</td>\n",
              "      <td>75.224</td>\n",
              "      <td>120.39</td>\n",
              "      <td>0.33553</td>\n",
              "      <td>80.305</td>\n",
              "      <td>49.990</td>\n",
              "      <td>2635.6</td>\n",
              "      <td>23.268</td>\n",
              "      <td>50.435</td>\n",
              "      <td>3102.8</td>\n",
              "      <td>22.948</td>\n",
              "      <td>65.781</td>\n",
              "      <td>227.91</td>\n",
              "      <td>341.71</td>\n",
              "      <td>94.473</td>\n",
              "      <td>77.443</td>\n",
              "      <td>31.767</td>\n",
              "      <td>8.7694</td>\n",
              "      <td>26.095</td>\n",
              "      <td>6.8259</td>\n",
              "      <td>18.961</td>\n",
              "      <td>1.6292</td>\n",
              "      <td>32.985</td>\n",
              "      <td>13.742</td>\n",
              "      <td>23.897</td>\n",
              "      <td>1.3001</td>\n",
              "      <td>18.765</td>\n",
              "      <td>2.2602</td>\n",
              "      <td>4.8543</td>\n",
              "      <td>2.3900</td>\n",
              "      <td>0.017866</td>\n",
              "      <td>0.83570</td>\n",
              "      <td>0.098577</td>\n",
              "      <td>53.724</td>\n",
              "      <td>43.828</td>\n",
              "      <td>63.100</td>\n",
              "      <td>53.946</td>\n",
              "      <td>24.725</td>\n",
              "      <td>59.856</td>\n",
              "      <td>22.277</td>\n",
              "      <td>40.257</td>\n",
              "      <td>38.072</td>\n",
              "      <td>47.541</td>\n",
              "      <td>47.658</td>\n",
              "      <td>41.643</td>\n",
              "      <td>18.089</td>\n",
              "    </tr>\n",
              "    <tr>\n",
              "      <th>4</th>\n",
              "      <td>0.0</td>\n",
              "      <td>1.0</td>\n",
              "      <td>5</td>\n",
              "      <td>0.29405</td>\n",
              "      <td>3679.0</td>\n",
              "      <td>4497.0</td>\n",
              "      <td>9.3381</td>\n",
              "      <td>26.889</td>\n",
              "      <td>42.650</td>\n",
              "      <td>2705.1</td>\n",
              "      <td>75.388</td>\n",
              "      <td>120.39</td>\n",
              "      <td>0.32632</td>\n",
              "      <td>80.064</td>\n",
              "      <td>51.310</td>\n",
              "      <td>2632.4</td>\n",
              "      <td>26.099</td>\n",
              "      <td>50.480</td>\n",
              "      <td>3103.5</td>\n",
              "      <td>22.808</td>\n",
              "      <td>65.788</td>\n",
              "      <td>231.37</td>\n",
              "      <td>341.11</td>\n",
              "      <td>94.678</td>\n",
              "      <td>76.947</td>\n",
              "      <td>32.322</td>\n",
              "      <td>8.5821</td>\n",
              "      <td>26.769</td>\n",
              "      <td>6.8688</td>\n",
              "      <td>18.782</td>\n",
              "      <td>1.6396</td>\n",
              "      <td>33.071</td>\n",
              "      <td>13.834</td>\n",
              "      <td>24.228</td>\n",
              "      <td>1.0938</td>\n",
              "      <td>18.666</td>\n",
              "      <td>2.2193</td>\n",
              "      <td>4.8304</td>\n",
              "      <td>2.2416</td>\n",
              "      <td>0.017866</td>\n",
              "      <td>0.83570</td>\n",
              "      <td>0.098577</td>\n",
              "      <td>53.724</td>\n",
              "      <td>43.828</td>\n",
              "      <td>63.313</td>\n",
              "      <td>53.658</td>\n",
              "      <td>28.797</td>\n",
              "      <td>60.717</td>\n",
              "      <td>21.947</td>\n",
              "      <td>39.144</td>\n",
              "      <td>41.955</td>\n",
              "      <td>47.645</td>\n",
              "      <td>47.346</td>\n",
              "      <td>41.507</td>\n",
              "      <td>18.461</td>\n",
              "    </tr>\n",
              "    <tr>\n",
              "      <th>...</th>\n",
              "      <td>...</td>\n",
              "      <td>...</td>\n",
              "      <td>...</td>\n",
              "      <td>...</td>\n",
              "      <td>...</td>\n",
              "      <td>...</td>\n",
              "      <td>...</td>\n",
              "      <td>...</td>\n",
              "      <td>...</td>\n",
              "      <td>...</td>\n",
              "      <td>...</td>\n",
              "      <td>...</td>\n",
              "      <td>...</td>\n",
              "      <td>...</td>\n",
              "      <td>...</td>\n",
              "      <td>...</td>\n",
              "      <td>...</td>\n",
              "      <td>...</td>\n",
              "      <td>...</td>\n",
              "      <td>...</td>\n",
              "      <td>...</td>\n",
              "      <td>...</td>\n",
              "      <td>...</td>\n",
              "      <td>...</td>\n",
              "      <td>...</td>\n",
              "      <td>...</td>\n",
              "      <td>...</td>\n",
              "      <td>...</td>\n",
              "      <td>...</td>\n",
              "      <td>...</td>\n",
              "      <td>...</td>\n",
              "      <td>...</td>\n",
              "      <td>...</td>\n",
              "      <td>...</td>\n",
              "      <td>...</td>\n",
              "      <td>...</td>\n",
              "      <td>...</td>\n",
              "      <td>...</td>\n",
              "      <td>...</td>\n",
              "      <td>...</td>\n",
              "      <td>...</td>\n",
              "      <td>...</td>\n",
              "      <td>...</td>\n",
              "      <td>...</td>\n",
              "      <td>...</td>\n",
              "      <td>...</td>\n",
              "      <td>...</td>\n",
              "      <td>...</td>\n",
              "      <td>...</td>\n",
              "      <td>...</td>\n",
              "      <td>...</td>\n",
              "      <td>...</td>\n",
              "      <td>...</td>\n",
              "      <td>...</td>\n",
              "      <td>...</td>\n",
              "    </tr>\n",
              "    <tr>\n",
              "      <th>270395</th>\n",
              "      <td>20.0</td>\n",
              "      <td>24.0</td>\n",
              "      <td>496</td>\n",
              "      <td>0.28437</td>\n",
              "      <td>3645.3</td>\n",
              "      <td>4476.8</td>\n",
              "      <td>9.3158</td>\n",
              "      <td>27.041</td>\n",
              "      <td>42.017</td>\n",
              "      <td>2691.9</td>\n",
              "      <td>74.217</td>\n",
              "      <td>120.41</td>\n",
              "      <td>0.33693</td>\n",
              "      <td>79.951</td>\n",
              "      <td>50.860</td>\n",
              "      <td>2610.8</td>\n",
              "      <td>24.668</td>\n",
              "      <td>48.663</td>\n",
              "      <td>3093.0</td>\n",
              "      <td>22.379</td>\n",
              "      <td>65.982</td>\n",
              "      <td>235.45</td>\n",
              "      <td>336.23</td>\n",
              "      <td>94.645</td>\n",
              "      <td>76.700</td>\n",
              "      <td>32.044</td>\n",
              "      <td>8.7699</td>\n",
              "      <td>26.246</td>\n",
              "      <td>6.8068</td>\n",
              "      <td>19.346</td>\n",
              "      <td>1.6191</td>\n",
              "      <td>32.682</td>\n",
              "      <td>13.709</td>\n",
              "      <td>23.334</td>\n",
              "      <td>1.2064</td>\n",
              "      <td>18.913</td>\n",
              "      <td>2.2850</td>\n",
              "      <td>4.7707</td>\n",
              "      <td>2.2680</td>\n",
              "      <td>0.018453</td>\n",
              "      <td>0.85368</td>\n",
              "      <td>0.088404</td>\n",
              "      <td>53.842</td>\n",
              "      <td>44.153</td>\n",
              "      <td>63.581</td>\n",
              "      <td>53.831</td>\n",
              "      <td>27.820</td>\n",
              "      <td>58.953</td>\n",
              "      <td>19.810</td>\n",
              "      <td>40.356</td>\n",
              "      <td>40.631</td>\n",
              "      <td>43.441</td>\n",
              "      <td>49.613</td>\n",
              "      <td>42.208</td>\n",
              "      <td>19.711</td>\n",
              "    </tr>\n",
              "    <tr>\n",
              "      <th>270396</th>\n",
              "      <td>20.0</td>\n",
              "      <td>24.0</td>\n",
              "      <td>497</td>\n",
              "      <td>0.27925</td>\n",
              "      <td>3687.0</td>\n",
              "      <td>4471.1</td>\n",
              "      <td>9.2843</td>\n",
              "      <td>26.594</td>\n",
              "      <td>41.935</td>\n",
              "      <td>2692.1</td>\n",
              "      <td>74.513</td>\n",
              "      <td>120.39</td>\n",
              "      <td>0.32284</td>\n",
              "      <td>79.890</td>\n",
              "      <td>50.685</td>\n",
              "      <td>2610.6</td>\n",
              "      <td>27.534</td>\n",
              "      <td>49.249</td>\n",
              "      <td>3090.2</td>\n",
              "      <td>23.482</td>\n",
              "      <td>65.926</td>\n",
              "      <td>238.03</td>\n",
              "      <td>336.88</td>\n",
              "      <td>94.655</td>\n",
              "      <td>76.948</td>\n",
              "      <td>32.151</td>\n",
              "      <td>8.9606</td>\n",
              "      <td>26.211</td>\n",
              "      <td>6.8488</td>\n",
              "      <td>18.977</td>\n",
              "      <td>1.7243</td>\n",
              "      <td>32.865</td>\n",
              "      <td>13.787</td>\n",
              "      <td>23.628</td>\n",
              "      <td>1.0893</td>\n",
              "      <td>19.075</td>\n",
              "      <td>2.2680</td>\n",
              "      <td>4.8855</td>\n",
              "      <td>2.2031</td>\n",
              "      <td>0.018453</td>\n",
              "      <td>0.85368</td>\n",
              "      <td>0.088404</td>\n",
              "      <td>53.842</td>\n",
              "      <td>44.153</td>\n",
              "      <td>63.320</td>\n",
              "      <td>52.904</td>\n",
              "      <td>27.161</td>\n",
              "      <td>61.933</td>\n",
              "      <td>19.796</td>\n",
              "      <td>38.746</td>\n",
              "      <td>40.117</td>\n",
              "      <td>44.795</td>\n",
              "      <td>49.616</td>\n",
              "      <td>40.490</td>\n",
              "      <td>17.089</td>\n",
              "    </tr>\n",
              "    <tr>\n",
              "      <th>270397</th>\n",
              "      <td>20.0</td>\n",
              "      <td>24.0</td>\n",
              "      <td>498</td>\n",
              "      <td>0.27898</td>\n",
              "      <td>3671.8</td>\n",
              "      <td>4453.8</td>\n",
              "      <td>9.2279</td>\n",
              "      <td>26.427</td>\n",
              "      <td>42.475</td>\n",
              "      <td>2694.8</td>\n",
              "      <td>74.098</td>\n",
              "      <td>120.42</td>\n",
              "      <td>0.32033</td>\n",
              "      <td>80.184</td>\n",
              "      <td>49.269</td>\n",
              "      <td>2612.9</td>\n",
              "      <td>25.033</td>\n",
              "      <td>48.594</td>\n",
              "      <td>3092.7</td>\n",
              "      <td>23.109</td>\n",
              "      <td>65.937</td>\n",
              "      <td>238.28</td>\n",
              "      <td>337.30</td>\n",
              "      <td>94.665</td>\n",
              "      <td>77.357</td>\n",
              "      <td>32.151</td>\n",
              "      <td>8.9606</td>\n",
              "      <td>26.211</td>\n",
              "      <td>6.8488</td>\n",
              "      <td>18.977</td>\n",
              "      <td>1.7243</td>\n",
              "      <td>32.865</td>\n",
              "      <td>13.787</td>\n",
              "      <td>23.628</td>\n",
              "      <td>1.0893</td>\n",
              "      <td>19.075</td>\n",
              "      <td>2.2680</td>\n",
              "      <td>4.8855</td>\n",
              "      <td>2.2031</td>\n",
              "      <td>0.018453</td>\n",
              "      <td>0.85368</td>\n",
              "      <td>0.088404</td>\n",
              "      <td>53.842</td>\n",
              "      <td>44.153</td>\n",
              "      <td>63.581</td>\n",
              "      <td>53.112</td>\n",
              "      <td>27.188</td>\n",
              "      <td>62.026</td>\n",
              "      <td>19.764</td>\n",
              "      <td>39.052</td>\n",
              "      <td>35.948</td>\n",
              "      <td>43.279</td>\n",
              "      <td>49.824</td>\n",
              "      <td>41.805</td>\n",
              "      <td>17.934</td>\n",
              "    </tr>\n",
              "    <tr>\n",
              "      <th>270398</th>\n",
              "      <td>20.0</td>\n",
              "      <td>24.0</td>\n",
              "      <td>499</td>\n",
              "      <td>0.26937</td>\n",
              "      <td>3691.9</td>\n",
              "      <td>4495.6</td>\n",
              "      <td>9.3308</td>\n",
              "      <td>26.934</td>\n",
              "      <td>42.480</td>\n",
              "      <td>2694.8</td>\n",
              "      <td>75.163</td>\n",
              "      <td>120.39</td>\n",
              "      <td>0.33166</td>\n",
              "      <td>80.240</td>\n",
              "      <td>50.435</td>\n",
              "      <td>2612.6</td>\n",
              "      <td>25.598</td>\n",
              "      <td>48.453</td>\n",
              "      <td>3093.8</td>\n",
              "      <td>22.824</td>\n",
              "      <td>66.016</td>\n",
              "      <td>241.27</td>\n",
              "      <td>336.74</td>\n",
              "      <td>94.604</td>\n",
              "      <td>77.187</td>\n",
              "      <td>32.118</td>\n",
              "      <td>8.8653</td>\n",
              "      <td>26.227</td>\n",
              "      <td>6.8508</td>\n",
              "      <td>19.090</td>\n",
              "      <td>1.7002</td>\n",
              "      <td>32.636</td>\n",
              "      <td>14.063</td>\n",
              "      <td>24.057</td>\n",
              "      <td>1.3346</td>\n",
              "      <td>19.032</td>\n",
              "      <td>2.2650</td>\n",
              "      <td>4.8473</td>\n",
              "      <td>2.2859</td>\n",
              "      <td>0.018453</td>\n",
              "      <td>0.85368</td>\n",
              "      <td>0.088404</td>\n",
              "      <td>53.842</td>\n",
              "      <td>44.153</td>\n",
              "      <td>62.918</td>\n",
              "      <td>53.451</td>\n",
              "      <td>26.270</td>\n",
              "      <td>59.054</td>\n",
              "      <td>20.009</td>\n",
              "      <td>39.653</td>\n",
              "      <td>39.381</td>\n",
              "      <td>42.955</td>\n",
              "      <td>49.782</td>\n",
              "      <td>40.466</td>\n",
              "      <td>18.613</td>\n",
              "    </tr>\n",
              "    <tr>\n",
              "      <th>270399</th>\n",
              "      <td>20.0</td>\n",
              "      <td>24.0</td>\n",
              "      <td>500</td>\n",
              "      <td>0.26889</td>\n",
              "      <td>3680.8</td>\n",
              "      <td>4487.4</td>\n",
              "      <td>9.2932</td>\n",
              "      <td>26.875</td>\n",
              "      <td>42.351</td>\n",
              "      <td>2693.8</td>\n",
              "      <td>75.356</td>\n",
              "      <td>120.41</td>\n",
              "      <td>0.32912</td>\n",
              "      <td>80.166</td>\n",
              "      <td>49.673</td>\n",
              "      <td>2610.5</td>\n",
              "      <td>27.231</td>\n",
              "      <td>50.221</td>\n",
              "      <td>3093.9</td>\n",
              "      <td>22.943</td>\n",
              "      <td>66.071</td>\n",
              "      <td>240.09</td>\n",
              "      <td>336.23</td>\n",
              "      <td>94.608</td>\n",
              "      <td>77.055</td>\n",
              "      <td>32.118</td>\n",
              "      <td>8.8653</td>\n",
              "      <td>26.227</td>\n",
              "      <td>6.8508</td>\n",
              "      <td>19.090</td>\n",
              "      <td>1.7002</td>\n",
              "      <td>32.636</td>\n",
              "      <td>14.063</td>\n",
              "      <td>24.057</td>\n",
              "      <td>1.3346</td>\n",
              "      <td>19.032</td>\n",
              "      <td>2.2650</td>\n",
              "      <td>4.8473</td>\n",
              "      <td>2.2859</td>\n",
              "      <td>0.018453</td>\n",
              "      <td>0.85368</td>\n",
              "      <td>0.088404</td>\n",
              "      <td>53.842</td>\n",
              "      <td>44.153</td>\n",
              "      <td>63.109</td>\n",
              "      <td>53.549</td>\n",
              "      <td>26.317</td>\n",
              "      <td>60.959</td>\n",
              "      <td>19.448</td>\n",
              "      <td>39.961</td>\n",
              "      <td>37.137</td>\n",
              "      <td>47.045</td>\n",
              "      <td>50.111</td>\n",
              "      <td>41.509</td>\n",
              "      <td>18.336</td>\n",
              "    </tr>\n",
              "  </tbody>\n",
              "</table>\n",
              "<p>235840 rows × 55 columns</p>\n",
              "</div>"
            ],
            "text/plain": [
              "        faultNumber  simulationRun  sample  ...   xmv_9  xmv_10  xmv_11\n",
              "0               0.0            1.0       1  ...  47.510  41.258  18.447\n",
              "1               0.0            1.0       2  ...  47.427  41.359  17.194\n",
              "2               0.0            1.0       3  ...  47.468  41.199  20.530\n",
              "3               0.0            1.0       4  ...  47.658  41.643  18.089\n",
              "4               0.0            1.0       5  ...  47.346  41.507  18.461\n",
              "...             ...            ...     ...  ...     ...     ...     ...\n",
              "270395         20.0           24.0     496  ...  49.613  42.208  19.711\n",
              "270396         20.0           24.0     497  ...  49.616  40.490  17.089\n",
              "270397         20.0           24.0     498  ...  49.824  41.805  17.934\n",
              "270398         20.0           24.0     499  ...  49.782  40.466  18.613\n",
              "270399         20.0           24.0     500  ...  50.111  41.509  18.336\n",
              "\n",
              "[235840 rows x 55 columns]"
            ]
          },
          "metadata": {
            "tags": []
          },
          "execution_count": 16
        }
      ]
    },
    {
      "cell_type": "code",
      "metadata": {
        "id": "uO3-eYdpM209"
      },
      "source": [
        "x_train_df = Sampled_train.drop(['faultNumber','simulationRun','sample'],axis=1)\n",
        "x_test_df = Sampled_test.drop(['faultNumber','simulationRun','sample'],axis =1)\n",
        "x_cv_df = Sampled_cv.drop(['faultNumber','simulationRun','sample'],axis=1)"
      ],
      "execution_count": 17,
      "outputs": []
    },
    {
      "cell_type": "code",
      "metadata": {
        "id": "-1MuonyQWKHv",
        "colab": {
          "base_uri": "https://localhost:8080/"
        },
        "outputId": "66328490-c56a-4d44-b5c6-b5266ff9ccc5"
      },
      "source": [
        "top10all = ['xmv_10', 'xmv_11', 'xmeas_19', 'xmeas_21', 'xmv_9', 'xmv_4', 'xmv_5', 'xmeas_17', 'xmeas_18', 'xmeas_9']\n",
        "len(top10all)"
      ],
      "execution_count": 18,
      "outputs": [
        {
          "output_type": "execute_result",
          "data": {
            "text/plain": [
              "10"
            ]
          },
          "metadata": {
            "tags": []
          },
          "execution_count": 18
        }
      ]
    },
    {
      "cell_type": "markdown",
      "metadata": {
        "id": "y-xmvS3QM21C"
      },
      "source": [
        "# LSTM"
      ]
    },
    {
      "cell_type": "code",
      "metadata": {
        "id": "o5LdlyZIbbGw"
      },
      "source": [
        "def x_generator(masked, feature_name):\n",
        "    # generate the needed x matrix for training, while keeping x_df intact\n",
        "    \n",
        "    dimension = dict()\n",
        "    \n",
        "    # row dimension\n",
        "    dimension['train_row'] = len(x_train_df)\n",
        "    dimension['test_row'] = len(x_test_df)\n",
        "    dimension['cv_row'] = len(x_cv_df)\n",
        "    \n",
        "    # decide whether to mask a feature or not\n",
        "    if masked == True:\n",
        "        x_train_masked_df = x_train_df.drop(feature_name, axis = 1)\n",
        "        x_test_masked_df = x_test_df.drop(feature_name, axis = 1)\n",
        "        x_cv_masked_df = x_cv_df.drop(feature_name, axis = 1)\n",
        "    else:\n",
        "        x_train_masked_df = x_train_df.copy()\n",
        "        x_test_masked_df = x_test_df.copy()\n",
        "        x_cv_masked_df = x_cv_df.copy()\n",
        "    \n",
        "    # column dimension\n",
        "    dimension['train_col'] = x_train_masked_df.shape[1]\n",
        "    dimension['test_col'] = x_test_masked_df.shape[1]\n",
        "    dimension['cv_col'] = x_cv_masked_df.shape[1]\n",
        "    \n",
        "    standard_scalar = StandardScaler()\n",
        "    x_train_masked_df = standard_scalar.fit_transform(x_train_masked_df)\n",
        "    x_test_masked_df = standard_scalar.transform(x_test_masked_df)\n",
        "    x_cv_masked_df = standard_scalar.transform(x_cv_masked_df)\n",
        "    \n",
        "    x_train = np.resize(x_train_masked_df, (dimension['train_row'], dimension['train_col'], 1))\n",
        "    x_test = np.resize(x_test_masked_df, (dimension['test_row'], dimension['test_col'], 1))\n",
        "    x_cv = np.resize(x_cv_masked_df, (dimension['cv_row'], dimension['cv_col'], 1))\n",
        "    \n",
        "    return dimension, x_train, x_test, x_cv"
      ],
      "execution_count": 48,
      "outputs": []
    },
    {
      "cell_type": "code",
      "metadata": {
        "id": "YJS3ukO-a1aF"
      },
      "source": [
        "def train_model(x_train, y_train, x_cv, y_cv, train_col, feature_name):\n",
        "    model = Sequential()\n",
        "    model.add(LSTM(256,input_shape= (train_col, 1),return_sequences= True))\n",
        "    model.add(LSTM(128,return_sequences= False))\n",
        "    model.add(Dense(300))\n",
        "    model.add(Dropout(0.5))\n",
        "    model.add(Dense(128))\n",
        "    model.add(Dense(21,activation='softmax'))\n",
        "    model.compile(loss='categorical_crossentropy', optimizer='adam', metrics=['accuracy'])\n",
        "    \n",
        "    print(model.summary())\n",
        "\n",
        "    # training\n",
        "    model.fit(x_train, y_train, epochs = 35, verbose=0,batch_size=256,validation_data = (x_cv, y_cv))\n",
        "    \n",
        "    # saving the model\n",
        "    model.save('models/'+ feature_name)\n",
        "    \n",
        "    # saving the history\n",
        "    model_paras = model.history\n",
        "    with open('models/' + feature_name + '/history.pickle', 'wb') as handle:\n",
        "        pickle.dump(model_paras.history, handle, protocol=pickle.HIGHEST_PROTOCOL)\n",
        "\n",
        "    !cp -r models/ /content/drive/MyDrive/\n",
        "\n",
        "    return model"
      ],
      "execution_count": 49,
      "outputs": []
    },
    {
      "cell_type": "code",
      "metadata": {
        "id": "XoXJ_2tPa5Yx"
      },
      "source": [
        "def visulize_model(history, feature_name):\n",
        "    x = list(range(1,len(history['loss']) + 1))\n",
        "    plt.figure(figsize=(5,5))\n",
        "    plt.plot(x, history['val_accuracy'],color = 'r',label = 'Validation Accuracy')\n",
        "    plt.plot(x, history['accuracy'],color = 'b',label = 'Training Accuracy')\n",
        "    plt.grid()\n",
        "    plt.legend()\n",
        "    plt.xlabel('Epochs')\n",
        "    plt.ylabel('accuracy')\n",
        "    plt.savefig('models/' + feature_name + '/performance.png')\n",
        "    plt.show()"
      ],
      "execution_count": 50,
      "outputs": []
    },
    {
      "cell_type": "code",
      "metadata": {
        "id": "WfQM1SXeh4Jl"
      },
      "source": [
        "# no longer needed!\n",
        "\n",
        "def setupLSTM(toDrop, x_train, x_cv):\n",
        "  base_train = x_train.drop(toDrop, axis=1)\n",
        "  base_cv = x_cv.drop(toDrop, axis=1)\n",
        "\n",
        "  standard_scalar = StandardScaler()\n",
        "  x_train = standard_scalar.fit_transform(base_train)\n",
        "  x_cv = standard_scalar.transform(base_cv)\n",
        "\n",
        "  train_row = len(x_train)\n",
        "  cv_row = len(x_cv)\n",
        "\n",
        "  train_col = x_train.shape[1]\n",
        "  cv_col = x_cv.shape[1]\n",
        "\n",
        "  x_train = np.resize(x_train,(train_row, train_col, 1))\n",
        "  x_cv = np.resize(x_cv,(cv_row, cv_col, 1))\n",
        "\n",
        "  return x_train, x_cv"
      ],
      "execution_count": 51,
      "outputs": []
    },
    {
      "cell_type": "code",
      "metadata": {
        "id": "JktFKp9vM21C"
      },
      "source": [
        "# no longer needed!\n",
        "\n",
        "def createLstmModel(train_col):\n",
        "\n",
        "  model = Sequential()\n",
        "  model.add(LSTM(256,input_shape= (train_col,1),return_sequences= True))\n",
        "  model.add(LSTM(128,return_sequences= False))\n",
        "  model.add(Dense(300))\n",
        "  model.add(Dropout(0.5))\n",
        "  model.add(Dense(128))\n",
        "  model.add(Dense(21,activation='softmax'))\n",
        "  model.compile(loss='categorical_crossentropy', optimizer='adam', metrics=['accuracy'])\n",
        "  return model"
      ],
      "execution_count": 52,
      "outputs": []
    },
    {
      "cell_type": "code",
      "metadata": {
        "colab": {
          "base_uri": "https://localhost:8080/"
        },
        "id": "jB9tSChDc4eG",
        "outputId": "33c181b8-3f31-40a7-cede-4f3fb53a4919"
      },
      "source": [
        "dimension, x_train, x_test, x_cv = x_generator(masked = True, feature_name=top10all)\n",
        "feature_name = 'base'\n",
        "complete_model = train_model(x_train, y_train, x_cv, y_cv, dimension['train_col'], feature_name)\n",
        "\n",
        "copy_features = top10all.copy()\n",
        "score = max(complete_model.history.history['val_accuracy'])\n",
        "\n",
        "print(\"Original Accuracy: %f\\n\" % score)\n",
        "iterations = len(top10all)\n",
        "\n",
        "for iter in range(iterations):\n",
        "  print(\"Iteration: %d\" % iter)\n",
        "\n",
        "  best_feature = \"\"\n",
        "  best_accuracy = 0\n",
        "  copy_features = top10all.copy()\n",
        "\n",
        "  for feature in top10all:\n",
        "    copy_features.remove(feature)\n",
        "\n",
        "    dimension, x_train, x_test, x_cv = x_generator(masked = True, feature_name=copy_features)\n",
        "    feature_name = str(iter)+\"_\"+feature\n",
        "    model = train_model(x_train, y_train, x_cv, y_cv, dimension['train_col'], feature_name)\n",
        "\n",
        "    score = max(model.history.history['val_accuracy'])\n",
        "    print(\"Feature %s Accuracy %f\" % (feature, score))\n",
        "\n",
        "    copy_features = top10all.copy()\n",
        "\n",
        "    if score > best_accuracy:\n",
        "      best_accuracy = score\n",
        "      best_feature = feature\n",
        "  \n",
        "  print(\"Best Feature: %s\" % best_feature)\n",
        "  print(\"Accuracy is: %f\\n\" % best_accuracy)\n",
        "\n",
        "  top10all.remove(best_feature)"
      ],
      "execution_count": 55,
      "outputs": [
        {
          "output_type": "stream",
          "text": [
            "Model: \"sequential_7\"\n",
            "_________________________________________________________________\n",
            "Layer (type)                 Output Shape              Param #   \n",
            "=================================================================\n",
            "lstm_14 (LSTM)               (None, 42, 256)           264192    \n",
            "_________________________________________________________________\n",
            "lstm_15 (LSTM)               (None, 128)               197120    \n",
            "_________________________________________________________________\n",
            "dense_21 (Dense)             (None, 300)               38700     \n",
            "_________________________________________________________________\n",
            "dropout_7 (Dropout)          (None, 300)               0         \n",
            "_________________________________________________________________\n",
            "dense_22 (Dense)             (None, 128)               38528     \n",
            "_________________________________________________________________\n",
            "dense_23 (Dense)             (None, 21)                2709      \n",
            "=================================================================\n",
            "Total params: 541,249\n",
            "Trainable params: 541,249\n",
            "Non-trainable params: 0\n",
            "_________________________________________________________________\n",
            "None\n"
          ],
          "name": "stdout"
        },
        {
          "output_type": "stream",
          "text": [
            "WARNING:absl:Found untraced functions such as lstm_cell_14_layer_call_and_return_conditional_losses, lstm_cell_14_layer_call_fn, lstm_cell_15_layer_call_and_return_conditional_losses, lstm_cell_15_layer_call_fn, lstm_cell_14_layer_call_fn while saving (showing 5 of 10). These functions will not be directly callable after loading.\n",
            "WARNING:absl:Found untraced functions such as lstm_cell_14_layer_call_and_return_conditional_losses, lstm_cell_14_layer_call_fn, lstm_cell_15_layer_call_and_return_conditional_losses, lstm_cell_15_layer_call_fn, lstm_cell_14_layer_call_fn while saving (showing 5 of 10). These functions will not be directly callable after loading.\n"
          ],
          "name": "stderr"
        },
        {
          "output_type": "stream",
          "text": [
            "INFO:tensorflow:Assets written to: models/base/assets\n"
          ],
          "name": "stdout"
        },
        {
          "output_type": "stream",
          "text": [
            "INFO:tensorflow:Assets written to: models/base/assets\n"
          ],
          "name": "stderr"
        },
        {
          "output_type": "stream",
          "text": [
            "Original Accuracy: 0.584536\n",
            "\n",
            "Iteration: 0\n",
            "Model: \"sequential_8\"\n",
            "_________________________________________________________________\n",
            "Layer (type)                 Output Shape              Param #   \n",
            "=================================================================\n",
            "lstm_16 (LSTM)               (None, 43, 256)           264192    \n",
            "_________________________________________________________________\n",
            "lstm_17 (LSTM)               (None, 128)               197120    \n",
            "_________________________________________________________________\n",
            "dense_24 (Dense)             (None, 300)               38700     \n",
            "_________________________________________________________________\n",
            "dropout_8 (Dropout)          (None, 300)               0         \n",
            "_________________________________________________________________\n",
            "dense_25 (Dense)             (None, 128)               38528     \n",
            "_________________________________________________________________\n",
            "dense_26 (Dense)             (None, 21)                2709      \n",
            "=================================================================\n",
            "Total params: 541,249\n",
            "Trainable params: 541,249\n",
            "Non-trainable params: 0\n",
            "_________________________________________________________________\n",
            "None\n"
          ],
          "name": "stdout"
        },
        {
          "output_type": "stream",
          "text": [
            "WARNING:absl:Found untraced functions such as lstm_cell_16_layer_call_and_return_conditional_losses, lstm_cell_16_layer_call_fn, lstm_cell_17_layer_call_and_return_conditional_losses, lstm_cell_17_layer_call_fn, lstm_cell_16_layer_call_fn while saving (showing 5 of 10). These functions will not be directly callable after loading.\n",
            "WARNING:absl:Found untraced functions such as lstm_cell_16_layer_call_and_return_conditional_losses, lstm_cell_16_layer_call_fn, lstm_cell_17_layer_call_and_return_conditional_losses, lstm_cell_17_layer_call_fn, lstm_cell_16_layer_call_fn while saving (showing 5 of 10). These functions will not be directly callable after loading.\n"
          ],
          "name": "stderr"
        },
        {
          "output_type": "stream",
          "text": [
            "INFO:tensorflow:Assets written to: models/0_xmv_10/assets\n"
          ],
          "name": "stdout"
        },
        {
          "output_type": "stream",
          "text": [
            "INFO:tensorflow:Assets written to: models/0_xmv_10/assets\n"
          ],
          "name": "stderr"
        },
        {
          "output_type": "stream",
          "text": [
            "Feature xmv_10 Accuracy 0.701167\n",
            "Model: \"sequential_9\"\n",
            "_________________________________________________________________\n",
            "Layer (type)                 Output Shape              Param #   \n",
            "=================================================================\n",
            "lstm_18 (LSTM)               (None, 43, 256)           264192    \n",
            "_________________________________________________________________\n",
            "lstm_19 (LSTM)               (None, 128)               197120    \n",
            "_________________________________________________________________\n",
            "dense_27 (Dense)             (None, 300)               38700     \n",
            "_________________________________________________________________\n",
            "dropout_9 (Dropout)          (None, 300)               0         \n",
            "_________________________________________________________________\n",
            "dense_28 (Dense)             (None, 128)               38528     \n",
            "_________________________________________________________________\n",
            "dense_29 (Dense)             (None, 21)                2709      \n",
            "=================================================================\n",
            "Total params: 541,249\n",
            "Trainable params: 541,249\n",
            "Non-trainable params: 0\n",
            "_________________________________________________________________\n",
            "None\n"
          ],
          "name": "stdout"
        },
        {
          "output_type": "stream",
          "text": [
            "WARNING:absl:Found untraced functions such as lstm_cell_18_layer_call_and_return_conditional_losses, lstm_cell_18_layer_call_fn, lstm_cell_19_layer_call_and_return_conditional_losses, lstm_cell_19_layer_call_fn, lstm_cell_18_layer_call_fn while saving (showing 5 of 10). These functions will not be directly callable after loading.\n",
            "WARNING:absl:Found untraced functions such as lstm_cell_18_layer_call_and_return_conditional_losses, lstm_cell_18_layer_call_fn, lstm_cell_19_layer_call_and_return_conditional_losses, lstm_cell_19_layer_call_fn, lstm_cell_18_layer_call_fn while saving (showing 5 of 10). These functions will not be directly callable after loading.\n"
          ],
          "name": "stderr"
        },
        {
          "output_type": "stream",
          "text": [
            "INFO:tensorflow:Assets written to: models/0_xmv_11/assets\n"
          ],
          "name": "stdout"
        },
        {
          "output_type": "stream",
          "text": [
            "INFO:tensorflow:Assets written to: models/0_xmv_11/assets\n"
          ],
          "name": "stderr"
        },
        {
          "output_type": "stream",
          "text": [
            "Feature xmv_11 Accuracy 0.609065\n",
            "Model: \"sequential_10\"\n",
            "_________________________________________________________________\n",
            "Layer (type)                 Output Shape              Param #   \n",
            "=================================================================\n",
            "lstm_20 (LSTM)               (None, 43, 256)           264192    \n",
            "_________________________________________________________________\n",
            "lstm_21 (LSTM)               (None, 128)               197120    \n",
            "_________________________________________________________________\n",
            "dense_30 (Dense)             (None, 300)               38700     \n",
            "_________________________________________________________________\n",
            "dropout_10 (Dropout)         (None, 300)               0         \n",
            "_________________________________________________________________\n",
            "dense_31 (Dense)             (None, 128)               38528     \n",
            "_________________________________________________________________\n",
            "dense_32 (Dense)             (None, 21)                2709      \n",
            "=================================================================\n",
            "Total params: 541,249\n",
            "Trainable params: 541,249\n",
            "Non-trainable params: 0\n",
            "_________________________________________________________________\n",
            "None\n"
          ],
          "name": "stdout"
        },
        {
          "output_type": "stream",
          "text": [
            "WARNING:absl:Found untraced functions such as lstm_cell_20_layer_call_and_return_conditional_losses, lstm_cell_20_layer_call_fn, lstm_cell_21_layer_call_and_return_conditional_losses, lstm_cell_21_layer_call_fn, lstm_cell_20_layer_call_fn while saving (showing 5 of 10). These functions will not be directly callable after loading.\n",
            "WARNING:absl:Found untraced functions such as lstm_cell_20_layer_call_and_return_conditional_losses, lstm_cell_20_layer_call_fn, lstm_cell_21_layer_call_and_return_conditional_losses, lstm_cell_21_layer_call_fn, lstm_cell_20_layer_call_fn while saving (showing 5 of 10). These functions will not be directly callable after loading.\n"
          ],
          "name": "stderr"
        },
        {
          "output_type": "stream",
          "text": [
            "INFO:tensorflow:Assets written to: models/0_xmeas_19/assets\n"
          ],
          "name": "stdout"
        },
        {
          "output_type": "stream",
          "text": [
            "INFO:tensorflow:Assets written to: models/0_xmeas_19/assets\n"
          ],
          "name": "stderr"
        },
        {
          "output_type": "stream",
          "text": [
            "Feature xmeas_19 Accuracy 0.605972\n",
            "Model: \"sequential_11\"\n",
            "_________________________________________________________________\n",
            "Layer (type)                 Output Shape              Param #   \n",
            "=================================================================\n",
            "lstm_22 (LSTM)               (None, 43, 256)           264192    \n",
            "_________________________________________________________________\n",
            "lstm_23 (LSTM)               (None, 128)               197120    \n",
            "_________________________________________________________________\n",
            "dense_33 (Dense)             (None, 300)               38700     \n",
            "_________________________________________________________________\n",
            "dropout_11 (Dropout)         (None, 300)               0         \n",
            "_________________________________________________________________\n",
            "dense_34 (Dense)             (None, 128)               38528     \n",
            "_________________________________________________________________\n",
            "dense_35 (Dense)             (None, 21)                2709      \n",
            "=================================================================\n",
            "Total params: 541,249\n",
            "Trainable params: 541,249\n",
            "Non-trainable params: 0\n",
            "_________________________________________________________________\n",
            "None\n"
          ],
          "name": "stdout"
        },
        {
          "output_type": "stream",
          "text": [
            "WARNING:absl:Found untraced functions such as lstm_cell_22_layer_call_and_return_conditional_losses, lstm_cell_22_layer_call_fn, lstm_cell_23_layer_call_and_return_conditional_losses, lstm_cell_23_layer_call_fn, lstm_cell_22_layer_call_fn while saving (showing 5 of 10). These functions will not be directly callable after loading.\n",
            "WARNING:absl:Found untraced functions such as lstm_cell_22_layer_call_and_return_conditional_losses, lstm_cell_22_layer_call_fn, lstm_cell_23_layer_call_and_return_conditional_losses, lstm_cell_23_layer_call_fn, lstm_cell_22_layer_call_fn while saving (showing 5 of 10). These functions will not be directly callable after loading.\n"
          ],
          "name": "stderr"
        },
        {
          "output_type": "stream",
          "text": [
            "INFO:tensorflow:Assets written to: models/0_xmeas_21/assets\n"
          ],
          "name": "stdout"
        },
        {
          "output_type": "stream",
          "text": [
            "INFO:tensorflow:Assets written to: models/0_xmeas_21/assets\n"
          ],
          "name": "stderr"
        },
        {
          "output_type": "stream",
          "text": [
            "Feature xmeas_21 Accuracy 0.674668\n",
            "Model: \"sequential_12\"\n",
            "_________________________________________________________________\n",
            "Layer (type)                 Output Shape              Param #   \n",
            "=================================================================\n",
            "lstm_24 (LSTM)               (None, 43, 256)           264192    \n",
            "_________________________________________________________________\n",
            "lstm_25 (LSTM)               (None, 128)               197120    \n",
            "_________________________________________________________________\n",
            "dense_36 (Dense)             (None, 300)               38700     \n",
            "_________________________________________________________________\n",
            "dropout_12 (Dropout)         (None, 300)               0         \n",
            "_________________________________________________________________\n",
            "dense_37 (Dense)             (None, 128)               38528     \n",
            "_________________________________________________________________\n",
            "dense_38 (Dense)             (None, 21)                2709      \n",
            "=================================================================\n",
            "Total params: 541,249\n",
            "Trainable params: 541,249\n",
            "Non-trainable params: 0\n",
            "_________________________________________________________________\n",
            "None\n"
          ],
          "name": "stdout"
        },
        {
          "output_type": "stream",
          "text": [
            "WARNING:absl:Found untraced functions such as lstm_cell_24_layer_call_and_return_conditional_losses, lstm_cell_24_layer_call_fn, lstm_cell_25_layer_call_and_return_conditional_losses, lstm_cell_25_layer_call_fn, lstm_cell_24_layer_call_fn while saving (showing 5 of 10). These functions will not be directly callable after loading.\n",
            "WARNING:absl:Found untraced functions such as lstm_cell_24_layer_call_and_return_conditional_losses, lstm_cell_24_layer_call_fn, lstm_cell_25_layer_call_and_return_conditional_losses, lstm_cell_25_layer_call_fn, lstm_cell_24_layer_call_fn while saving (showing 5 of 10). These functions will not be directly callable after loading.\n"
          ],
          "name": "stderr"
        },
        {
          "output_type": "stream",
          "text": [
            "INFO:tensorflow:Assets written to: models/0_xmv_9/assets\n"
          ],
          "name": "stdout"
        },
        {
          "output_type": "stream",
          "text": [
            "INFO:tensorflow:Assets written to: models/0_xmv_9/assets\n"
          ],
          "name": "stderr"
        },
        {
          "output_type": "stream",
          "text": [
            "Feature xmv_9 Accuracy 0.602975\n",
            "Model: \"sequential_13\"\n",
            "_________________________________________________________________\n",
            "Layer (type)                 Output Shape              Param #   \n",
            "=================================================================\n",
            "lstm_26 (LSTM)               (None, 43, 256)           264192    \n",
            "_________________________________________________________________\n",
            "lstm_27 (LSTM)               (None, 128)               197120    \n",
            "_________________________________________________________________\n",
            "dense_39 (Dense)             (None, 300)               38700     \n",
            "_________________________________________________________________\n",
            "dropout_13 (Dropout)         (None, 300)               0         \n",
            "_________________________________________________________________\n",
            "dense_40 (Dense)             (None, 128)               38528     \n",
            "_________________________________________________________________\n",
            "dense_41 (Dense)             (None, 21)                2709      \n",
            "=================================================================\n",
            "Total params: 541,249\n",
            "Trainable params: 541,249\n",
            "Non-trainable params: 0\n",
            "_________________________________________________________________\n",
            "None\n"
          ],
          "name": "stdout"
        },
        {
          "output_type": "stream",
          "text": [
            "WARNING:absl:Found untraced functions such as lstm_cell_26_layer_call_and_return_conditional_losses, lstm_cell_26_layer_call_fn, lstm_cell_27_layer_call_and_return_conditional_losses, lstm_cell_27_layer_call_fn, lstm_cell_26_layer_call_fn while saving (showing 5 of 10). These functions will not be directly callable after loading.\n",
            "WARNING:absl:Found untraced functions such as lstm_cell_26_layer_call_and_return_conditional_losses, lstm_cell_26_layer_call_fn, lstm_cell_27_layer_call_and_return_conditional_losses, lstm_cell_27_layer_call_fn, lstm_cell_26_layer_call_fn while saving (showing 5 of 10). These functions will not be directly callable after loading.\n"
          ],
          "name": "stderr"
        },
        {
          "output_type": "stream",
          "text": [
            "INFO:tensorflow:Assets written to: models/0_xmv_4/assets\n"
          ],
          "name": "stdout"
        },
        {
          "output_type": "stream",
          "text": [
            "INFO:tensorflow:Assets written to: models/0_xmv_4/assets\n"
          ],
          "name": "stderr"
        },
        {
          "output_type": "stream",
          "text": [
            "Feature xmv_4 Accuracy 0.612714\n",
            "Model: \"sequential_14\"\n",
            "_________________________________________________________________\n",
            "Layer (type)                 Output Shape              Param #   \n",
            "=================================================================\n",
            "lstm_28 (LSTM)               (None, 43, 256)           264192    \n",
            "_________________________________________________________________\n",
            "lstm_29 (LSTM)               (None, 128)               197120    \n",
            "_________________________________________________________________\n",
            "dense_42 (Dense)             (None, 300)               38700     \n",
            "_________________________________________________________________\n",
            "dropout_14 (Dropout)         (None, 300)               0         \n",
            "_________________________________________________________________\n",
            "dense_43 (Dense)             (None, 128)               38528     \n",
            "_________________________________________________________________\n",
            "dense_44 (Dense)             (None, 21)                2709      \n",
            "=================================================================\n",
            "Total params: 541,249\n",
            "Trainable params: 541,249\n",
            "Non-trainable params: 0\n",
            "_________________________________________________________________\n",
            "None\n"
          ],
          "name": "stdout"
        },
        {
          "output_type": "stream",
          "text": [
            "WARNING:absl:Found untraced functions such as lstm_cell_28_layer_call_and_return_conditional_losses, lstm_cell_28_layer_call_fn, lstm_cell_29_layer_call_and_return_conditional_losses, lstm_cell_29_layer_call_fn, lstm_cell_28_layer_call_fn while saving (showing 5 of 10). These functions will not be directly callable after loading.\n",
            "WARNING:absl:Found untraced functions such as lstm_cell_28_layer_call_and_return_conditional_losses, lstm_cell_28_layer_call_fn, lstm_cell_29_layer_call_and_return_conditional_losses, lstm_cell_29_layer_call_fn, lstm_cell_28_layer_call_fn while saving (showing 5 of 10). These functions will not be directly callable after loading.\n"
          ],
          "name": "stderr"
        },
        {
          "output_type": "stream",
          "text": [
            "INFO:tensorflow:Assets written to: models/0_xmv_5/assets\n"
          ],
          "name": "stdout"
        },
        {
          "output_type": "stream",
          "text": [
            "INFO:tensorflow:Assets written to: models/0_xmv_5/assets\n"
          ],
          "name": "stderr"
        },
        {
          "output_type": "stream",
          "text": [
            "Feature xmv_5 Accuracy 0.612372\n",
            "Model: \"sequential_15\"\n",
            "_________________________________________________________________\n",
            "Layer (type)                 Output Shape              Param #   \n",
            "=================================================================\n",
            "lstm_30 (LSTM)               (None, 43, 256)           264192    \n",
            "_________________________________________________________________\n",
            "lstm_31 (LSTM)               (None, 128)               197120    \n",
            "_________________________________________________________________\n",
            "dense_45 (Dense)             (None, 300)               38700     \n",
            "_________________________________________________________________\n",
            "dropout_15 (Dropout)         (None, 300)               0         \n",
            "_________________________________________________________________\n",
            "dense_46 (Dense)             (None, 128)               38528     \n",
            "_________________________________________________________________\n",
            "dense_47 (Dense)             (None, 21)                2709      \n",
            "=================================================================\n",
            "Total params: 541,249\n",
            "Trainable params: 541,249\n",
            "Non-trainable params: 0\n",
            "_________________________________________________________________\n",
            "None\n"
          ],
          "name": "stdout"
        },
        {
          "output_type": "stream",
          "text": [
            "WARNING:absl:Found untraced functions such as lstm_cell_30_layer_call_and_return_conditional_losses, lstm_cell_30_layer_call_fn, lstm_cell_31_layer_call_and_return_conditional_losses, lstm_cell_31_layer_call_fn, lstm_cell_30_layer_call_fn while saving (showing 5 of 10). These functions will not be directly callable after loading.\n",
            "WARNING:absl:Found untraced functions such as lstm_cell_30_layer_call_and_return_conditional_losses, lstm_cell_30_layer_call_fn, lstm_cell_31_layer_call_and_return_conditional_losses, lstm_cell_31_layer_call_fn, lstm_cell_30_layer_call_fn while saving (showing 5 of 10). These functions will not be directly callable after loading.\n"
          ],
          "name": "stderr"
        },
        {
          "output_type": "stream",
          "text": [
            "INFO:tensorflow:Assets written to: models/0_xmeas_17/assets\n"
          ],
          "name": "stdout"
        },
        {
          "output_type": "stream",
          "text": [
            "INFO:tensorflow:Assets written to: models/0_xmeas_17/assets\n"
          ],
          "name": "stderr"
        },
        {
          "output_type": "stream",
          "text": [
            "Feature xmeas_17 Accuracy 0.593129\n",
            "Model: \"sequential_16\"\n",
            "_________________________________________________________________\n",
            "Layer (type)                 Output Shape              Param #   \n",
            "=================================================================\n",
            "lstm_32 (LSTM)               (None, 43, 256)           264192    \n",
            "_________________________________________________________________\n",
            "lstm_33 (LSTM)               (None, 128)               197120    \n",
            "_________________________________________________________________\n",
            "dense_48 (Dense)             (None, 300)               38700     \n",
            "_________________________________________________________________\n",
            "dropout_16 (Dropout)         (None, 300)               0         \n",
            "_________________________________________________________________\n",
            "dense_49 (Dense)             (None, 128)               38528     \n",
            "_________________________________________________________________\n",
            "dense_50 (Dense)             (None, 21)                2709      \n",
            "=================================================================\n",
            "Total params: 541,249\n",
            "Trainable params: 541,249\n",
            "Non-trainable params: 0\n",
            "_________________________________________________________________\n",
            "None\n"
          ],
          "name": "stdout"
        },
        {
          "output_type": "stream",
          "text": [
            "WARNING:absl:Found untraced functions such as lstm_cell_32_layer_call_and_return_conditional_losses, lstm_cell_32_layer_call_fn, lstm_cell_33_layer_call_and_return_conditional_losses, lstm_cell_33_layer_call_fn, lstm_cell_32_layer_call_fn while saving (showing 5 of 10). These functions will not be directly callable after loading.\n",
            "WARNING:absl:Found untraced functions such as lstm_cell_32_layer_call_and_return_conditional_losses, lstm_cell_32_layer_call_fn, lstm_cell_33_layer_call_and_return_conditional_losses, lstm_cell_33_layer_call_fn, lstm_cell_32_layer_call_fn while saving (showing 5 of 10). These functions will not be directly callable after loading.\n"
          ],
          "name": "stderr"
        },
        {
          "output_type": "stream",
          "text": [
            "INFO:tensorflow:Assets written to: models/0_xmeas_18/assets\n"
          ],
          "name": "stdout"
        },
        {
          "output_type": "stream",
          "text": [
            "INFO:tensorflow:Assets written to: models/0_xmeas_18/assets\n"
          ],
          "name": "stderr"
        },
        {
          "output_type": "stream",
          "text": [
            "Feature xmeas_18 Accuracy 0.606582\n",
            "Model: \"sequential_17\"\n",
            "_________________________________________________________________\n",
            "Layer (type)                 Output Shape              Param #   \n",
            "=================================================================\n",
            "lstm_34 (LSTM)               (None, 43, 256)           264192    \n",
            "_________________________________________________________________\n",
            "lstm_35 (LSTM)               (None, 128)               197120    \n",
            "_________________________________________________________________\n",
            "dense_51 (Dense)             (None, 300)               38700     \n",
            "_________________________________________________________________\n",
            "dropout_17 (Dropout)         (None, 300)               0         \n",
            "_________________________________________________________________\n",
            "dense_52 (Dense)             (None, 128)               38528     \n",
            "_________________________________________________________________\n",
            "dense_53 (Dense)             (None, 21)                2709      \n",
            "=================================================================\n",
            "Total params: 541,249\n",
            "Trainable params: 541,249\n",
            "Non-trainable params: 0\n",
            "_________________________________________________________________\n",
            "None\n"
          ],
          "name": "stdout"
        },
        {
          "output_type": "stream",
          "text": [
            "WARNING:absl:Found untraced functions such as lstm_cell_34_layer_call_and_return_conditional_losses, lstm_cell_34_layer_call_fn, lstm_cell_35_layer_call_and_return_conditional_losses, lstm_cell_35_layer_call_fn, lstm_cell_34_layer_call_fn while saving (showing 5 of 10). These functions will not be directly callable after loading.\n",
            "WARNING:absl:Found untraced functions such as lstm_cell_34_layer_call_and_return_conditional_losses, lstm_cell_34_layer_call_fn, lstm_cell_35_layer_call_and_return_conditional_losses, lstm_cell_35_layer_call_fn, lstm_cell_34_layer_call_fn while saving (showing 5 of 10). These functions will not be directly callable after loading.\n"
          ],
          "name": "stderr"
        },
        {
          "output_type": "stream",
          "text": [
            "INFO:tensorflow:Assets written to: models/0_xmeas_9/assets\n"
          ],
          "name": "stdout"
        },
        {
          "output_type": "stream",
          "text": [
            "INFO:tensorflow:Assets written to: models/0_xmeas_9/assets\n"
          ],
          "name": "stderr"
        },
        {
          "output_type": "stream",
          "text": [
            "Feature xmeas_9 Accuracy 0.672795\n",
            "Best Feature: xmv_10\n",
            "Accuracy is: 0.701167\n",
            "\n",
            "Iteration: 1\n",
            "Model: \"sequential_18\"\n",
            "_________________________________________________________________\n",
            "Layer (type)                 Output Shape              Param #   \n",
            "=================================================================\n",
            "lstm_36 (LSTM)               (None, 44, 256)           264192    \n",
            "_________________________________________________________________\n",
            "lstm_37 (LSTM)               (None, 128)               197120    \n",
            "_________________________________________________________________\n",
            "dense_54 (Dense)             (None, 300)               38700     \n",
            "_________________________________________________________________\n",
            "dropout_18 (Dropout)         (None, 300)               0         \n",
            "_________________________________________________________________\n",
            "dense_55 (Dense)             (None, 128)               38528     \n",
            "_________________________________________________________________\n",
            "dense_56 (Dense)             (None, 21)                2709      \n",
            "=================================================================\n",
            "Total params: 541,249\n",
            "Trainable params: 541,249\n",
            "Non-trainable params: 0\n",
            "_________________________________________________________________\n",
            "None\n"
          ],
          "name": "stdout"
        },
        {
          "output_type": "stream",
          "text": [
            "WARNING:absl:Found untraced functions such as lstm_cell_36_layer_call_and_return_conditional_losses, lstm_cell_36_layer_call_fn, lstm_cell_37_layer_call_and_return_conditional_losses, lstm_cell_37_layer_call_fn, lstm_cell_36_layer_call_fn while saving (showing 5 of 10). These functions will not be directly callable after loading.\n",
            "WARNING:absl:Found untraced functions such as lstm_cell_36_layer_call_and_return_conditional_losses, lstm_cell_36_layer_call_fn, lstm_cell_37_layer_call_and_return_conditional_losses, lstm_cell_37_layer_call_fn, lstm_cell_36_layer_call_fn while saving (showing 5 of 10). These functions will not be directly callable after loading.\n"
          ],
          "name": "stderr"
        },
        {
          "output_type": "stream",
          "text": [
            "INFO:tensorflow:Assets written to: models/1_xmv_11/assets\n"
          ],
          "name": "stdout"
        },
        {
          "output_type": "stream",
          "text": [
            "INFO:tensorflow:Assets written to: models/1_xmv_11/assets\n"
          ],
          "name": "stderr"
        },
        {
          "output_type": "stream",
          "text": [
            "Feature xmv_11 Accuracy 0.710006\n",
            "Model: \"sequential_19\"\n",
            "_________________________________________________________________\n",
            "Layer (type)                 Output Shape              Param #   \n",
            "=================================================================\n",
            "lstm_38 (LSTM)               (None, 44, 256)           264192    \n",
            "_________________________________________________________________\n",
            "lstm_39 (LSTM)               (None, 128)               197120    \n",
            "_________________________________________________________________\n",
            "dense_57 (Dense)             (None, 300)               38700     \n",
            "_________________________________________________________________\n",
            "dropout_19 (Dropout)         (None, 300)               0         \n",
            "_________________________________________________________________\n",
            "dense_58 (Dense)             (None, 128)               38528     \n",
            "_________________________________________________________________\n",
            "dense_59 (Dense)             (None, 21)                2709      \n",
            "=================================================================\n",
            "Total params: 541,249\n",
            "Trainable params: 541,249\n",
            "Non-trainable params: 0\n",
            "_________________________________________________________________\n",
            "None\n"
          ],
          "name": "stdout"
        },
        {
          "output_type": "stream",
          "text": [
            "WARNING:absl:Found untraced functions such as lstm_cell_38_layer_call_and_return_conditional_losses, lstm_cell_38_layer_call_fn, lstm_cell_39_layer_call_and_return_conditional_losses, lstm_cell_39_layer_call_fn, lstm_cell_38_layer_call_fn while saving (showing 5 of 10). These functions will not be directly callable after loading.\n",
            "WARNING:absl:Found untraced functions such as lstm_cell_38_layer_call_and_return_conditional_losses, lstm_cell_38_layer_call_fn, lstm_cell_39_layer_call_and_return_conditional_losses, lstm_cell_39_layer_call_fn, lstm_cell_38_layer_call_fn while saving (showing 5 of 10). These functions will not be directly callable after loading.\n"
          ],
          "name": "stderr"
        },
        {
          "output_type": "stream",
          "text": [
            "INFO:tensorflow:Assets written to: models/1_xmeas_19/assets\n"
          ],
          "name": "stdout"
        },
        {
          "output_type": "stream",
          "text": [
            "INFO:tensorflow:Assets written to: models/1_xmeas_19/assets\n"
          ],
          "name": "stderr"
        },
        {
          "output_type": "stream",
          "text": [
            "Feature xmeas_19 Accuracy 0.721383\n",
            "Model: \"sequential_20\"\n",
            "_________________________________________________________________\n",
            "Layer (type)                 Output Shape              Param #   \n",
            "=================================================================\n",
            "lstm_40 (LSTM)               (None, 44, 256)           264192    \n",
            "_________________________________________________________________\n",
            "lstm_41 (LSTM)               (None, 128)               197120    \n",
            "_________________________________________________________________\n",
            "dense_60 (Dense)             (None, 300)               38700     \n",
            "_________________________________________________________________\n",
            "dropout_20 (Dropout)         (None, 300)               0         \n",
            "_________________________________________________________________\n",
            "dense_61 (Dense)             (None, 128)               38528     \n",
            "_________________________________________________________________\n",
            "dense_62 (Dense)             (None, 21)                2709      \n",
            "=================================================================\n",
            "Total params: 541,249\n",
            "Trainable params: 541,249\n",
            "Non-trainable params: 0\n",
            "_________________________________________________________________\n",
            "None\n"
          ],
          "name": "stdout"
        },
        {
          "output_type": "stream",
          "text": [
            "WARNING:absl:Found untraced functions such as lstm_cell_40_layer_call_and_return_conditional_losses, lstm_cell_40_layer_call_fn, lstm_cell_41_layer_call_and_return_conditional_losses, lstm_cell_41_layer_call_fn, lstm_cell_40_layer_call_fn while saving (showing 5 of 10). These functions will not be directly callable after loading.\n",
            "WARNING:absl:Found untraced functions such as lstm_cell_40_layer_call_and_return_conditional_losses, lstm_cell_40_layer_call_fn, lstm_cell_41_layer_call_and_return_conditional_losses, lstm_cell_41_layer_call_fn, lstm_cell_40_layer_call_fn while saving (showing 5 of 10). These functions will not be directly callable after loading.\n"
          ],
          "name": "stderr"
        },
        {
          "output_type": "stream",
          "text": [
            "INFO:tensorflow:Assets written to: models/1_xmeas_21/assets\n"
          ],
          "name": "stdout"
        },
        {
          "output_type": "stream",
          "text": [
            "INFO:tensorflow:Assets written to: models/1_xmeas_21/assets\n"
          ],
          "name": "stderr"
        },
        {
          "output_type": "stream",
          "text": [
            "Feature xmeas_21 Accuracy 0.759493\n",
            "Model: \"sequential_21\"\n",
            "_________________________________________________________________\n",
            "Layer (type)                 Output Shape              Param #   \n",
            "=================================================================\n",
            "lstm_42 (LSTM)               (None, 44, 256)           264192    \n",
            "_________________________________________________________________\n",
            "lstm_43 (LSTM)               (None, 128)               197120    \n",
            "_________________________________________________________________\n",
            "dense_63 (Dense)             (None, 300)               38700     \n",
            "_________________________________________________________________\n",
            "dropout_21 (Dropout)         (None, 300)               0         \n",
            "_________________________________________________________________\n",
            "dense_64 (Dense)             (None, 128)               38528     \n",
            "_________________________________________________________________\n",
            "dense_65 (Dense)             (None, 21)                2709      \n",
            "=================================================================\n",
            "Total params: 541,249\n",
            "Trainable params: 541,249\n",
            "Non-trainable params: 0\n",
            "_________________________________________________________________\n",
            "None\n"
          ],
          "name": "stdout"
        },
        {
          "output_type": "stream",
          "text": [
            "WARNING:absl:Found untraced functions such as lstm_cell_42_layer_call_and_return_conditional_losses, lstm_cell_42_layer_call_fn, lstm_cell_43_layer_call_and_return_conditional_losses, lstm_cell_43_layer_call_fn, lstm_cell_42_layer_call_fn while saving (showing 5 of 10). These functions will not be directly callable after loading.\n",
            "WARNING:absl:Found untraced functions such as lstm_cell_42_layer_call_and_return_conditional_losses, lstm_cell_42_layer_call_fn, lstm_cell_43_layer_call_and_return_conditional_losses, lstm_cell_43_layer_call_fn, lstm_cell_42_layer_call_fn while saving (showing 5 of 10). These functions will not be directly callable after loading.\n"
          ],
          "name": "stderr"
        },
        {
          "output_type": "stream",
          "text": [
            "INFO:tensorflow:Assets written to: models/1_xmv_9/assets\n"
          ],
          "name": "stdout"
        },
        {
          "output_type": "stream",
          "text": [
            "INFO:tensorflow:Assets written to: models/1_xmv_9/assets\n"
          ],
          "name": "stderr"
        },
        {
          "output_type": "stream",
          "text": [
            "Feature xmv_9 Accuracy 0.711344\n",
            "Model: \"sequential_22\"\n",
            "_________________________________________________________________\n",
            "Layer (type)                 Output Shape              Param #   \n",
            "=================================================================\n",
            "lstm_44 (LSTM)               (None, 44, 256)           264192    \n",
            "_________________________________________________________________\n",
            "lstm_45 (LSTM)               (None, 128)               197120    \n",
            "_________________________________________________________________\n",
            "dense_66 (Dense)             (None, 300)               38700     \n",
            "_________________________________________________________________\n",
            "dropout_22 (Dropout)         (None, 300)               0         \n",
            "_________________________________________________________________\n",
            "dense_67 (Dense)             (None, 128)               38528     \n",
            "_________________________________________________________________\n",
            "dense_68 (Dense)             (None, 21)                2709      \n",
            "=================================================================\n",
            "Total params: 541,249\n",
            "Trainable params: 541,249\n",
            "Non-trainable params: 0\n",
            "_________________________________________________________________\n",
            "None\n"
          ],
          "name": "stdout"
        },
        {
          "output_type": "stream",
          "text": [
            "WARNING:absl:Found untraced functions such as lstm_cell_44_layer_call_and_return_conditional_losses, lstm_cell_44_layer_call_fn, lstm_cell_45_layer_call_and_return_conditional_losses, lstm_cell_45_layer_call_fn, lstm_cell_44_layer_call_fn while saving (showing 5 of 10). These functions will not be directly callable after loading.\n",
            "WARNING:absl:Found untraced functions such as lstm_cell_44_layer_call_and_return_conditional_losses, lstm_cell_44_layer_call_fn, lstm_cell_45_layer_call_and_return_conditional_losses, lstm_cell_45_layer_call_fn, lstm_cell_44_layer_call_fn while saving (showing 5 of 10). These functions will not be directly callable after loading.\n"
          ],
          "name": "stderr"
        },
        {
          "output_type": "stream",
          "text": [
            "INFO:tensorflow:Assets written to: models/1_xmv_4/assets\n"
          ],
          "name": "stdout"
        },
        {
          "output_type": "stream",
          "text": [
            "INFO:tensorflow:Assets written to: models/1_xmv_4/assets\n"
          ],
          "name": "stderr"
        },
        {
          "output_type": "stream",
          "text": [
            "Feature xmv_4 Accuracy 0.722581\n",
            "Model: \"sequential_23\"\n",
            "_________________________________________________________________\n",
            "Layer (type)                 Output Shape              Param #   \n",
            "=================================================================\n",
            "lstm_46 (LSTM)               (None, 44, 256)           264192    \n",
            "_________________________________________________________________\n",
            "lstm_47 (LSTM)               (None, 128)               197120    \n",
            "_________________________________________________________________\n",
            "dense_69 (Dense)             (None, 300)               38700     \n",
            "_________________________________________________________________\n",
            "dropout_23 (Dropout)         (None, 300)               0         \n",
            "_________________________________________________________________\n",
            "dense_70 (Dense)             (None, 128)               38528     \n",
            "_________________________________________________________________\n",
            "dense_71 (Dense)             (None, 21)                2709      \n",
            "=================================================================\n",
            "Total params: 541,249\n",
            "Trainable params: 541,249\n",
            "Non-trainable params: 0\n",
            "_________________________________________________________________\n",
            "None\n"
          ],
          "name": "stdout"
        },
        {
          "output_type": "stream",
          "text": [
            "WARNING:absl:Found untraced functions such as lstm_cell_46_layer_call_and_return_conditional_losses, lstm_cell_46_layer_call_fn, lstm_cell_47_layer_call_and_return_conditional_losses, lstm_cell_47_layer_call_fn, lstm_cell_46_layer_call_fn while saving (showing 5 of 10). These functions will not be directly callable after loading.\n",
            "WARNING:absl:Found untraced functions such as lstm_cell_46_layer_call_and_return_conditional_losses, lstm_cell_46_layer_call_fn, lstm_cell_47_layer_call_and_return_conditional_losses, lstm_cell_47_layer_call_fn, lstm_cell_46_layer_call_fn while saving (showing 5 of 10). These functions will not be directly callable after loading.\n"
          ],
          "name": "stderr"
        },
        {
          "output_type": "stream",
          "text": [
            "INFO:tensorflow:Assets written to: models/1_xmv_5/assets\n"
          ],
          "name": "stdout"
        },
        {
          "output_type": "stream",
          "text": [
            "INFO:tensorflow:Assets written to: models/1_xmv_5/assets\n"
          ],
          "name": "stderr"
        },
        {
          "output_type": "stream",
          "text": [
            "Feature xmv_5 Accuracy 0.720655\n",
            "Model: \"sequential_24\"\n",
            "_________________________________________________________________\n",
            "Layer (type)                 Output Shape              Param #   \n",
            "=================================================================\n",
            "lstm_48 (LSTM)               (None, 44, 256)           264192    \n",
            "_________________________________________________________________\n",
            "lstm_49 (LSTM)               (None, 128)               197120    \n",
            "_________________________________________________________________\n",
            "dense_72 (Dense)             (None, 300)               38700     \n",
            "_________________________________________________________________\n",
            "dropout_24 (Dropout)         (None, 300)               0         \n",
            "_________________________________________________________________\n",
            "dense_73 (Dense)             (None, 128)               38528     \n",
            "_________________________________________________________________\n",
            "dense_74 (Dense)             (None, 21)                2709      \n",
            "=================================================================\n",
            "Total params: 541,249\n",
            "Trainable params: 541,249\n",
            "Non-trainable params: 0\n",
            "_________________________________________________________________\n",
            "None\n"
          ],
          "name": "stdout"
        },
        {
          "output_type": "stream",
          "text": [
            "WARNING:absl:Found untraced functions such as lstm_cell_48_layer_call_and_return_conditional_losses, lstm_cell_48_layer_call_fn, lstm_cell_49_layer_call_and_return_conditional_losses, lstm_cell_49_layer_call_fn, lstm_cell_48_layer_call_fn while saving (showing 5 of 10). These functions will not be directly callable after loading.\n",
            "WARNING:absl:Found untraced functions such as lstm_cell_48_layer_call_and_return_conditional_losses, lstm_cell_48_layer_call_fn, lstm_cell_49_layer_call_and_return_conditional_losses, lstm_cell_49_layer_call_fn, lstm_cell_48_layer_call_fn while saving (showing 5 of 10). These functions will not be directly callable after loading.\n"
          ],
          "name": "stderr"
        },
        {
          "output_type": "stream",
          "text": [
            "INFO:tensorflow:Assets written to: models/1_xmeas_17/assets\n"
          ],
          "name": "stdout"
        },
        {
          "output_type": "stream",
          "text": [
            "INFO:tensorflow:Assets written to: models/1_xmeas_17/assets\n"
          ],
          "name": "stderr"
        },
        {
          "output_type": "stream",
          "text": [
            "Feature xmeas_17 Accuracy 0.698801\n",
            "Model: \"sequential_25\"\n",
            "_________________________________________________________________\n",
            "Layer (type)                 Output Shape              Param #   \n",
            "=================================================================\n",
            "lstm_50 (LSTM)               (None, 44, 256)           264192    \n",
            "_________________________________________________________________\n",
            "lstm_51 (LSTM)               (None, 128)               197120    \n",
            "_________________________________________________________________\n",
            "dense_75 (Dense)             (None, 300)               38700     \n",
            "_________________________________________________________________\n",
            "dropout_25 (Dropout)         (None, 300)               0         \n",
            "_________________________________________________________________\n",
            "dense_76 (Dense)             (None, 128)               38528     \n",
            "_________________________________________________________________\n",
            "dense_77 (Dense)             (None, 21)                2709      \n",
            "=================================================================\n",
            "Total params: 541,249\n",
            "Trainable params: 541,249\n",
            "Non-trainable params: 0\n",
            "_________________________________________________________________\n",
            "None\n"
          ],
          "name": "stdout"
        },
        {
          "output_type": "stream",
          "text": [
            "WARNING:absl:Found untraced functions such as lstm_cell_50_layer_call_and_return_conditional_losses, lstm_cell_50_layer_call_fn, lstm_cell_51_layer_call_and_return_conditional_losses, lstm_cell_51_layer_call_fn, lstm_cell_50_layer_call_fn while saving (showing 5 of 10). These functions will not be directly callable after loading.\n",
            "WARNING:absl:Found untraced functions such as lstm_cell_50_layer_call_and_return_conditional_losses, lstm_cell_50_layer_call_fn, lstm_cell_51_layer_call_and_return_conditional_losses, lstm_cell_51_layer_call_fn, lstm_cell_50_layer_call_fn while saving (showing 5 of 10). These functions will not be directly callable after loading.\n"
          ],
          "name": "stderr"
        },
        {
          "output_type": "stream",
          "text": [
            "INFO:tensorflow:Assets written to: models/1_xmeas_18/assets\n"
          ],
          "name": "stdout"
        },
        {
          "output_type": "stream",
          "text": [
            "INFO:tensorflow:Assets written to: models/1_xmeas_18/assets\n"
          ],
          "name": "stderr"
        },
        {
          "output_type": "stream",
          "text": [
            "Feature xmeas_18 Accuracy 0.721939\n",
            "Model: \"sequential_26\"\n",
            "_________________________________________________________________\n",
            "Layer (type)                 Output Shape              Param #   \n",
            "=================================================================\n",
            "lstm_52 (LSTM)               (None, 44, 256)           264192    \n",
            "_________________________________________________________________\n",
            "lstm_53 (LSTM)               (None, 128)               197120    \n",
            "_________________________________________________________________\n",
            "dense_78 (Dense)             (None, 300)               38700     \n",
            "_________________________________________________________________\n",
            "dropout_26 (Dropout)         (None, 300)               0         \n",
            "_________________________________________________________________\n",
            "dense_79 (Dense)             (None, 128)               38528     \n",
            "_________________________________________________________________\n",
            "dense_80 (Dense)             (None, 21)                2709      \n",
            "=================================================================\n",
            "Total params: 541,249\n",
            "Trainable params: 541,249\n",
            "Non-trainable params: 0\n",
            "_________________________________________________________________\n",
            "None\n"
          ],
          "name": "stdout"
        },
        {
          "output_type": "stream",
          "text": [
            "WARNING:absl:Found untraced functions such as lstm_cell_52_layer_call_and_return_conditional_losses, lstm_cell_52_layer_call_fn, lstm_cell_53_layer_call_and_return_conditional_losses, lstm_cell_53_layer_call_fn, lstm_cell_52_layer_call_fn while saving (showing 5 of 10). These functions will not be directly callable after loading.\n",
            "WARNING:absl:Found untraced functions such as lstm_cell_52_layer_call_and_return_conditional_losses, lstm_cell_52_layer_call_fn, lstm_cell_53_layer_call_and_return_conditional_losses, lstm_cell_53_layer_call_fn, lstm_cell_52_layer_call_fn while saving (showing 5 of 10). These functions will not be directly callable after loading.\n"
          ],
          "name": "stderr"
        },
        {
          "output_type": "stream",
          "text": [
            "INFO:tensorflow:Assets written to: models/1_xmeas_9/assets\n"
          ],
          "name": "stdout"
        },
        {
          "output_type": "stream",
          "text": [
            "INFO:tensorflow:Assets written to: models/1_xmeas_9/assets\n"
          ],
          "name": "stderr"
        },
        {
          "output_type": "stream",
          "text": [
            "Feature xmeas_9 Accuracy 0.742166\n",
            "Best Feature: xmeas_21\n",
            "Accuracy is: 0.759493\n",
            "\n",
            "Iteration: 2\n",
            "Model: \"sequential_27\"\n",
            "_________________________________________________________________\n",
            "Layer (type)                 Output Shape              Param #   \n",
            "=================================================================\n",
            "lstm_54 (LSTM)               (None, 45, 256)           264192    \n",
            "_________________________________________________________________\n",
            "lstm_55 (LSTM)               (None, 128)               197120    \n",
            "_________________________________________________________________\n",
            "dense_81 (Dense)             (None, 300)               38700     \n",
            "_________________________________________________________________\n",
            "dropout_27 (Dropout)         (None, 300)               0         \n",
            "_________________________________________________________________\n",
            "dense_82 (Dense)             (None, 128)               38528     \n",
            "_________________________________________________________________\n",
            "dense_83 (Dense)             (None, 21)                2709      \n",
            "=================================================================\n",
            "Total params: 541,249\n",
            "Trainable params: 541,249\n",
            "Non-trainable params: 0\n",
            "_________________________________________________________________\n",
            "None\n"
          ],
          "name": "stdout"
        },
        {
          "output_type": "stream",
          "text": [
            "WARNING:absl:Found untraced functions such as lstm_cell_54_layer_call_and_return_conditional_losses, lstm_cell_54_layer_call_fn, lstm_cell_55_layer_call_and_return_conditional_losses, lstm_cell_55_layer_call_fn, lstm_cell_54_layer_call_fn while saving (showing 5 of 10). These functions will not be directly callable after loading.\n",
            "WARNING:absl:Found untraced functions such as lstm_cell_54_layer_call_and_return_conditional_losses, lstm_cell_54_layer_call_fn, lstm_cell_55_layer_call_and_return_conditional_losses, lstm_cell_55_layer_call_fn, lstm_cell_54_layer_call_fn while saving (showing 5 of 10). These functions will not be directly callable after loading.\n"
          ],
          "name": "stderr"
        },
        {
          "output_type": "stream",
          "text": [
            "INFO:tensorflow:Assets written to: models/2_xmv_11/assets\n"
          ],
          "name": "stdout"
        },
        {
          "output_type": "stream",
          "text": [
            "INFO:tensorflow:Assets written to: models/2_xmv_11/assets\n"
          ],
          "name": "stderr"
        },
        {
          "output_type": "stream",
          "text": [
            "Feature xmv_11 Accuracy 0.770131\n",
            "Model: \"sequential_28\"\n",
            "_________________________________________________________________\n",
            "Layer (type)                 Output Shape              Param #   \n",
            "=================================================================\n",
            "lstm_56 (LSTM)               (None, 45, 256)           264192    \n",
            "_________________________________________________________________\n",
            "lstm_57 (LSTM)               (None, 128)               197120    \n",
            "_________________________________________________________________\n",
            "dense_84 (Dense)             (None, 300)               38700     \n",
            "_________________________________________________________________\n",
            "dropout_28 (Dropout)         (None, 300)               0         \n",
            "_________________________________________________________________\n",
            "dense_85 (Dense)             (None, 128)               38528     \n",
            "_________________________________________________________________\n",
            "dense_86 (Dense)             (None, 21)                2709      \n",
            "=================================================================\n",
            "Total params: 541,249\n",
            "Trainable params: 541,249\n",
            "Non-trainable params: 0\n",
            "_________________________________________________________________\n",
            "None\n"
          ],
          "name": "stdout"
        },
        {
          "output_type": "stream",
          "text": [
            "WARNING:absl:Found untraced functions such as lstm_cell_56_layer_call_and_return_conditional_losses, lstm_cell_56_layer_call_fn, lstm_cell_57_layer_call_and_return_conditional_losses, lstm_cell_57_layer_call_fn, lstm_cell_56_layer_call_fn while saving (showing 5 of 10). These functions will not be directly callable after loading.\n",
            "WARNING:absl:Found untraced functions such as lstm_cell_56_layer_call_and_return_conditional_losses, lstm_cell_56_layer_call_fn, lstm_cell_57_layer_call_and_return_conditional_losses, lstm_cell_57_layer_call_fn, lstm_cell_56_layer_call_fn while saving (showing 5 of 10). These functions will not be directly callable after loading.\n"
          ],
          "name": "stderr"
        },
        {
          "output_type": "stream",
          "text": [
            "INFO:tensorflow:Assets written to: models/2_xmeas_19/assets\n"
          ],
          "name": "stdout"
        },
        {
          "output_type": "stream",
          "text": [
            "INFO:tensorflow:Assets written to: models/2_xmeas_19/assets\n"
          ],
          "name": "stderr"
        },
        {
          "output_type": "stream",
          "text": [
            "Feature xmeas_19 Accuracy 0.766973\n",
            "Model: \"sequential_29\"\n",
            "_________________________________________________________________\n",
            "Layer (type)                 Output Shape              Param #   \n",
            "=================================================================\n",
            "lstm_58 (LSTM)               (None, 45, 256)           264192    \n",
            "_________________________________________________________________\n",
            "lstm_59 (LSTM)               (None, 128)               197120    \n",
            "_________________________________________________________________\n",
            "dense_87 (Dense)             (None, 300)               38700     \n",
            "_________________________________________________________________\n",
            "dropout_29 (Dropout)         (None, 300)               0         \n",
            "_________________________________________________________________\n",
            "dense_88 (Dense)             (None, 128)               38528     \n",
            "_________________________________________________________________\n",
            "dense_89 (Dense)             (None, 21)                2709      \n",
            "=================================================================\n",
            "Total params: 541,249\n",
            "Trainable params: 541,249\n",
            "Non-trainable params: 0\n",
            "_________________________________________________________________\n",
            "None\n"
          ],
          "name": "stdout"
        },
        {
          "output_type": "stream",
          "text": [
            "WARNING:absl:Found untraced functions such as lstm_cell_58_layer_call_and_return_conditional_losses, lstm_cell_58_layer_call_fn, lstm_cell_59_layer_call_and_return_conditional_losses, lstm_cell_59_layer_call_fn, lstm_cell_58_layer_call_fn while saving (showing 5 of 10). These functions will not be directly callable after loading.\n",
            "WARNING:absl:Found untraced functions such as lstm_cell_58_layer_call_and_return_conditional_losses, lstm_cell_58_layer_call_fn, lstm_cell_59_layer_call_and_return_conditional_losses, lstm_cell_59_layer_call_fn, lstm_cell_58_layer_call_fn while saving (showing 5 of 10). These functions will not be directly callable after loading.\n"
          ],
          "name": "stderr"
        },
        {
          "output_type": "stream",
          "text": [
            "INFO:tensorflow:Assets written to: models/2_xmv_9/assets\n"
          ],
          "name": "stdout"
        },
        {
          "output_type": "stream",
          "text": [
            "INFO:tensorflow:Assets written to: models/2_xmv_9/assets\n"
          ],
          "name": "stderr"
        },
        {
          "output_type": "stream",
          "text": [
            "Feature xmv_9 Accuracy 0.769328\n",
            "Model: \"sequential_30\"\n",
            "_________________________________________________________________\n",
            "Layer (type)                 Output Shape              Param #   \n",
            "=================================================================\n",
            "lstm_60 (LSTM)               (None, 45, 256)           264192    \n",
            "_________________________________________________________________\n",
            "lstm_61 (LSTM)               (None, 128)               197120    \n",
            "_________________________________________________________________\n",
            "dense_90 (Dense)             (None, 300)               38700     \n",
            "_________________________________________________________________\n",
            "dropout_30 (Dropout)         (None, 300)               0         \n",
            "_________________________________________________________________\n",
            "dense_91 (Dense)             (None, 128)               38528     \n",
            "_________________________________________________________________\n",
            "dense_92 (Dense)             (None, 21)                2709      \n",
            "=================================================================\n",
            "Total params: 541,249\n",
            "Trainable params: 541,249\n",
            "Non-trainable params: 0\n",
            "_________________________________________________________________\n",
            "None\n"
          ],
          "name": "stdout"
        },
        {
          "output_type": "stream",
          "text": [
            "WARNING:absl:Found untraced functions such as lstm_cell_60_layer_call_and_return_conditional_losses, lstm_cell_60_layer_call_fn, lstm_cell_61_layer_call_and_return_conditional_losses, lstm_cell_61_layer_call_fn, lstm_cell_60_layer_call_fn while saving (showing 5 of 10). These functions will not be directly callable after loading.\n",
            "WARNING:absl:Found untraced functions such as lstm_cell_60_layer_call_and_return_conditional_losses, lstm_cell_60_layer_call_fn, lstm_cell_61_layer_call_and_return_conditional_losses, lstm_cell_61_layer_call_fn, lstm_cell_60_layer_call_fn while saving (showing 5 of 10). These functions will not be directly callable after loading.\n"
          ],
          "name": "stderr"
        },
        {
          "output_type": "stream",
          "text": [
            "INFO:tensorflow:Assets written to: models/2_xmv_4/assets\n"
          ],
          "name": "stdout"
        },
        {
          "output_type": "stream",
          "text": [
            "INFO:tensorflow:Assets written to: models/2_xmv_4/assets\n"
          ],
          "name": "stderr"
        },
        {
          "output_type": "stream",
          "text": [
            "Feature xmv_4 Accuracy 0.773662\n",
            "Model: \"sequential_31\"\n",
            "_________________________________________________________________\n",
            "Layer (type)                 Output Shape              Param #   \n",
            "=================================================================\n",
            "lstm_62 (LSTM)               (None, 45, 256)           264192    \n",
            "_________________________________________________________________\n",
            "lstm_63 (LSTM)               (None, 128)               197120    \n",
            "_________________________________________________________________\n",
            "dense_93 (Dense)             (None, 300)               38700     \n",
            "_________________________________________________________________\n",
            "dropout_31 (Dropout)         (None, 300)               0         \n",
            "_________________________________________________________________\n",
            "dense_94 (Dense)             (None, 128)               38528     \n",
            "_________________________________________________________________\n",
            "dense_95 (Dense)             (None, 21)                2709      \n",
            "=================================================================\n",
            "Total params: 541,249\n",
            "Trainable params: 541,249\n",
            "Non-trainable params: 0\n",
            "_________________________________________________________________\n",
            "None\n"
          ],
          "name": "stdout"
        },
        {
          "output_type": "stream",
          "text": [
            "WARNING:absl:Found untraced functions such as lstm_cell_62_layer_call_and_return_conditional_losses, lstm_cell_62_layer_call_fn, lstm_cell_63_layer_call_and_return_conditional_losses, lstm_cell_63_layer_call_fn, lstm_cell_62_layer_call_fn while saving (showing 5 of 10). These functions will not be directly callable after loading.\n",
            "WARNING:absl:Found untraced functions such as lstm_cell_62_layer_call_and_return_conditional_losses, lstm_cell_62_layer_call_fn, lstm_cell_63_layer_call_and_return_conditional_losses, lstm_cell_63_layer_call_fn, lstm_cell_62_layer_call_fn while saving (showing 5 of 10). These functions will not be directly callable after loading.\n"
          ],
          "name": "stderr"
        },
        {
          "output_type": "stream",
          "text": [
            "INFO:tensorflow:Assets written to: models/2_xmv_5/assets\n"
          ],
          "name": "stdout"
        },
        {
          "output_type": "stream",
          "text": [
            "INFO:tensorflow:Assets written to: models/2_xmv_5/assets\n"
          ],
          "name": "stderr"
        },
        {
          "output_type": "stream",
          "text": [
            "Feature xmv_5 Accuracy 0.773994\n",
            "Model: \"sequential_32\"\n",
            "_________________________________________________________________\n",
            "Layer (type)                 Output Shape              Param #   \n",
            "=================================================================\n",
            "lstm_64 (LSTM)               (None, 45, 256)           264192    \n",
            "_________________________________________________________________\n",
            "lstm_65 (LSTM)               (None, 128)               197120    \n",
            "_________________________________________________________________\n",
            "dense_96 (Dense)             (None, 300)               38700     \n",
            "_________________________________________________________________\n",
            "dropout_32 (Dropout)         (None, 300)               0         \n",
            "_________________________________________________________________\n",
            "dense_97 (Dense)             (None, 128)               38528     \n",
            "_________________________________________________________________\n",
            "dense_98 (Dense)             (None, 21)                2709      \n",
            "=================================================================\n",
            "Total params: 541,249\n",
            "Trainable params: 541,249\n",
            "Non-trainable params: 0\n",
            "_________________________________________________________________\n",
            "None\n"
          ],
          "name": "stdout"
        },
        {
          "output_type": "stream",
          "text": [
            "WARNING:absl:Found untraced functions such as lstm_cell_64_layer_call_and_return_conditional_losses, lstm_cell_64_layer_call_fn, lstm_cell_65_layer_call_and_return_conditional_losses, lstm_cell_65_layer_call_fn, lstm_cell_64_layer_call_fn while saving (showing 5 of 10). These functions will not be directly callable after loading.\n",
            "WARNING:absl:Found untraced functions such as lstm_cell_64_layer_call_and_return_conditional_losses, lstm_cell_64_layer_call_fn, lstm_cell_65_layer_call_and_return_conditional_losses, lstm_cell_65_layer_call_fn, lstm_cell_64_layer_call_fn while saving (showing 5 of 10). These functions will not be directly callable after loading.\n"
          ],
          "name": "stderr"
        },
        {
          "output_type": "stream",
          "text": [
            "INFO:tensorflow:Assets written to: models/2_xmeas_17/assets\n"
          ],
          "name": "stdout"
        },
        {
          "output_type": "stream",
          "text": [
            "INFO:tensorflow:Assets written to: models/2_xmeas_17/assets\n"
          ],
          "name": "stderr"
        },
        {
          "output_type": "stream",
          "text": [
            "Feature xmeas_17 Accuracy 0.748684\n",
            "Model: \"sequential_33\"\n",
            "_________________________________________________________________\n",
            "Layer (type)                 Output Shape              Param #   \n",
            "=================================================================\n",
            "lstm_66 (LSTM)               (None, 45, 256)           264192    \n",
            "_________________________________________________________________\n",
            "lstm_67 (LSTM)               (None, 128)               197120    \n",
            "_________________________________________________________________\n",
            "dense_99 (Dense)             (None, 300)               38700     \n",
            "_________________________________________________________________\n",
            "dropout_33 (Dropout)         (None, 300)               0         \n",
            "_________________________________________________________________\n",
            "dense_100 (Dense)            (None, 128)               38528     \n",
            "_________________________________________________________________\n",
            "dense_101 (Dense)            (None, 21)                2709      \n",
            "=================================================================\n",
            "Total params: 541,249\n",
            "Trainable params: 541,249\n",
            "Non-trainable params: 0\n",
            "_________________________________________________________________\n",
            "None\n"
          ],
          "name": "stdout"
        },
        {
          "output_type": "stream",
          "text": [
            "WARNING:absl:Found untraced functions such as lstm_cell_66_layer_call_and_return_conditional_losses, lstm_cell_66_layer_call_fn, lstm_cell_67_layer_call_and_return_conditional_losses, lstm_cell_67_layer_call_fn, lstm_cell_66_layer_call_fn while saving (showing 5 of 10). These functions will not be directly callable after loading.\n",
            "WARNING:absl:Found untraced functions such as lstm_cell_66_layer_call_and_return_conditional_losses, lstm_cell_66_layer_call_fn, lstm_cell_67_layer_call_and_return_conditional_losses, lstm_cell_67_layer_call_fn, lstm_cell_66_layer_call_fn while saving (showing 5 of 10). These functions will not be directly callable after loading.\n"
          ],
          "name": "stderr"
        },
        {
          "output_type": "stream",
          "text": [
            "INFO:tensorflow:Assets written to: models/2_xmeas_18/assets\n"
          ],
          "name": "stdout"
        },
        {
          "output_type": "stream",
          "text": [
            "INFO:tensorflow:Assets written to: models/2_xmeas_18/assets\n"
          ],
          "name": "stderr"
        },
        {
          "output_type": "stream",
          "text": [
            "Feature xmeas_18 Accuracy 0.768568\n",
            "Model: \"sequential_34\"\n",
            "_________________________________________________________________\n",
            "Layer (type)                 Output Shape              Param #   \n",
            "=================================================================\n",
            "lstm_68 (LSTM)               (None, 45, 256)           264192    \n",
            "_________________________________________________________________\n",
            "lstm_69 (LSTM)               (None, 128)               197120    \n",
            "_________________________________________________________________\n",
            "dense_102 (Dense)            (None, 300)               38700     \n",
            "_________________________________________________________________\n",
            "dropout_34 (Dropout)         (None, 300)               0         \n",
            "_________________________________________________________________\n",
            "dense_103 (Dense)            (None, 128)               38528     \n",
            "_________________________________________________________________\n",
            "dense_104 (Dense)            (None, 21)                2709      \n",
            "=================================================================\n",
            "Total params: 541,249\n",
            "Trainable params: 541,249\n",
            "Non-trainable params: 0\n",
            "_________________________________________________________________\n",
            "None\n"
          ],
          "name": "stdout"
        },
        {
          "output_type": "stream",
          "text": [
            "WARNING:absl:Found untraced functions such as lstm_cell_68_layer_call_and_return_conditional_losses, lstm_cell_68_layer_call_fn, lstm_cell_69_layer_call_and_return_conditional_losses, lstm_cell_69_layer_call_fn, lstm_cell_68_layer_call_fn while saving (showing 5 of 10). These functions will not be directly callable after loading.\n",
            "WARNING:absl:Found untraced functions such as lstm_cell_68_layer_call_and_return_conditional_losses, lstm_cell_68_layer_call_fn, lstm_cell_69_layer_call_and_return_conditional_losses, lstm_cell_69_layer_call_fn, lstm_cell_68_layer_call_fn while saving (showing 5 of 10). These functions will not be directly callable after loading.\n"
          ],
          "name": "stderr"
        },
        {
          "output_type": "stream",
          "text": [
            "INFO:tensorflow:Assets written to: models/2_xmeas_9/assets\n"
          ],
          "name": "stdout"
        },
        {
          "output_type": "stream",
          "text": [
            "INFO:tensorflow:Assets written to: models/2_xmeas_9/assets\n"
          ],
          "name": "stderr"
        },
        {
          "output_type": "stream",
          "text": [
            "Feature xmeas_9 Accuracy 0.765090\n",
            "Best Feature: xmv_5\n",
            "Accuracy is: 0.773994\n",
            "\n",
            "Iteration: 3\n",
            "Model: \"sequential_35\"\n",
            "_________________________________________________________________\n",
            "Layer (type)                 Output Shape              Param #   \n",
            "=================================================================\n",
            "lstm_70 (LSTM)               (None, 46, 256)           264192    \n",
            "_________________________________________________________________\n",
            "lstm_71 (LSTM)               (None, 128)               197120    \n",
            "_________________________________________________________________\n",
            "dense_105 (Dense)            (None, 300)               38700     \n",
            "_________________________________________________________________\n",
            "dropout_35 (Dropout)         (None, 300)               0         \n",
            "_________________________________________________________________\n",
            "dense_106 (Dense)            (None, 128)               38528     \n",
            "_________________________________________________________________\n",
            "dense_107 (Dense)            (None, 21)                2709      \n",
            "=================================================================\n",
            "Total params: 541,249\n",
            "Trainable params: 541,249\n",
            "Non-trainable params: 0\n",
            "_________________________________________________________________\n",
            "None\n"
          ],
          "name": "stdout"
        },
        {
          "output_type": "stream",
          "text": [
            "WARNING:absl:Found untraced functions such as lstm_cell_70_layer_call_and_return_conditional_losses, lstm_cell_70_layer_call_fn, lstm_cell_71_layer_call_and_return_conditional_losses, lstm_cell_71_layer_call_fn, lstm_cell_70_layer_call_fn while saving (showing 5 of 10). These functions will not be directly callable after loading.\n",
            "WARNING:absl:Found untraced functions such as lstm_cell_70_layer_call_and_return_conditional_losses, lstm_cell_70_layer_call_fn, lstm_cell_71_layer_call_and_return_conditional_losses, lstm_cell_71_layer_call_fn, lstm_cell_70_layer_call_fn while saving (showing 5 of 10). These functions will not be directly callable after loading.\n"
          ],
          "name": "stderr"
        },
        {
          "output_type": "stream",
          "text": [
            "INFO:tensorflow:Assets written to: models/3_xmv_11/assets\n"
          ],
          "name": "stdout"
        },
        {
          "output_type": "stream",
          "text": [
            "INFO:tensorflow:Assets written to: models/3_xmv_11/assets\n"
          ],
          "name": "stderr"
        },
        {
          "output_type": "stream",
          "text": [
            "Feature xmv_11 Accuracy 0.788752\n",
            "Model: \"sequential_36\"\n",
            "_________________________________________________________________\n",
            "Layer (type)                 Output Shape              Param #   \n",
            "=================================================================\n",
            "lstm_72 (LSTM)               (None, 46, 256)           264192    \n",
            "_________________________________________________________________\n",
            "lstm_73 (LSTM)               (None, 128)               197120    \n",
            "_________________________________________________________________\n",
            "dense_108 (Dense)            (None, 300)               38700     \n",
            "_________________________________________________________________\n",
            "dropout_36 (Dropout)         (None, 300)               0         \n",
            "_________________________________________________________________\n",
            "dense_109 (Dense)            (None, 128)               38528     \n",
            "_________________________________________________________________\n",
            "dense_110 (Dense)            (None, 21)                2709      \n",
            "=================================================================\n",
            "Total params: 541,249\n",
            "Trainable params: 541,249\n",
            "Non-trainable params: 0\n",
            "_________________________________________________________________\n",
            "None\n"
          ],
          "name": "stdout"
        },
        {
          "output_type": "stream",
          "text": [
            "WARNING:absl:Found untraced functions such as lstm_cell_72_layer_call_and_return_conditional_losses, lstm_cell_72_layer_call_fn, lstm_cell_73_layer_call_and_return_conditional_losses, lstm_cell_73_layer_call_fn, lstm_cell_72_layer_call_fn while saving (showing 5 of 10). These functions will not be directly callable after loading.\n",
            "WARNING:absl:Found untraced functions such as lstm_cell_72_layer_call_and_return_conditional_losses, lstm_cell_72_layer_call_fn, lstm_cell_73_layer_call_and_return_conditional_losses, lstm_cell_73_layer_call_fn, lstm_cell_72_layer_call_fn while saving (showing 5 of 10). These functions will not be directly callable after loading.\n"
          ],
          "name": "stderr"
        },
        {
          "output_type": "stream",
          "text": [
            "INFO:tensorflow:Assets written to: models/3_xmeas_19/assets\n"
          ],
          "name": "stdout"
        },
        {
          "output_type": "stream",
          "text": [
            "INFO:tensorflow:Assets written to: models/3_xmeas_19/assets\n"
          ],
          "name": "stderr"
        },
        {
          "output_type": "stream",
          "text": [
            "Feature xmeas_19 Accuracy 0.788795\n",
            "Model: \"sequential_37\"\n",
            "_________________________________________________________________\n",
            "Layer (type)                 Output Shape              Param #   \n",
            "=================================================================\n",
            "lstm_74 (LSTM)               (None, 46, 256)           264192    \n",
            "_________________________________________________________________\n",
            "lstm_75 (LSTM)               (None, 128)               197120    \n",
            "_________________________________________________________________\n",
            "dense_111 (Dense)            (None, 300)               38700     \n",
            "_________________________________________________________________\n",
            "dropout_37 (Dropout)         (None, 300)               0         \n",
            "_________________________________________________________________\n",
            "dense_112 (Dense)            (None, 128)               38528     \n",
            "_________________________________________________________________\n",
            "dense_113 (Dense)            (None, 21)                2709      \n",
            "=================================================================\n",
            "Total params: 541,249\n",
            "Trainable params: 541,249\n",
            "Non-trainable params: 0\n",
            "_________________________________________________________________\n",
            "None\n"
          ],
          "name": "stdout"
        },
        {
          "output_type": "stream",
          "text": [
            "WARNING:absl:Found untraced functions such as lstm_cell_74_layer_call_and_return_conditional_losses, lstm_cell_74_layer_call_fn, lstm_cell_75_layer_call_and_return_conditional_losses, lstm_cell_75_layer_call_fn, lstm_cell_74_layer_call_fn while saving (showing 5 of 10). These functions will not be directly callable after loading.\n",
            "WARNING:absl:Found untraced functions such as lstm_cell_74_layer_call_and_return_conditional_losses, lstm_cell_74_layer_call_fn, lstm_cell_75_layer_call_and_return_conditional_losses, lstm_cell_75_layer_call_fn, lstm_cell_74_layer_call_fn while saving (showing 5 of 10). These functions will not be directly callable after loading.\n"
          ],
          "name": "stderr"
        },
        {
          "output_type": "stream",
          "text": [
            "INFO:tensorflow:Assets written to: models/3_xmv_9/assets\n"
          ],
          "name": "stdout"
        },
        {
          "output_type": "stream",
          "text": [
            "INFO:tensorflow:Assets written to: models/3_xmv_9/assets\n"
          ],
          "name": "stderr"
        },
        {
          "output_type": "stream",
          "text": [
            "Feature xmv_9 Accuracy 0.787992\n",
            "Model: \"sequential_38\"\n",
            "_________________________________________________________________\n",
            "Layer (type)                 Output Shape              Param #   \n",
            "=================================================================\n",
            "lstm_76 (LSTM)               (None, 46, 256)           264192    \n",
            "_________________________________________________________________\n",
            "lstm_77 (LSTM)               (None, 128)               197120    \n",
            "_________________________________________________________________\n",
            "dense_114 (Dense)            (None, 300)               38700     \n",
            "_________________________________________________________________\n",
            "dropout_38 (Dropout)         (None, 300)               0         \n",
            "_________________________________________________________________\n",
            "dense_115 (Dense)            (None, 128)               38528     \n",
            "_________________________________________________________________\n",
            "dense_116 (Dense)            (None, 21)                2709      \n",
            "=================================================================\n",
            "Total params: 541,249\n",
            "Trainable params: 541,249\n",
            "Non-trainable params: 0\n",
            "_________________________________________________________________\n",
            "None\n"
          ],
          "name": "stdout"
        },
        {
          "output_type": "stream",
          "text": [
            "WARNING:absl:Found untraced functions such as lstm_cell_76_layer_call_and_return_conditional_losses, lstm_cell_76_layer_call_fn, lstm_cell_77_layer_call_and_return_conditional_losses, lstm_cell_77_layer_call_fn, lstm_cell_76_layer_call_fn while saving (showing 5 of 10). These functions will not be directly callable after loading.\n",
            "WARNING:absl:Found untraced functions such as lstm_cell_76_layer_call_and_return_conditional_losses, lstm_cell_76_layer_call_fn, lstm_cell_77_layer_call_and_return_conditional_losses, lstm_cell_77_layer_call_fn, lstm_cell_76_layer_call_fn while saving (showing 5 of 10). These functions will not be directly callable after loading.\n"
          ],
          "name": "stderr"
        },
        {
          "output_type": "stream",
          "text": [
            "INFO:tensorflow:Assets written to: models/3_xmv_4/assets\n"
          ],
          "name": "stdout"
        },
        {
          "output_type": "stream",
          "text": [
            "INFO:tensorflow:Assets written to: models/3_xmv_4/assets\n"
          ],
          "name": "stderr"
        },
        {
          "output_type": "stream",
          "text": [
            "Feature xmv_4 Accuracy 0.796533\n",
            "Model: \"sequential_39\"\n",
            "_________________________________________________________________\n",
            "Layer (type)                 Output Shape              Param #   \n",
            "=================================================================\n",
            "lstm_78 (LSTM)               (None, 46, 256)           264192    \n",
            "_________________________________________________________________\n",
            "lstm_79 (LSTM)               (None, 128)               197120    \n",
            "_________________________________________________________________\n",
            "dense_117 (Dense)            (None, 300)               38700     \n",
            "_________________________________________________________________\n",
            "dropout_39 (Dropout)         (None, 300)               0         \n",
            "_________________________________________________________________\n",
            "dense_118 (Dense)            (None, 128)               38528     \n",
            "_________________________________________________________________\n",
            "dense_119 (Dense)            (None, 21)                2709      \n",
            "=================================================================\n",
            "Total params: 541,249\n",
            "Trainable params: 541,249\n",
            "Non-trainable params: 0\n",
            "_________________________________________________________________\n",
            "None\n"
          ],
          "name": "stdout"
        },
        {
          "output_type": "stream",
          "text": [
            "WARNING:absl:Found untraced functions such as lstm_cell_78_layer_call_and_return_conditional_losses, lstm_cell_78_layer_call_fn, lstm_cell_79_layer_call_and_return_conditional_losses, lstm_cell_79_layer_call_fn, lstm_cell_78_layer_call_fn while saving (showing 5 of 10). These functions will not be directly callable after loading.\n",
            "WARNING:absl:Found untraced functions such as lstm_cell_78_layer_call_and_return_conditional_losses, lstm_cell_78_layer_call_fn, lstm_cell_79_layer_call_and_return_conditional_losses, lstm_cell_79_layer_call_fn, lstm_cell_78_layer_call_fn while saving (showing 5 of 10). These functions will not be directly callable after loading.\n"
          ],
          "name": "stderr"
        },
        {
          "output_type": "stream",
          "text": [
            "INFO:tensorflow:Assets written to: models/3_xmeas_17/assets\n"
          ],
          "name": "stdout"
        },
        {
          "output_type": "stream",
          "text": [
            "INFO:tensorflow:Assets written to: models/3_xmeas_17/assets\n"
          ],
          "name": "stderr"
        },
        {
          "output_type": "stream",
          "text": [
            "Feature xmeas_17 Accuracy 0.774625\n",
            "Model: \"sequential_40\"\n",
            "_________________________________________________________________\n",
            "Layer (type)                 Output Shape              Param #   \n",
            "=================================================================\n",
            "lstm_80 (LSTM)               (None, 46, 256)           264192    \n",
            "_________________________________________________________________\n",
            "lstm_81 (LSTM)               (None, 128)               197120    \n",
            "_________________________________________________________________\n",
            "dense_120 (Dense)            (None, 300)               38700     \n",
            "_________________________________________________________________\n",
            "dropout_40 (Dropout)         (None, 300)               0         \n",
            "_________________________________________________________________\n",
            "dense_121 (Dense)            (None, 128)               38528     \n",
            "_________________________________________________________________\n",
            "dense_122 (Dense)            (None, 21)                2709      \n",
            "=================================================================\n",
            "Total params: 541,249\n",
            "Trainable params: 541,249\n",
            "Non-trainable params: 0\n",
            "_________________________________________________________________\n",
            "None\n"
          ],
          "name": "stdout"
        },
        {
          "output_type": "stream",
          "text": [
            "WARNING:absl:Found untraced functions such as lstm_cell_80_layer_call_and_return_conditional_losses, lstm_cell_80_layer_call_fn, lstm_cell_81_layer_call_and_return_conditional_losses, lstm_cell_81_layer_call_fn, lstm_cell_80_layer_call_fn while saving (showing 5 of 10). These functions will not be directly callable after loading.\n",
            "WARNING:absl:Found untraced functions such as lstm_cell_80_layer_call_and_return_conditional_losses, lstm_cell_80_layer_call_fn, lstm_cell_81_layer_call_and_return_conditional_losses, lstm_cell_81_layer_call_fn, lstm_cell_80_layer_call_fn while saving (showing 5 of 10). These functions will not be directly callable after loading.\n"
          ],
          "name": "stderr"
        },
        {
          "output_type": "stream",
          "text": [
            "INFO:tensorflow:Assets written to: models/3_xmeas_18/assets\n"
          ],
          "name": "stdout"
        },
        {
          "output_type": "stream",
          "text": [
            "INFO:tensorflow:Assets written to: models/3_xmeas_18/assets\n"
          ],
          "name": "stderr"
        },
        {
          "output_type": "stream",
          "text": [
            "Feature xmeas_18 Accuracy 0.788046\n",
            "Model: \"sequential_41\"\n",
            "_________________________________________________________________\n",
            "Layer (type)                 Output Shape              Param #   \n",
            "=================================================================\n",
            "lstm_82 (LSTM)               (None, 46, 256)           264192    \n",
            "_________________________________________________________________\n",
            "lstm_83 (LSTM)               (None, 128)               197120    \n",
            "_________________________________________________________________\n",
            "dense_123 (Dense)            (None, 300)               38700     \n",
            "_________________________________________________________________\n",
            "dropout_41 (Dropout)         (None, 300)               0         \n",
            "_________________________________________________________________\n",
            "dense_124 (Dense)            (None, 128)               38528     \n",
            "_________________________________________________________________\n",
            "dense_125 (Dense)            (None, 21)                2709      \n",
            "=================================================================\n",
            "Total params: 541,249\n",
            "Trainable params: 541,249\n",
            "Non-trainable params: 0\n",
            "_________________________________________________________________\n",
            "None\n"
          ],
          "name": "stdout"
        },
        {
          "output_type": "stream",
          "text": [
            "WARNING:absl:Found untraced functions such as lstm_cell_82_layer_call_and_return_conditional_losses, lstm_cell_82_layer_call_fn, lstm_cell_83_layer_call_and_return_conditional_losses, lstm_cell_83_layer_call_fn, lstm_cell_82_layer_call_fn while saving (showing 5 of 10). These functions will not be directly callable after loading.\n",
            "WARNING:absl:Found untraced functions such as lstm_cell_82_layer_call_and_return_conditional_losses, lstm_cell_82_layer_call_fn, lstm_cell_83_layer_call_and_return_conditional_losses, lstm_cell_83_layer_call_fn, lstm_cell_82_layer_call_fn while saving (showing 5 of 10). These functions will not be directly callable after loading.\n"
          ],
          "name": "stderr"
        },
        {
          "output_type": "stream",
          "text": [
            "INFO:tensorflow:Assets written to: models/3_xmeas_9/assets\n"
          ],
          "name": "stdout"
        },
        {
          "output_type": "stream",
          "text": [
            "INFO:tensorflow:Assets written to: models/3_xmeas_9/assets\n"
          ],
          "name": "stderr"
        },
        {
          "output_type": "stream",
          "text": [
            "Feature xmeas_9 Accuracy 0.788271\n",
            "Best Feature: xmv_4\n",
            "Accuracy is: 0.796533\n",
            "\n",
            "Iteration: 4\n",
            "Model: \"sequential_42\"\n",
            "_________________________________________________________________\n",
            "Layer (type)                 Output Shape              Param #   \n",
            "=================================================================\n",
            "lstm_84 (LSTM)               (None, 47, 256)           264192    \n",
            "_________________________________________________________________\n",
            "lstm_85 (LSTM)               (None, 128)               197120    \n",
            "_________________________________________________________________\n",
            "dense_126 (Dense)            (None, 300)               38700     \n",
            "_________________________________________________________________\n",
            "dropout_42 (Dropout)         (None, 300)               0         \n",
            "_________________________________________________________________\n",
            "dense_127 (Dense)            (None, 128)               38528     \n",
            "_________________________________________________________________\n",
            "dense_128 (Dense)            (None, 21)                2709      \n",
            "=================================================================\n",
            "Total params: 541,249\n",
            "Trainable params: 541,249\n",
            "Non-trainable params: 0\n",
            "_________________________________________________________________\n",
            "None\n"
          ],
          "name": "stdout"
        },
        {
          "output_type": "stream",
          "text": [
            "WARNING:absl:Found untraced functions such as lstm_cell_84_layer_call_and_return_conditional_losses, lstm_cell_84_layer_call_fn, lstm_cell_85_layer_call_and_return_conditional_losses, lstm_cell_85_layer_call_fn, lstm_cell_84_layer_call_fn while saving (showing 5 of 10). These functions will not be directly callable after loading.\n",
            "WARNING:absl:Found untraced functions such as lstm_cell_84_layer_call_and_return_conditional_losses, lstm_cell_84_layer_call_fn, lstm_cell_85_layer_call_and_return_conditional_losses, lstm_cell_85_layer_call_fn, lstm_cell_84_layer_call_fn while saving (showing 5 of 10). These functions will not be directly callable after loading.\n"
          ],
          "name": "stderr"
        },
        {
          "output_type": "stream",
          "text": [
            "INFO:tensorflow:Assets written to: models/4_xmv_11/assets\n"
          ],
          "name": "stdout"
        },
        {
          "output_type": "stream",
          "text": [
            "INFO:tensorflow:Assets written to: models/4_xmv_11/assets\n"
          ],
          "name": "stderr"
        },
        {
          "output_type": "stream",
          "text": [
            "Feature xmv_11 Accuracy 0.808530\n",
            "Model: \"sequential_43\"\n",
            "_________________________________________________________________\n",
            "Layer (type)                 Output Shape              Param #   \n",
            "=================================================================\n",
            "lstm_86 (LSTM)               (None, 47, 256)           264192    \n",
            "_________________________________________________________________\n",
            "lstm_87 (LSTM)               (None, 128)               197120    \n",
            "_________________________________________________________________\n",
            "dense_129 (Dense)            (None, 300)               38700     \n",
            "_________________________________________________________________\n",
            "dropout_43 (Dropout)         (None, 300)               0         \n",
            "_________________________________________________________________\n",
            "dense_130 (Dense)            (None, 128)               38528     \n",
            "_________________________________________________________________\n",
            "dense_131 (Dense)            (None, 21)                2709      \n",
            "=================================================================\n",
            "Total params: 541,249\n",
            "Trainable params: 541,249\n",
            "Non-trainable params: 0\n",
            "_________________________________________________________________\n",
            "None\n"
          ],
          "name": "stdout"
        },
        {
          "output_type": "stream",
          "text": [
            "WARNING:absl:Found untraced functions such as lstm_cell_86_layer_call_and_return_conditional_losses, lstm_cell_86_layer_call_fn, lstm_cell_87_layer_call_and_return_conditional_losses, lstm_cell_87_layer_call_fn, lstm_cell_86_layer_call_fn while saving (showing 5 of 10). These functions will not be directly callable after loading.\n",
            "WARNING:absl:Found untraced functions such as lstm_cell_86_layer_call_and_return_conditional_losses, lstm_cell_86_layer_call_fn, lstm_cell_87_layer_call_and_return_conditional_losses, lstm_cell_87_layer_call_fn, lstm_cell_86_layer_call_fn while saving (showing 5 of 10). These functions will not be directly callable after loading.\n"
          ],
          "name": "stderr"
        },
        {
          "output_type": "stream",
          "text": [
            "INFO:tensorflow:Assets written to: models/4_xmeas_19/assets\n"
          ],
          "name": "stdout"
        },
        {
          "output_type": "stream",
          "text": [
            "INFO:tensorflow:Assets written to: models/4_xmeas_19/assets\n"
          ],
          "name": "stderr"
        },
        {
          "output_type": "stream",
          "text": [
            "Feature xmeas_19 Accuracy 0.813121\n",
            "Model: \"sequential_44\"\n",
            "_________________________________________________________________\n",
            "Layer (type)                 Output Shape              Param #   \n",
            "=================================================================\n",
            "lstm_88 (LSTM)               (None, 47, 256)           264192    \n",
            "_________________________________________________________________\n",
            "lstm_89 (LSTM)               (None, 128)               197120    \n",
            "_________________________________________________________________\n",
            "dense_132 (Dense)            (None, 300)               38700     \n",
            "_________________________________________________________________\n",
            "dropout_44 (Dropout)         (None, 300)               0         \n",
            "_________________________________________________________________\n",
            "dense_133 (Dense)            (None, 128)               38528     \n",
            "_________________________________________________________________\n",
            "dense_134 (Dense)            (None, 21)                2709      \n",
            "=================================================================\n",
            "Total params: 541,249\n",
            "Trainable params: 541,249\n",
            "Non-trainable params: 0\n",
            "_________________________________________________________________\n",
            "None\n"
          ],
          "name": "stdout"
        },
        {
          "output_type": "stream",
          "text": [
            "WARNING:absl:Found untraced functions such as lstm_cell_88_layer_call_and_return_conditional_losses, lstm_cell_88_layer_call_fn, lstm_cell_89_layer_call_and_return_conditional_losses, lstm_cell_89_layer_call_fn, lstm_cell_88_layer_call_fn while saving (showing 5 of 10). These functions will not be directly callable after loading.\n",
            "WARNING:absl:Found untraced functions such as lstm_cell_88_layer_call_and_return_conditional_losses, lstm_cell_88_layer_call_fn, lstm_cell_89_layer_call_and_return_conditional_losses, lstm_cell_89_layer_call_fn, lstm_cell_88_layer_call_fn while saving (showing 5 of 10). These functions will not be directly callable after loading.\n"
          ],
          "name": "stderr"
        },
        {
          "output_type": "stream",
          "text": [
            "INFO:tensorflow:Assets written to: models/4_xmv_9/assets\n"
          ],
          "name": "stdout"
        },
        {
          "output_type": "stream",
          "text": [
            "INFO:tensorflow:Assets written to: models/4_xmv_9/assets\n"
          ],
          "name": "stderr"
        },
        {
          "output_type": "stream",
          "text": [
            "Feature xmv_9 Accuracy 0.810563\n",
            "Model: \"sequential_45\"\n",
            "_________________________________________________________________\n",
            "Layer (type)                 Output Shape              Param #   \n",
            "=================================================================\n",
            "lstm_90 (LSTM)               (None, 47, 256)           264192    \n",
            "_________________________________________________________________\n",
            "lstm_91 (LSTM)               (None, 128)               197120    \n",
            "_________________________________________________________________\n",
            "dense_135 (Dense)            (None, 300)               38700     \n",
            "_________________________________________________________________\n",
            "dropout_45 (Dropout)         (None, 300)               0         \n",
            "_________________________________________________________________\n",
            "dense_136 (Dense)            (None, 128)               38528     \n",
            "_________________________________________________________________\n",
            "dense_137 (Dense)            (None, 21)                2709      \n",
            "=================================================================\n",
            "Total params: 541,249\n",
            "Trainable params: 541,249\n",
            "Non-trainable params: 0\n",
            "_________________________________________________________________\n",
            "None\n"
          ],
          "name": "stdout"
        },
        {
          "output_type": "stream",
          "text": [
            "WARNING:absl:Found untraced functions such as lstm_cell_90_layer_call_and_return_conditional_losses, lstm_cell_90_layer_call_fn, lstm_cell_91_layer_call_and_return_conditional_losses, lstm_cell_91_layer_call_fn, lstm_cell_90_layer_call_fn while saving (showing 5 of 10). These functions will not be directly callable after loading.\n",
            "WARNING:absl:Found untraced functions such as lstm_cell_90_layer_call_and_return_conditional_losses, lstm_cell_90_layer_call_fn, lstm_cell_91_layer_call_and_return_conditional_losses, lstm_cell_91_layer_call_fn, lstm_cell_90_layer_call_fn while saving (showing 5 of 10). These functions will not be directly callable after loading.\n"
          ],
          "name": "stderr"
        },
        {
          "output_type": "stream",
          "text": [
            "INFO:tensorflow:Assets written to: models/4_xmeas_17/assets\n"
          ],
          "name": "stdout"
        },
        {
          "output_type": "stream",
          "text": [
            "INFO:tensorflow:Assets written to: models/4_xmeas_17/assets\n"
          ],
          "name": "stderr"
        },
        {
          "output_type": "stream",
          "text": [
            "Feature xmeas_17 Accuracy 0.797528\n",
            "Model: \"sequential_46\"\n",
            "_________________________________________________________________\n",
            "Layer (type)                 Output Shape              Param #   \n",
            "=================================================================\n",
            "lstm_92 (LSTM)               (None, 47, 256)           264192    \n",
            "_________________________________________________________________\n",
            "lstm_93 (LSTM)               (None, 128)               197120    \n",
            "_________________________________________________________________\n",
            "dense_138 (Dense)            (None, 300)               38700     \n",
            "_________________________________________________________________\n",
            "dropout_46 (Dropout)         (None, 300)               0         \n",
            "_________________________________________________________________\n",
            "dense_139 (Dense)            (None, 128)               38528     \n",
            "_________________________________________________________________\n",
            "dense_140 (Dense)            (None, 21)                2709      \n",
            "=================================================================\n",
            "Total params: 541,249\n",
            "Trainable params: 541,249\n",
            "Non-trainable params: 0\n",
            "_________________________________________________________________\n",
            "None\n"
          ],
          "name": "stdout"
        },
        {
          "output_type": "stream",
          "text": [
            "WARNING:absl:Found untraced functions such as lstm_cell_92_layer_call_and_return_conditional_losses, lstm_cell_92_layer_call_fn, lstm_cell_93_layer_call_and_return_conditional_losses, lstm_cell_93_layer_call_fn, lstm_cell_92_layer_call_fn while saving (showing 5 of 10). These functions will not be directly callable after loading.\n",
            "WARNING:absl:Found untraced functions such as lstm_cell_92_layer_call_and_return_conditional_losses, lstm_cell_92_layer_call_fn, lstm_cell_93_layer_call_and_return_conditional_losses, lstm_cell_93_layer_call_fn, lstm_cell_92_layer_call_fn while saving (showing 5 of 10). These functions will not be directly callable after loading.\n"
          ],
          "name": "stderr"
        },
        {
          "output_type": "stream",
          "text": [
            "INFO:tensorflow:Assets written to: models/4_xmeas_18/assets\n"
          ],
          "name": "stdout"
        },
        {
          "output_type": "stream",
          "text": [
            "INFO:tensorflow:Assets written to: models/4_xmeas_18/assets\n"
          ],
          "name": "stderr"
        },
        {
          "output_type": "stream",
          "text": [
            "Feature xmeas_18 Accuracy 0.814191\n",
            "Model: \"sequential_47\"\n",
            "_________________________________________________________________\n",
            "Layer (type)                 Output Shape              Param #   \n",
            "=================================================================\n",
            "lstm_94 (LSTM)               (None, 47, 256)           264192    \n",
            "_________________________________________________________________\n",
            "lstm_95 (LSTM)               (None, 128)               197120    \n",
            "_________________________________________________________________\n",
            "dense_141 (Dense)            (None, 300)               38700     \n",
            "_________________________________________________________________\n",
            "dropout_47 (Dropout)         (None, 300)               0         \n",
            "_________________________________________________________________\n",
            "dense_142 (Dense)            (None, 128)               38528     \n",
            "_________________________________________________________________\n",
            "dense_143 (Dense)            (None, 21)                2709      \n",
            "=================================================================\n",
            "Total params: 541,249\n",
            "Trainable params: 541,249\n",
            "Non-trainable params: 0\n",
            "_________________________________________________________________\n",
            "None\n"
          ],
          "name": "stdout"
        },
        {
          "output_type": "stream",
          "text": [
            "WARNING:absl:Found untraced functions such as lstm_cell_94_layer_call_and_return_conditional_losses, lstm_cell_94_layer_call_fn, lstm_cell_95_layer_call_and_return_conditional_losses, lstm_cell_95_layer_call_fn, lstm_cell_94_layer_call_fn while saving (showing 5 of 10). These functions will not be directly callable after loading.\n",
            "WARNING:absl:Found untraced functions such as lstm_cell_94_layer_call_and_return_conditional_losses, lstm_cell_94_layer_call_fn, lstm_cell_95_layer_call_and_return_conditional_losses, lstm_cell_95_layer_call_fn, lstm_cell_94_layer_call_fn while saving (showing 5 of 10). These functions will not be directly callable after loading.\n"
          ],
          "name": "stderr"
        },
        {
          "output_type": "stream",
          "text": [
            "INFO:tensorflow:Assets written to: models/4_xmeas_9/assets\n"
          ],
          "name": "stdout"
        },
        {
          "output_type": "stream",
          "text": [
            "INFO:tensorflow:Assets written to: models/4_xmeas_9/assets\n"
          ],
          "name": "stderr"
        },
        {
          "output_type": "stream",
          "text": [
            "Feature xmeas_9 Accuracy 0.813677\n",
            "Best Feature: xmeas_18\n",
            "Accuracy is: 0.814191\n",
            "\n",
            "Iteration: 5\n",
            "Model: \"sequential_48\"\n",
            "_________________________________________________________________\n",
            "Layer (type)                 Output Shape              Param #   \n",
            "=================================================================\n",
            "lstm_96 (LSTM)               (None, 48, 256)           264192    \n",
            "_________________________________________________________________\n",
            "lstm_97 (LSTM)               (None, 128)               197120    \n",
            "_________________________________________________________________\n",
            "dense_144 (Dense)            (None, 300)               38700     \n",
            "_________________________________________________________________\n",
            "dropout_48 (Dropout)         (None, 300)               0         \n",
            "_________________________________________________________________\n",
            "dense_145 (Dense)            (None, 128)               38528     \n",
            "_________________________________________________________________\n",
            "dense_146 (Dense)            (None, 21)                2709      \n",
            "=================================================================\n",
            "Total params: 541,249\n",
            "Trainable params: 541,249\n",
            "Non-trainable params: 0\n",
            "_________________________________________________________________\n",
            "None\n"
          ],
          "name": "stdout"
        },
        {
          "output_type": "stream",
          "text": [
            "WARNING:absl:Found untraced functions such as lstm_cell_96_layer_call_and_return_conditional_losses, lstm_cell_96_layer_call_fn, lstm_cell_97_layer_call_and_return_conditional_losses, lstm_cell_97_layer_call_fn, lstm_cell_96_layer_call_fn while saving (showing 5 of 10). These functions will not be directly callable after loading.\n",
            "WARNING:absl:Found untraced functions such as lstm_cell_96_layer_call_and_return_conditional_losses, lstm_cell_96_layer_call_fn, lstm_cell_97_layer_call_and_return_conditional_losses, lstm_cell_97_layer_call_fn, lstm_cell_96_layer_call_fn while saving (showing 5 of 10). These functions will not be directly callable after loading.\n"
          ],
          "name": "stderr"
        },
        {
          "output_type": "stream",
          "text": [
            "INFO:tensorflow:Assets written to: models/5_xmv_11/assets\n"
          ],
          "name": "stdout"
        },
        {
          "output_type": "stream",
          "text": [
            "INFO:tensorflow:Assets written to: models/5_xmv_11/assets\n"
          ],
          "name": "stderr"
        },
        {
          "output_type": "stream",
          "text": [
            "Feature xmv_11 Accuracy 0.822902\n",
            "Model: \"sequential_49\"\n",
            "_________________________________________________________________\n",
            "Layer (type)                 Output Shape              Param #   \n",
            "=================================================================\n",
            "lstm_98 (LSTM)               (None, 48, 256)           264192    \n",
            "_________________________________________________________________\n",
            "lstm_99 (LSTM)               (None, 128)               197120    \n",
            "_________________________________________________________________\n",
            "dense_147 (Dense)            (None, 300)               38700     \n",
            "_________________________________________________________________\n",
            "dropout_49 (Dropout)         (None, 300)               0         \n",
            "_________________________________________________________________\n",
            "dense_148 (Dense)            (None, 128)               38528     \n",
            "_________________________________________________________________\n",
            "dense_149 (Dense)            (None, 21)                2709      \n",
            "=================================================================\n",
            "Total params: 541,249\n",
            "Trainable params: 541,249\n",
            "Non-trainable params: 0\n",
            "_________________________________________________________________\n",
            "None\n"
          ],
          "name": "stdout"
        },
        {
          "output_type": "stream",
          "text": [
            "WARNING:absl:Found untraced functions such as lstm_cell_98_layer_call_and_return_conditional_losses, lstm_cell_98_layer_call_fn, lstm_cell_99_layer_call_and_return_conditional_losses, lstm_cell_99_layer_call_fn, lstm_cell_98_layer_call_fn while saving (showing 5 of 10). These functions will not be directly callable after loading.\n",
            "WARNING:absl:Found untraced functions such as lstm_cell_98_layer_call_and_return_conditional_losses, lstm_cell_98_layer_call_fn, lstm_cell_99_layer_call_and_return_conditional_losses, lstm_cell_99_layer_call_fn, lstm_cell_98_layer_call_fn while saving (showing 5 of 10). These functions will not be directly callable after loading.\n"
          ],
          "name": "stderr"
        },
        {
          "output_type": "stream",
          "text": [
            "INFO:tensorflow:Assets written to: models/5_xmeas_19/assets\n"
          ],
          "name": "stdout"
        },
        {
          "output_type": "stream",
          "text": [
            "INFO:tensorflow:Assets written to: models/5_xmeas_19/assets\n"
          ],
          "name": "stderr"
        },
        {
          "output_type": "stream",
          "text": [
            "Feature xmeas_19 Accuracy 0.839940\n",
            "Model: \"sequential_50\"\n",
            "_________________________________________________________________\n",
            "Layer (type)                 Output Shape              Param #   \n",
            "=================================================================\n",
            "lstm_100 (LSTM)              (None, 48, 256)           264192    \n",
            "_________________________________________________________________\n",
            "lstm_101 (LSTM)              (None, 128)               197120    \n",
            "_________________________________________________________________\n",
            "dense_150 (Dense)            (None, 300)               38700     \n",
            "_________________________________________________________________\n",
            "dropout_50 (Dropout)         (None, 300)               0         \n",
            "_________________________________________________________________\n",
            "dense_151 (Dense)            (None, 128)               38528     \n",
            "_________________________________________________________________\n",
            "dense_152 (Dense)            (None, 21)                2709      \n",
            "=================================================================\n",
            "Total params: 541,249\n",
            "Trainable params: 541,249\n",
            "Non-trainable params: 0\n",
            "_________________________________________________________________\n",
            "None\n"
          ],
          "name": "stdout"
        },
        {
          "output_type": "stream",
          "text": [
            "WARNING:absl:Found untraced functions such as lstm_cell_100_layer_call_and_return_conditional_losses, lstm_cell_100_layer_call_fn, lstm_cell_101_layer_call_and_return_conditional_losses, lstm_cell_101_layer_call_fn, lstm_cell_100_layer_call_fn while saving (showing 5 of 10). These functions will not be directly callable after loading.\n",
            "WARNING:absl:Found untraced functions such as lstm_cell_100_layer_call_and_return_conditional_losses, lstm_cell_100_layer_call_fn, lstm_cell_101_layer_call_and_return_conditional_losses, lstm_cell_101_layer_call_fn, lstm_cell_100_layer_call_fn while saving (showing 5 of 10). These functions will not be directly callable after loading.\n"
          ],
          "name": "stderr"
        },
        {
          "output_type": "stream",
          "text": [
            "INFO:tensorflow:Assets written to: models/5_xmv_9/assets\n"
          ],
          "name": "stdout"
        },
        {
          "output_type": "stream",
          "text": [
            "INFO:tensorflow:Assets written to: models/5_xmv_9/assets\n"
          ],
          "name": "stderr"
        },
        {
          "output_type": "stream",
          "text": [
            "Feature xmv_9 Accuracy 0.837618\n",
            "Model: \"sequential_51\"\n",
            "_________________________________________________________________\n",
            "Layer (type)                 Output Shape              Param #   \n",
            "=================================================================\n",
            "lstm_102 (LSTM)              (None, 48, 256)           264192    \n",
            "_________________________________________________________________\n",
            "lstm_103 (LSTM)              (None, 128)               197120    \n",
            "_________________________________________________________________\n",
            "dense_153 (Dense)            (None, 300)               38700     \n",
            "_________________________________________________________________\n",
            "dropout_51 (Dropout)         (None, 300)               0         \n",
            "_________________________________________________________________\n",
            "dense_154 (Dense)            (None, 128)               38528     \n",
            "_________________________________________________________________\n",
            "dense_155 (Dense)            (None, 21)                2709      \n",
            "=================================================================\n",
            "Total params: 541,249\n",
            "Trainable params: 541,249\n",
            "Non-trainable params: 0\n",
            "_________________________________________________________________\n",
            "None\n"
          ],
          "name": "stdout"
        },
        {
          "output_type": "stream",
          "text": [
            "WARNING:absl:Found untraced functions such as lstm_cell_102_layer_call_and_return_conditional_losses, lstm_cell_102_layer_call_fn, lstm_cell_103_layer_call_and_return_conditional_losses, lstm_cell_103_layer_call_fn, lstm_cell_102_layer_call_fn while saving (showing 5 of 10). These functions will not be directly callable after loading.\n",
            "WARNING:absl:Found untraced functions such as lstm_cell_102_layer_call_and_return_conditional_losses, lstm_cell_102_layer_call_fn, lstm_cell_103_layer_call_and_return_conditional_losses, lstm_cell_103_layer_call_fn, lstm_cell_102_layer_call_fn while saving (showing 5 of 10). These functions will not be directly callable after loading.\n"
          ],
          "name": "stderr"
        },
        {
          "output_type": "stream",
          "text": [
            "INFO:tensorflow:Assets written to: models/5_xmeas_17/assets\n"
          ],
          "name": "stdout"
        },
        {
          "output_type": "stream",
          "text": [
            "INFO:tensorflow:Assets written to: models/5_xmeas_17/assets\n"
          ],
          "name": "stderr"
        },
        {
          "output_type": "stream",
          "text": [
            "Feature xmeas_17 Accuracy 0.811548\n",
            "Model: \"sequential_52\"\n",
            "_________________________________________________________________\n",
            "Layer (type)                 Output Shape              Param #   \n",
            "=================================================================\n",
            "lstm_104 (LSTM)              (None, 48, 256)           264192    \n",
            "_________________________________________________________________\n",
            "lstm_105 (LSTM)              (None, 128)               197120    \n",
            "_________________________________________________________________\n",
            "dense_156 (Dense)            (None, 300)               38700     \n",
            "_________________________________________________________________\n",
            "dropout_52 (Dropout)         (None, 300)               0         \n",
            "_________________________________________________________________\n",
            "dense_157 (Dense)            (None, 128)               38528     \n",
            "_________________________________________________________________\n",
            "dense_158 (Dense)            (None, 21)                2709      \n",
            "=================================================================\n",
            "Total params: 541,249\n",
            "Trainable params: 541,249\n",
            "Non-trainable params: 0\n",
            "_________________________________________________________________\n",
            "None\n"
          ],
          "name": "stdout"
        },
        {
          "output_type": "stream",
          "text": [
            "WARNING:absl:Found untraced functions such as lstm_cell_104_layer_call_and_return_conditional_losses, lstm_cell_104_layer_call_fn, lstm_cell_105_layer_call_and_return_conditional_losses, lstm_cell_105_layer_call_fn, lstm_cell_104_layer_call_fn while saving (showing 5 of 10). These functions will not be directly callable after loading.\n",
            "WARNING:absl:Found untraced functions such as lstm_cell_104_layer_call_and_return_conditional_losses, lstm_cell_104_layer_call_fn, lstm_cell_105_layer_call_and_return_conditional_losses, lstm_cell_105_layer_call_fn, lstm_cell_104_layer_call_fn while saving (showing 5 of 10). These functions will not be directly callable after loading.\n"
          ],
          "name": "stderr"
        },
        {
          "output_type": "stream",
          "text": [
            "INFO:tensorflow:Assets written to: models/5_xmeas_9/assets\n"
          ],
          "name": "stdout"
        },
        {
          "output_type": "stream",
          "text": [
            "INFO:tensorflow:Assets written to: models/5_xmeas_9/assets\n"
          ],
          "name": "stderr"
        },
        {
          "output_type": "stream",
          "text": [
            "Feature xmeas_9 Accuracy 0.824476\n",
            "Best Feature: xmeas_19\n",
            "Accuracy is: 0.839940\n",
            "\n",
            "Iteration: 6\n",
            "Model: \"sequential_53\"\n",
            "_________________________________________________________________\n",
            "Layer (type)                 Output Shape              Param #   \n",
            "=================================================================\n",
            "lstm_106 (LSTM)              (None, 49, 256)           264192    \n",
            "_________________________________________________________________\n",
            "lstm_107 (LSTM)              (None, 128)               197120    \n",
            "_________________________________________________________________\n",
            "dense_159 (Dense)            (None, 300)               38700     \n",
            "_________________________________________________________________\n",
            "dropout_53 (Dropout)         (None, 300)               0         \n",
            "_________________________________________________________________\n",
            "dense_160 (Dense)            (None, 128)               38528     \n",
            "_________________________________________________________________\n",
            "dense_161 (Dense)            (None, 21)                2709      \n",
            "=================================================================\n",
            "Total params: 541,249\n",
            "Trainable params: 541,249\n",
            "Non-trainable params: 0\n",
            "_________________________________________________________________\n",
            "None\n"
          ],
          "name": "stdout"
        },
        {
          "output_type": "stream",
          "text": [
            "WARNING:absl:Found untraced functions such as lstm_cell_106_layer_call_and_return_conditional_losses, lstm_cell_106_layer_call_fn, lstm_cell_107_layer_call_and_return_conditional_losses, lstm_cell_107_layer_call_fn, lstm_cell_106_layer_call_fn while saving (showing 5 of 10). These functions will not be directly callable after loading.\n",
            "WARNING:absl:Found untraced functions such as lstm_cell_106_layer_call_and_return_conditional_losses, lstm_cell_106_layer_call_fn, lstm_cell_107_layer_call_and_return_conditional_losses, lstm_cell_107_layer_call_fn, lstm_cell_106_layer_call_fn while saving (showing 5 of 10). These functions will not be directly callable after loading.\n"
          ],
          "name": "stderr"
        },
        {
          "output_type": "stream",
          "text": [
            "INFO:tensorflow:Assets written to: models/6_xmv_11/assets\n"
          ],
          "name": "stdout"
        },
        {
          "output_type": "stream",
          "text": [
            "INFO:tensorflow:Assets written to: models/6_xmv_11/assets\n"
          ],
          "name": "stderr"
        },
        {
          "output_type": "stream",
          "text": [
            "Feature xmv_11 Accuracy 0.856443\n",
            "Model: \"sequential_54\"\n",
            "_________________________________________________________________\n",
            "Layer (type)                 Output Shape              Param #   \n",
            "=================================================================\n",
            "lstm_108 (LSTM)              (None, 49, 256)           264192    \n",
            "_________________________________________________________________\n",
            "lstm_109 (LSTM)              (None, 128)               197120    \n",
            "_________________________________________________________________\n",
            "dense_162 (Dense)            (None, 300)               38700     \n",
            "_________________________________________________________________\n",
            "dropout_54 (Dropout)         (None, 300)               0         \n",
            "_________________________________________________________________\n",
            "dense_163 (Dense)            (None, 128)               38528     \n",
            "_________________________________________________________________\n",
            "dense_164 (Dense)            (None, 21)                2709      \n",
            "=================================================================\n",
            "Total params: 541,249\n",
            "Trainable params: 541,249\n",
            "Non-trainable params: 0\n",
            "_________________________________________________________________\n",
            "None\n"
          ],
          "name": "stdout"
        },
        {
          "output_type": "stream",
          "text": [
            "WARNING:absl:Found untraced functions such as lstm_cell_108_layer_call_and_return_conditional_losses, lstm_cell_108_layer_call_fn, lstm_cell_109_layer_call_and_return_conditional_losses, lstm_cell_109_layer_call_fn, lstm_cell_108_layer_call_fn while saving (showing 5 of 10). These functions will not be directly callable after loading.\n",
            "WARNING:absl:Found untraced functions such as lstm_cell_108_layer_call_and_return_conditional_losses, lstm_cell_108_layer_call_fn, lstm_cell_109_layer_call_and_return_conditional_losses, lstm_cell_109_layer_call_fn, lstm_cell_108_layer_call_fn while saving (showing 5 of 10). These functions will not be directly callable after loading.\n"
          ],
          "name": "stderr"
        },
        {
          "output_type": "stream",
          "text": [
            "INFO:tensorflow:Assets written to: models/6_xmv_9/assets\n"
          ],
          "name": "stdout"
        },
        {
          "output_type": "stream",
          "text": [
            "INFO:tensorflow:Assets written to: models/6_xmv_9/assets\n"
          ],
          "name": "stderr"
        },
        {
          "output_type": "stream",
          "text": [
            "Feature xmv_9 Accuracy 0.869531\n",
            "Model: \"sequential_55\"\n",
            "_________________________________________________________________\n",
            "Layer (type)                 Output Shape              Param #   \n",
            "=================================================================\n",
            "lstm_110 (LSTM)              (None, 49, 256)           264192    \n",
            "_________________________________________________________________\n",
            "lstm_111 (LSTM)              (None, 128)               197120    \n",
            "_________________________________________________________________\n",
            "dense_165 (Dense)            (None, 300)               38700     \n",
            "_________________________________________________________________\n",
            "dropout_55 (Dropout)         (None, 300)               0         \n",
            "_________________________________________________________________\n",
            "dense_166 (Dense)            (None, 128)               38528     \n",
            "_________________________________________________________________\n",
            "dense_167 (Dense)            (None, 21)                2709      \n",
            "=================================================================\n",
            "Total params: 541,249\n",
            "Trainable params: 541,249\n",
            "Non-trainable params: 0\n",
            "_________________________________________________________________\n",
            "None\n"
          ],
          "name": "stdout"
        },
        {
          "output_type": "stream",
          "text": [
            "WARNING:absl:Found untraced functions such as lstm_cell_110_layer_call_and_return_conditional_losses, lstm_cell_110_layer_call_fn, lstm_cell_111_layer_call_and_return_conditional_losses, lstm_cell_111_layer_call_fn, lstm_cell_110_layer_call_fn while saving (showing 5 of 10). These functions will not be directly callable after loading.\n",
            "WARNING:absl:Found untraced functions such as lstm_cell_110_layer_call_and_return_conditional_losses, lstm_cell_110_layer_call_fn, lstm_cell_111_layer_call_and_return_conditional_losses, lstm_cell_111_layer_call_fn, lstm_cell_110_layer_call_fn while saving (showing 5 of 10). These functions will not be directly callable after loading.\n"
          ],
          "name": "stderr"
        },
        {
          "output_type": "stream",
          "text": [
            "INFO:tensorflow:Assets written to: models/6_xmeas_17/assets\n"
          ],
          "name": "stdout"
        },
        {
          "output_type": "stream",
          "text": [
            "INFO:tensorflow:Assets written to: models/6_xmeas_17/assets\n"
          ],
          "name": "stderr"
        },
        {
          "output_type": "stream",
          "text": [
            "Feature xmeas_17 Accuracy 0.842016\n",
            "Model: \"sequential_56\"\n",
            "_________________________________________________________________\n",
            "Layer (type)                 Output Shape              Param #   \n",
            "=================================================================\n",
            "lstm_112 (LSTM)              (None, 49, 256)           264192    \n",
            "_________________________________________________________________\n",
            "lstm_113 (LSTM)              (None, 128)               197120    \n",
            "_________________________________________________________________\n",
            "dense_168 (Dense)            (None, 300)               38700     \n",
            "_________________________________________________________________\n",
            "dropout_56 (Dropout)         (None, 300)               0         \n",
            "_________________________________________________________________\n",
            "dense_169 (Dense)            (None, 128)               38528     \n",
            "_________________________________________________________________\n",
            "dense_170 (Dense)            (None, 21)                2709      \n",
            "=================================================================\n",
            "Total params: 541,249\n",
            "Trainable params: 541,249\n",
            "Non-trainable params: 0\n",
            "_________________________________________________________________\n",
            "None\n"
          ],
          "name": "stdout"
        },
        {
          "output_type": "stream",
          "text": [
            "WARNING:absl:Found untraced functions such as lstm_cell_112_layer_call_and_return_conditional_losses, lstm_cell_112_layer_call_fn, lstm_cell_113_layer_call_and_return_conditional_losses, lstm_cell_113_layer_call_fn, lstm_cell_112_layer_call_fn while saving (showing 5 of 10). These functions will not be directly callable after loading.\n",
            "WARNING:absl:Found untraced functions such as lstm_cell_112_layer_call_and_return_conditional_losses, lstm_cell_112_layer_call_fn, lstm_cell_113_layer_call_and_return_conditional_losses, lstm_cell_113_layer_call_fn, lstm_cell_112_layer_call_fn while saving (showing 5 of 10). These functions will not be directly callable after loading.\n"
          ],
          "name": "stderr"
        },
        {
          "output_type": "stream",
          "text": [
            "INFO:tensorflow:Assets written to: models/6_xmeas_9/assets\n"
          ],
          "name": "stdout"
        },
        {
          "output_type": "stream",
          "text": [
            "INFO:tensorflow:Assets written to: models/6_xmeas_9/assets\n"
          ],
          "name": "stderr"
        },
        {
          "output_type": "stream",
          "text": [
            "Feature xmeas_9 Accuracy 0.860467\n",
            "Best Feature: xmv_9\n",
            "Accuracy is: 0.869531\n",
            "\n",
            "Iteration: 7\n",
            "Model: \"sequential_57\"\n",
            "_________________________________________________________________\n",
            "Layer (type)                 Output Shape              Param #   \n",
            "=================================================================\n",
            "lstm_114 (LSTM)              (None, 50, 256)           264192    \n",
            "_________________________________________________________________\n",
            "lstm_115 (LSTM)              (None, 128)               197120    \n",
            "_________________________________________________________________\n",
            "dense_171 (Dense)            (None, 300)               38700     \n",
            "_________________________________________________________________\n",
            "dropout_57 (Dropout)         (None, 300)               0         \n",
            "_________________________________________________________________\n",
            "dense_172 (Dense)            (None, 128)               38528     \n",
            "_________________________________________________________________\n",
            "dense_173 (Dense)            (None, 21)                2709      \n",
            "=================================================================\n",
            "Total params: 541,249\n",
            "Trainable params: 541,249\n",
            "Non-trainable params: 0\n",
            "_________________________________________________________________\n",
            "None\n"
          ],
          "name": "stdout"
        },
        {
          "output_type": "stream",
          "text": [
            "WARNING:absl:Found untraced functions such as lstm_cell_114_layer_call_and_return_conditional_losses, lstm_cell_114_layer_call_fn, lstm_cell_115_layer_call_and_return_conditional_losses, lstm_cell_115_layer_call_fn, lstm_cell_114_layer_call_fn while saving (showing 5 of 10). These functions will not be directly callable after loading.\n",
            "WARNING:absl:Found untraced functions such as lstm_cell_114_layer_call_and_return_conditional_losses, lstm_cell_114_layer_call_fn, lstm_cell_115_layer_call_and_return_conditional_losses, lstm_cell_115_layer_call_fn, lstm_cell_114_layer_call_fn while saving (showing 5 of 10). These functions will not be directly callable after loading.\n"
          ],
          "name": "stderr"
        },
        {
          "output_type": "stream",
          "text": [
            "INFO:tensorflow:Assets written to: models/7_xmv_11/assets\n"
          ],
          "name": "stdout"
        },
        {
          "output_type": "stream",
          "text": [
            "INFO:tensorflow:Assets written to: models/7_xmv_11/assets\n"
          ],
          "name": "stderr"
        },
        {
          "output_type": "stream",
          "text": [
            "Feature xmv_11 Accuracy 0.883005\n",
            "Model: \"sequential_58\"\n",
            "_________________________________________________________________\n",
            "Layer (type)                 Output Shape              Param #   \n",
            "=================================================================\n",
            "lstm_116 (LSTM)              (None, 50, 256)           264192    \n",
            "_________________________________________________________________\n",
            "lstm_117 (LSTM)              (None, 128)               197120    \n",
            "_________________________________________________________________\n",
            "dense_174 (Dense)            (None, 300)               38700     \n",
            "_________________________________________________________________\n",
            "dropout_58 (Dropout)         (None, 300)               0         \n",
            "_________________________________________________________________\n",
            "dense_175 (Dense)            (None, 128)               38528     \n",
            "_________________________________________________________________\n",
            "dense_176 (Dense)            (None, 21)                2709      \n",
            "=================================================================\n",
            "Total params: 541,249\n",
            "Trainable params: 541,249\n",
            "Non-trainable params: 0\n",
            "_________________________________________________________________\n",
            "None\n"
          ],
          "name": "stdout"
        },
        {
          "output_type": "stream",
          "text": [
            "WARNING:absl:Found untraced functions such as lstm_cell_116_layer_call_and_return_conditional_losses, lstm_cell_116_layer_call_fn, lstm_cell_117_layer_call_and_return_conditional_losses, lstm_cell_117_layer_call_fn, lstm_cell_116_layer_call_fn while saving (showing 5 of 10). These functions will not be directly callable after loading.\n",
            "WARNING:absl:Found untraced functions such as lstm_cell_116_layer_call_and_return_conditional_losses, lstm_cell_116_layer_call_fn, lstm_cell_117_layer_call_and_return_conditional_losses, lstm_cell_117_layer_call_fn, lstm_cell_116_layer_call_fn while saving (showing 5 of 10). These functions will not be directly callable after loading.\n"
          ],
          "name": "stderr"
        },
        {
          "output_type": "stream",
          "text": [
            "INFO:tensorflow:Assets written to: models/7_xmeas_17/assets\n"
          ],
          "name": "stdout"
        },
        {
          "output_type": "stream",
          "text": [
            "INFO:tensorflow:Assets written to: models/7_xmeas_17/assets\n"
          ],
          "name": "stderr"
        },
        {
          "output_type": "stream",
          "text": [
            "Feature xmeas_17 Accuracy 0.867391\n",
            "Model: \"sequential_59\"\n",
            "_________________________________________________________________\n",
            "Layer (type)                 Output Shape              Param #   \n",
            "=================================================================\n",
            "lstm_118 (LSTM)              (None, 50, 256)           264192    \n",
            "_________________________________________________________________\n",
            "lstm_119 (LSTM)              (None, 128)               197120    \n",
            "_________________________________________________________________\n",
            "dense_177 (Dense)            (None, 300)               38700     \n",
            "_________________________________________________________________\n",
            "dropout_59 (Dropout)         (None, 300)               0         \n",
            "_________________________________________________________________\n",
            "dense_178 (Dense)            (None, 128)               38528     \n",
            "_________________________________________________________________\n",
            "dense_179 (Dense)            (None, 21)                2709      \n",
            "=================================================================\n",
            "Total params: 541,249\n",
            "Trainable params: 541,249\n",
            "Non-trainable params: 0\n",
            "_________________________________________________________________\n",
            "None\n"
          ],
          "name": "stdout"
        },
        {
          "output_type": "stream",
          "text": [
            "WARNING:absl:Found untraced functions such as lstm_cell_118_layer_call_and_return_conditional_losses, lstm_cell_118_layer_call_fn, lstm_cell_119_layer_call_and_return_conditional_losses, lstm_cell_119_layer_call_fn, lstm_cell_118_layer_call_fn while saving (showing 5 of 10). These functions will not be directly callable after loading.\n",
            "WARNING:absl:Found untraced functions such as lstm_cell_118_layer_call_and_return_conditional_losses, lstm_cell_118_layer_call_fn, lstm_cell_119_layer_call_and_return_conditional_losses, lstm_cell_119_layer_call_fn, lstm_cell_118_layer_call_fn while saving (showing 5 of 10). These functions will not be directly callable after loading.\n"
          ],
          "name": "stderr"
        },
        {
          "output_type": "stream",
          "text": [
            "INFO:tensorflow:Assets written to: models/7_xmeas_9/assets\n"
          ],
          "name": "stdout"
        },
        {
          "output_type": "stream",
          "text": [
            "INFO:tensorflow:Assets written to: models/7_xmeas_9/assets\n"
          ],
          "name": "stderr"
        },
        {
          "output_type": "stream",
          "text": [
            "Feature xmeas_9 Accuracy 0.884664\n",
            "Best Feature: xmeas_9\n",
            "Accuracy is: 0.884664\n",
            "\n",
            "Iteration: 8\n",
            "Model: \"sequential_60\"\n",
            "_________________________________________________________________\n",
            "Layer (type)                 Output Shape              Param #   \n",
            "=================================================================\n",
            "lstm_120 (LSTM)              (None, 51, 256)           264192    \n",
            "_________________________________________________________________\n",
            "lstm_121 (LSTM)              (None, 128)               197120    \n",
            "_________________________________________________________________\n",
            "dense_180 (Dense)            (None, 300)               38700     \n",
            "_________________________________________________________________\n",
            "dropout_60 (Dropout)         (None, 300)               0         \n",
            "_________________________________________________________________\n",
            "dense_181 (Dense)            (None, 128)               38528     \n",
            "_________________________________________________________________\n",
            "dense_182 (Dense)            (None, 21)                2709      \n",
            "=================================================================\n",
            "Total params: 541,249\n",
            "Trainable params: 541,249\n",
            "Non-trainable params: 0\n",
            "_________________________________________________________________\n",
            "None\n"
          ],
          "name": "stdout"
        },
        {
          "output_type": "stream",
          "text": [
            "WARNING:absl:Found untraced functions such as lstm_cell_120_layer_call_and_return_conditional_losses, lstm_cell_120_layer_call_fn, lstm_cell_121_layer_call_and_return_conditional_losses, lstm_cell_121_layer_call_fn, lstm_cell_120_layer_call_fn while saving (showing 5 of 10). These functions will not be directly callable after loading.\n",
            "WARNING:absl:Found untraced functions such as lstm_cell_120_layer_call_and_return_conditional_losses, lstm_cell_120_layer_call_fn, lstm_cell_121_layer_call_and_return_conditional_losses, lstm_cell_121_layer_call_fn, lstm_cell_120_layer_call_fn while saving (showing 5 of 10). These functions will not be directly callable after loading.\n"
          ],
          "name": "stderr"
        },
        {
          "output_type": "stream",
          "text": [
            "INFO:tensorflow:Assets written to: models/8_xmv_11/assets\n"
          ],
          "name": "stdout"
        },
        {
          "output_type": "stream",
          "text": [
            "INFO:tensorflow:Assets written to: models/8_xmv_11/assets\n"
          ],
          "name": "stderr"
        },
        {
          "output_type": "stream",
          "text": [
            "Feature xmv_11 Accuracy 0.893515\n",
            "Model: \"sequential_61\"\n",
            "_________________________________________________________________\n",
            "Layer (type)                 Output Shape              Param #   \n",
            "=================================================================\n",
            "lstm_122 (LSTM)              (None, 51, 256)           264192    \n",
            "_________________________________________________________________\n",
            "lstm_123 (LSTM)              (None, 128)               197120    \n",
            "_________________________________________________________________\n",
            "dense_183 (Dense)            (None, 300)               38700     \n",
            "_________________________________________________________________\n",
            "dropout_61 (Dropout)         (None, 300)               0         \n",
            "_________________________________________________________________\n",
            "dense_184 (Dense)            (None, 128)               38528     \n",
            "_________________________________________________________________\n",
            "dense_185 (Dense)            (None, 21)                2709      \n",
            "=================================================================\n",
            "Total params: 541,249\n",
            "Trainable params: 541,249\n",
            "Non-trainable params: 0\n",
            "_________________________________________________________________\n",
            "None\n"
          ],
          "name": "stdout"
        },
        {
          "output_type": "stream",
          "text": [
            "WARNING:absl:Found untraced functions such as lstm_cell_122_layer_call_and_return_conditional_losses, lstm_cell_122_layer_call_fn, lstm_cell_123_layer_call_and_return_conditional_losses, lstm_cell_123_layer_call_fn, lstm_cell_122_layer_call_fn while saving (showing 5 of 10). These functions will not be directly callable after loading.\n",
            "WARNING:absl:Found untraced functions such as lstm_cell_122_layer_call_and_return_conditional_losses, lstm_cell_122_layer_call_fn, lstm_cell_123_layer_call_and_return_conditional_losses, lstm_cell_123_layer_call_fn, lstm_cell_122_layer_call_fn while saving (showing 5 of 10). These functions will not be directly callable after loading.\n"
          ],
          "name": "stderr"
        },
        {
          "output_type": "stream",
          "text": [
            "INFO:tensorflow:Assets written to: models/8_xmeas_17/assets\n"
          ],
          "name": "stdout"
        },
        {
          "output_type": "stream",
          "text": [
            "INFO:tensorflow:Assets written to: models/8_xmeas_17/assets\n"
          ],
          "name": "stderr"
        },
        {
          "output_type": "stream",
          "text": [
            "Feature xmeas_17 Accuracy 0.880148\n",
            "Best Feature: xmv_11\n",
            "Accuracy is: 0.893515\n",
            "\n",
            "Iteration: 9\n",
            "Model: \"sequential_62\"\n",
            "_________________________________________________________________\n",
            "Layer (type)                 Output Shape              Param #   \n",
            "=================================================================\n",
            "lstm_124 (LSTM)              (None, 52, 256)           264192    \n",
            "_________________________________________________________________\n",
            "lstm_125 (LSTM)              (None, 128)               197120    \n",
            "_________________________________________________________________\n",
            "dense_186 (Dense)            (None, 300)               38700     \n",
            "_________________________________________________________________\n",
            "dropout_62 (Dropout)         (None, 300)               0         \n",
            "_________________________________________________________________\n",
            "dense_187 (Dense)            (None, 128)               38528     \n",
            "_________________________________________________________________\n",
            "dense_188 (Dense)            (None, 21)                2709      \n",
            "=================================================================\n",
            "Total params: 541,249\n",
            "Trainable params: 541,249\n",
            "Non-trainable params: 0\n",
            "_________________________________________________________________\n",
            "None\n"
          ],
          "name": "stdout"
        },
        {
          "output_type": "stream",
          "text": [
            "WARNING:absl:Found untraced functions such as lstm_cell_124_layer_call_and_return_conditional_losses, lstm_cell_124_layer_call_fn, lstm_cell_125_layer_call_and_return_conditional_losses, lstm_cell_125_layer_call_fn, lstm_cell_124_layer_call_fn while saving (showing 5 of 10). These functions will not be directly callable after loading.\n",
            "WARNING:absl:Found untraced functions such as lstm_cell_124_layer_call_and_return_conditional_losses, lstm_cell_124_layer_call_fn, lstm_cell_125_layer_call_and_return_conditional_losses, lstm_cell_125_layer_call_fn, lstm_cell_124_layer_call_fn while saving (showing 5 of 10). These functions will not be directly callable after loading.\n"
          ],
          "name": "stderr"
        },
        {
          "output_type": "stream",
          "text": [
            "INFO:tensorflow:Assets written to: models/9_xmeas_17/assets\n"
          ],
          "name": "stdout"
        },
        {
          "output_type": "stream",
          "text": [
            "INFO:tensorflow:Assets written to: models/9_xmeas_17/assets\n"
          ],
          "name": "stderr"
        },
        {
          "output_type": "stream",
          "text": [
            "Feature xmeas_17 Accuracy 0.917573\n",
            "Best Feature: xmeas_17\n",
            "Accuracy is: 0.917573\n",
            "\n"
          ],
          "name": "stdout"
        }
      ]
    },
    {
      "cell_type": "code",
      "metadata": {
        "id": "nsU2cImtfe3u",
        "colab": {
          "base_uri": "https://localhost:8080/"
        },
        "outputId": "ddde467e-ba12-4ce8-ba0b-5c07091ea2e4"
      },
      "source": [
        "train, cv = setupLSTM(top10all, x_train_df, x_cv_df)\n",
        "model = createLstmModel(len(train[0]))\n",
        "epochsNum = 110\n",
        "\n",
        "print(model.summary())\n",
        "model.fit(train, y_train, epochs=epochsNum,verbose=1,batch_size=256,validation_data = (cv, y_cv))\n",
        "score = model.history.history['val_accuracy'][-1]\n",
        "model.save('models2/base_42')\n",
        "# !cp -r models2/ /content/drive/MyDrive/ # Only add if colab\n",
        "\n",
        "copy_features = top10all.copy()\n",
        "\n",
        "# print(\"Original Accuracy: %f\\n\" % score)\n",
        "iterations = 10 #len(top10all)\n",
        "\n",
        "# for iter in range(3,iterations):\n",
        "#   print(\"Iteration: %d\" % iter)\n",
        "\n",
        "#   best_feature = \"\"\n",
        "#   best_accuracy = 0\n",
        "#   copy_features = top10all.copy()\n",
        "\n",
        "#   for feature in top10all:\n",
        "#     copy_features.remove(feature)\n",
        "#     train, cv = setupLSTM(copy_features, x_train_df, x_cv_df)\n",
        "#     model = createLstmModel(len(train[0]))\n",
        "#     print(model.summary())\n",
        "\n",
        "#     model.fit(train, y_train, epochs=epochsNum, verbose=0, batch_size=256, validation_data = (cv, y_cv))\n",
        "#     score = model.history.history['val_accuracy'][-1]\n",
        "#     print(\"Feature %s Accuracy %f\" % (feature, score))\n",
        "#     file_name = 'models2/' + str(42 + iter) + '_' + feature\n",
        "#     model.save(file_name)\n",
        "#     !cp -r models2/ /content/drive/MyDrive/\n",
        "\n",
        "#     copy_features = top10all.copy()\n",
        "\n",
        "#     if score > best_accuracy:\n",
        "#       best_accuracy = score\n",
        "#       best_feature = feature\n",
        "  \n",
        "#   print(\"Best Feature: %s\" % best_feature)\n",
        "#   print(\"Accuracy is: %f\\n\" % best_accuracy)\n",
        "\n",
        "#   top10all.remove(best_feature)"
      ],
      "execution_count": null,
      "outputs": [
        {
          "output_type": "stream",
          "text": [
            "Model: \"sequential_3\"\n",
            "_________________________________________________________________\n",
            "Layer (type)                 Output Shape              Param #   \n",
            "=================================================================\n",
            "lstm_6 (LSTM)                (None, 42, 256)           264192    \n",
            "_________________________________________________________________\n",
            "lstm_7 (LSTM)                (None, 128)               197120    \n",
            "_________________________________________________________________\n",
            "dense_9 (Dense)              (None, 300)               38700     \n",
            "_________________________________________________________________\n",
            "dropout_3 (Dropout)          (None, 300)               0         \n",
            "_________________________________________________________________\n",
            "dense_10 (Dense)             (None, 128)               38528     \n",
            "_________________________________________________________________\n",
            "dense_11 (Dense)             (None, 21)                2709      \n",
            "=================================================================\n",
            "Total params: 541,249\n",
            "Trainable params: 541,249\n",
            "Non-trainable params: 0\n",
            "_________________________________________________________________\n",
            "None\n",
            "Epoch 1/110\n",
            "922/922 [==============================] - 19s 17ms/step - loss: 2.0544 - accuracy: 0.3718 - val_loss: 1.6559 - val_accuracy: 0.5026\n",
            "Epoch 2/110\n",
            "922/922 [==============================] - 15s 16ms/step - loss: 1.6447 - accuracy: 0.4803 - val_loss: 1.4971 - val_accuracy: 0.5457\n",
            "Epoch 3/110\n",
            "922/922 [==============================] - 15s 16ms/step - loss: 1.4502 - accuracy: 0.5383 - val_loss: 1.3573 - val_accuracy: 0.5861\n",
            "Epoch 4/110\n",
            "922/922 [==============================] - 15s 16ms/step - loss: 1.2597 - accuracy: 0.5995 - val_loss: 1.1318 - val_accuracy: 0.6630\n",
            "Epoch 5/110\n",
            "922/922 [==============================] - 15s 16ms/step - loss: 1.0882 - accuracy: 0.6585 - val_loss: 0.9841 - val_accuracy: 0.7119\n",
            "Epoch 6/110\n",
            "922/922 [==============================] - 15s 16ms/step - loss: 0.9636 - accuracy: 0.6995 - val_loss: 0.9387 - val_accuracy: 0.7209\n",
            "Epoch 7/110\n",
            "922/922 [==============================] - 15s 16ms/step - loss: 0.8909 - accuracy: 0.7205 - val_loss: 0.9061 - val_accuracy: 0.7312\n",
            "Epoch 8/110\n",
            "922/922 [==============================] - 15s 16ms/step - loss: 0.8518 - accuracy: 0.7326 - val_loss: 0.8932 - val_accuracy: 0.7371\n",
            "Epoch 9/110\n",
            "922/922 [==============================] - 15s 16ms/step - loss: 0.8275 - accuracy: 0.7404 - val_loss: 0.8676 - val_accuracy: 0.7435\n",
            "Epoch 10/110\n",
            "922/922 [==============================] - 15s 16ms/step - loss: 0.7986 - accuracy: 0.7468 - val_loss: 0.8930 - val_accuracy: 0.7385\n",
            "Epoch 11/110\n",
            "922/922 [==============================] - 15s 16ms/step - loss: 0.7788 - accuracy: 0.7531 - val_loss: 0.8886 - val_accuracy: 0.7440\n",
            "Epoch 12/110\n",
            "922/922 [==============================] - 15s 16ms/step - loss: 0.7584 - accuracy: 0.7601 - val_loss: 0.8803 - val_accuracy: 0.7470\n",
            "Epoch 13/110\n",
            "922/922 [==============================] - 15s 16ms/step - loss: 0.7499 - accuracy: 0.7628 - val_loss: 0.8779 - val_accuracy: 0.7471\n",
            "Epoch 14/110\n",
            "922/922 [==============================] - 15s 16ms/step - loss: 0.7394 - accuracy: 0.7651 - val_loss: 0.8891 - val_accuracy: 0.7457\n",
            "Epoch 15/110\n",
            "922/922 [==============================] - 15s 16ms/step - loss: 0.7287 - accuracy: 0.7689 - val_loss: 0.9015 - val_accuracy: 0.7453\n",
            "Epoch 16/110\n",
            "922/922 [==============================] - 15s 16ms/step - loss: 0.7142 - accuracy: 0.7734 - val_loss: 0.8780 - val_accuracy: 0.7516\n",
            "Epoch 17/110\n",
            "922/922 [==============================] - 15s 16ms/step - loss: 0.7233 - accuracy: 0.7717 - val_loss: 0.8714 - val_accuracy: 0.7552\n",
            "Epoch 18/110\n",
            "922/922 [==============================] - 15s 16ms/step - loss: 0.6984 - accuracy: 0.7780 - val_loss: 0.9351 - val_accuracy: 0.7422\n",
            "Epoch 19/110\n",
            "922/922 [==============================] - 15s 16ms/step - loss: 0.6911 - accuracy: 0.7798 - val_loss: 0.9008 - val_accuracy: 0.7540\n",
            "Epoch 20/110\n",
            "922/922 [==============================] - 15s 16ms/step - loss: 0.6827 - accuracy: 0.7808 - val_loss: 0.9349 - val_accuracy: 0.7499\n",
            "Epoch 21/110\n",
            "922/922 [==============================] - 15s 16ms/step - loss: 0.6681 - accuracy: 0.7867 - val_loss: 0.9112 - val_accuracy: 0.7487\n",
            "Epoch 22/110\n",
            "922/922 [==============================] - 15s 16ms/step - loss: 0.6561 - accuracy: 0.7895 - val_loss: 0.9573 - val_accuracy: 0.7444\n",
            "Epoch 23/110\n",
            "922/922 [==============================] - 15s 16ms/step - loss: 0.6457 - accuracy: 0.7919 - val_loss: 0.9459 - val_accuracy: 0.7476\n",
            "Epoch 24/110\n",
            "922/922 [==============================] - 15s 16ms/step - loss: 0.6838 - accuracy: 0.7835 - val_loss: 0.9265 - val_accuracy: 0.7495\n",
            "Epoch 25/110\n",
            "922/922 [==============================] - 15s 16ms/step - loss: 0.6246 - accuracy: 0.7971 - val_loss: 0.9578 - val_accuracy: 0.7474\n",
            "Epoch 26/110\n",
            "922/922 [==============================] - 15s 16ms/step - loss: 0.6147 - accuracy: 0.8003 - val_loss: 0.9816 - val_accuracy: 0.7485\n",
            "Epoch 27/110\n",
            "922/922 [==============================] - 15s 16ms/step - loss: 0.6138 - accuracy: 0.8008 - val_loss: 0.9895 - val_accuracy: 0.7475\n",
            "Epoch 28/110\n",
            "922/922 [==============================] - 15s 16ms/step - loss: 0.6004 - accuracy: 0.8037 - val_loss: 0.9973 - val_accuracy: 0.7430\n",
            "Epoch 29/110\n",
            "922/922 [==============================] - 15s 16ms/step - loss: 0.5923 - accuracy: 0.8062 - val_loss: 1.0397 - val_accuracy: 0.7391\n",
            "Epoch 30/110\n",
            "922/922 [==============================] - 15s 16ms/step - loss: 0.5844 - accuracy: 0.8074 - val_loss: 1.0257 - val_accuracy: 0.7419\n",
            "Epoch 31/110\n",
            "922/922 [==============================] - 15s 16ms/step - loss: 0.5722 - accuracy: 0.8104 - val_loss: 1.0491 - val_accuracy: 0.7388\n",
            "Epoch 32/110\n",
            "922/922 [==============================] - 15s 16ms/step - loss: 0.5693 - accuracy: 0.8123 - val_loss: 1.0672 - val_accuracy: 0.7374\n",
            "Epoch 33/110\n",
            "922/922 [==============================] - 15s 16ms/step - loss: 0.5541 - accuracy: 0.8164 - val_loss: 1.0857 - val_accuracy: 0.7399\n",
            "Epoch 34/110\n",
            "922/922 [==============================] - 15s 16ms/step - loss: 0.5431 - accuracy: 0.8194 - val_loss: 1.1007 - val_accuracy: 0.7325\n",
            "Epoch 35/110\n",
            "922/922 [==============================] - 15s 16ms/step - loss: 0.5366 - accuracy: 0.8211 - val_loss: 1.0793 - val_accuracy: 0.7355\n",
            "Epoch 36/110\n",
            "922/922 [==============================] - 15s 16ms/step - loss: 0.5170 - accuracy: 0.8267 - val_loss: 1.2273 - val_accuracy: 0.7288\n",
            "Epoch 37/110\n",
            "922/922 [==============================] - 15s 16ms/step - loss: 0.5147 - accuracy: 0.8273 - val_loss: 1.2022 - val_accuracy: 0.7316\n",
            "Epoch 38/110\n",
            "922/922 [==============================] - 15s 16ms/step - loss: 0.5042 - accuracy: 0.8301 - val_loss: 1.2070 - val_accuracy: 0.7285\n",
            "Epoch 39/110\n",
            "922/922 [==============================] - 15s 16ms/step - loss: 0.4950 - accuracy: 0.8324 - val_loss: 1.2160 - val_accuracy: 0.7282\n",
            "Epoch 40/110\n",
            "922/922 [==============================] - 15s 16ms/step - loss: 0.5055 - accuracy: 0.8311 - val_loss: 1.2416 - val_accuracy: 0.7239\n",
            "Epoch 41/110\n",
            "922/922 [==============================] - 15s 16ms/step - loss: 0.4674 - accuracy: 0.8415 - val_loss: 1.3300 - val_accuracy: 0.7257\n",
            "Epoch 42/110\n",
            "922/922 [==============================] - 15s 16ms/step - loss: 0.4654 - accuracy: 0.8404 - val_loss: 1.3352 - val_accuracy: 0.7184\n",
            "Epoch 43/110\n",
            "922/922 [==============================] - 15s 16ms/step - loss: 0.4581 - accuracy: 0.8428 - val_loss: 1.3397 - val_accuracy: 0.7122\n",
            "Epoch 44/110\n",
            "922/922 [==============================] - 15s 16ms/step - loss: 0.4476 - accuracy: 0.8462 - val_loss: 1.3254 - val_accuracy: 0.7228\n",
            "Epoch 45/110\n",
            "922/922 [==============================] - 15s 16ms/step - loss: 0.4468 - accuracy: 0.8467 - val_loss: 1.3736 - val_accuracy: 0.7134\n",
            "Epoch 46/110\n",
            "922/922 [==============================] - 15s 16ms/step - loss: 0.4254 - accuracy: 0.8518 - val_loss: 1.4513 - val_accuracy: 0.7046\n",
            "Epoch 47/110\n",
            "922/922 [==============================] - 15s 16ms/step - loss: 0.4271 - accuracy: 0.8522 - val_loss: 1.4304 - val_accuracy: 0.7151\n",
            "Epoch 48/110\n",
            "922/922 [==============================] - 15s 16ms/step - loss: 0.4159 - accuracy: 0.8562 - val_loss: 1.4846 - val_accuracy: 0.7092\n",
            "Epoch 49/110\n",
            "922/922 [==============================] - 15s 16ms/step - loss: 0.4042 - accuracy: 0.8592 - val_loss: 1.5010 - val_accuracy: 0.7115\n",
            "Epoch 50/110\n",
            "922/922 [==============================] - 15s 16ms/step - loss: 0.4006 - accuracy: 0.8597 - val_loss: 1.5513 - val_accuracy: 0.7069\n",
            "Epoch 51/110\n",
            "922/922 [==============================] - 15s 16ms/step - loss: 0.3910 - accuracy: 0.8620 - val_loss: 1.5784 - val_accuracy: 0.7069\n",
            "Epoch 52/110\n",
            "922/922 [==============================] - 15s 16ms/step - loss: 0.3833 - accuracy: 0.8656 - val_loss: 1.5306 - val_accuracy: 0.7076\n",
            "Epoch 53/110\n",
            "922/922 [==============================] - 15s 16ms/step - loss: 0.3818 - accuracy: 0.8658 - val_loss: 1.5682 - val_accuracy: 0.7040\n",
            "Epoch 54/110\n",
            "922/922 [==============================] - 15s 16ms/step - loss: 0.3683 - accuracy: 0.8700 - val_loss: 1.6697 - val_accuracy: 0.7004\n",
            "Epoch 55/110\n",
            "922/922 [==============================] - 15s 16ms/step - loss: 0.3598 - accuracy: 0.8720 - val_loss: 1.6631 - val_accuracy: 0.7098\n",
            "Epoch 56/110\n",
            "922/922 [==============================] - 15s 16ms/step - loss: 0.3633 - accuracy: 0.8712 - val_loss: 1.6929 - val_accuracy: 0.6987\n",
            "Epoch 57/110\n",
            "922/922 [==============================] - 15s 16ms/step - loss: 0.3564 - accuracy: 0.8733 - val_loss: 1.6756 - val_accuracy: 0.6941\n",
            "Epoch 58/110\n",
            "922/922 [==============================] - 15s 16ms/step - loss: 0.3499 - accuracy: 0.8752 - val_loss: 1.7345 - val_accuracy: 0.6979\n",
            "Epoch 59/110\n",
            "922/922 [==============================] - 15s 16ms/step - loss: 0.3427 - accuracy: 0.8775 - val_loss: 1.7851 - val_accuracy: 0.6972\n",
            "Epoch 60/110\n",
            "922/922 [==============================] - 15s 16ms/step - loss: 0.3411 - accuracy: 0.8790 - val_loss: 1.4845 - val_accuracy: 0.6980\n",
            "Epoch 61/110\n",
            "922/922 [==============================] - 15s 16ms/step - loss: 0.3457 - accuracy: 0.8765 - val_loss: 1.8766 - val_accuracy: 0.6912\n",
            "Epoch 62/110\n",
            "922/922 [==============================] - 15s 16ms/step - loss: 0.3250 - accuracy: 0.8826 - val_loss: 1.9188 - val_accuracy: 0.6930\n",
            "Epoch 63/110\n",
            "922/922 [==============================] - 15s 16ms/step - loss: 0.3223 - accuracy: 0.8835 - val_loss: 1.8879 - val_accuracy: 0.7007\n",
            "Epoch 64/110\n",
            "922/922 [==============================] - 15s 16ms/step - loss: 0.3233 - accuracy: 0.8820 - val_loss: 1.8963 - val_accuracy: 0.6905\n",
            "Epoch 65/110\n",
            "922/922 [==============================] - 15s 16ms/step - loss: 0.3172 - accuracy: 0.8850 - val_loss: 1.9229 - val_accuracy: 0.7015\n",
            "Epoch 66/110\n",
            "922/922 [==============================] - 15s 16ms/step - loss: 0.3167 - accuracy: 0.8848 - val_loss: 1.9580 - val_accuracy: 0.6968\n",
            "Epoch 67/110\n",
            "922/922 [==============================] - 15s 16ms/step - loss: 0.3119 - accuracy: 0.8870 - val_loss: 1.9504 - val_accuracy: 0.6886\n",
            "Epoch 68/110\n",
            "922/922 [==============================] - 15s 16ms/step - loss: 0.3086 - accuracy: 0.8880 - val_loss: 1.9253 - val_accuracy: 0.6905\n",
            "Epoch 69/110\n",
            "922/922 [==============================] - 15s 16ms/step - loss: 0.3072 - accuracy: 0.8886 - val_loss: 2.0418 - val_accuracy: 0.6927\n",
            "Epoch 70/110\n",
            "922/922 [==============================] - 15s 16ms/step - loss: 0.3114 - accuracy: 0.8876 - val_loss: 1.9940 - val_accuracy: 0.6885\n",
            "Epoch 71/110\n",
            "922/922 [==============================] - 15s 16ms/step - loss: 0.2922 - accuracy: 0.8921 - val_loss: 2.0312 - val_accuracy: 0.6828\n",
            "Epoch 72/110\n",
            "922/922 [==============================] - 15s 16ms/step - loss: 0.2913 - accuracy: 0.8928 - val_loss: 2.1098 - val_accuracy: 0.6964\n",
            "Epoch 73/110\n",
            "922/922 [==============================] - 15s 16ms/step - loss: 0.2957 - accuracy: 0.8908 - val_loss: 2.0342 - val_accuracy: 0.6887\n",
            "Epoch 74/110\n",
            "922/922 [==============================] - 15s 16ms/step - loss: 0.2902 - accuracy: 0.8932 - val_loss: 2.1122 - val_accuracy: 0.6890\n",
            "Epoch 75/110\n",
            "922/922 [==============================] - 15s 16ms/step - loss: 0.2876 - accuracy: 0.8941 - val_loss: 2.1646 - val_accuracy: 0.6900\n",
            "Epoch 76/110\n",
            "922/922 [==============================] - 15s 16ms/step - loss: 0.2836 - accuracy: 0.8945 - val_loss: 2.0480 - val_accuracy: 0.6939\n",
            "Epoch 77/110\n",
            "922/922 [==============================] - 15s 16ms/step - loss: 0.2918 - accuracy: 0.8921 - val_loss: 2.1305 - val_accuracy: 0.6873\n",
            "Epoch 78/110\n",
            "922/922 [==============================] - 15s 16ms/step - loss: 0.2853 - accuracy: 0.8949 - val_loss: 2.2713 - val_accuracy: 0.6924\n",
            "Epoch 79/110\n",
            "922/922 [==============================] - 15s 16ms/step - loss: 0.2747 - accuracy: 0.8966 - val_loss: 2.2106 - val_accuracy: 0.6817\n",
            "Epoch 80/110\n",
            "922/922 [==============================] - 15s 16ms/step - loss: 0.2707 - accuracy: 0.8985 - val_loss: 2.2885 - val_accuracy: 0.6855\n",
            "Epoch 81/110\n",
            "922/922 [==============================] - 15s 16ms/step - loss: 0.2750 - accuracy: 0.8971 - val_loss: 2.3377 - val_accuracy: 0.6828\n",
            "Epoch 82/110\n",
            "922/922 [==============================] - 15s 16ms/step - loss: 0.2765 - accuracy: 0.8970 - val_loss: 2.3315 - val_accuracy: 0.6833\n",
            "Epoch 83/110\n",
            "922/922 [==============================] - 15s 16ms/step - loss: 0.2739 - accuracy: 0.8976 - val_loss: 2.2993 - val_accuracy: 0.6842\n",
            "Epoch 84/110\n",
            "922/922 [==============================] - 15s 16ms/step - loss: 0.2685 - accuracy: 0.8983 - val_loss: 2.3112 - val_accuracy: 0.6848\n",
            "Epoch 85/110\n",
            "922/922 [==============================] - 15s 16ms/step - loss: 0.2670 - accuracy: 0.9000 - val_loss: 2.3042 - val_accuracy: 0.6804\n",
            "Epoch 86/110\n",
            "922/922 [==============================] - 15s 16ms/step - loss: 0.2649 - accuracy: 0.9000 - val_loss: 2.3912 - val_accuracy: 0.6853\n",
            "Epoch 87/110\n",
            "922/922 [==============================] - 15s 16ms/step - loss: 0.2596 - accuracy: 0.9019 - val_loss: 2.4021 - val_accuracy: 0.6827\n",
            "Epoch 88/110\n",
            "922/922 [==============================] - 15s 16ms/step - loss: 0.2622 - accuracy: 0.9012 - val_loss: 2.4388 - val_accuracy: 0.6863\n",
            "Epoch 89/110\n",
            "922/922 [==============================] - 15s 16ms/step - loss: 0.2590 - accuracy: 0.9017 - val_loss: 2.3913 - val_accuracy: 0.6877\n",
            "Epoch 90/110\n",
            "922/922 [==============================] - 15s 16ms/step - loss: 0.2638 - accuracy: 0.9005 - val_loss: 2.5272 - val_accuracy: 0.6541\n",
            "Epoch 91/110\n",
            "922/922 [==============================] - 15s 16ms/step - loss: 0.3183 - accuracy: 0.8880 - val_loss: 2.3201 - val_accuracy: 0.6801\n",
            "Epoch 92/110\n",
            "922/922 [==============================] - 15s 16ms/step - loss: 0.2476 - accuracy: 0.9054 - val_loss: 2.4632 - val_accuracy: 0.6864\n",
            "Epoch 93/110\n",
            "922/922 [==============================] - 15s 16ms/step - loss: 0.2470 - accuracy: 0.9052 - val_loss: 2.4994 - val_accuracy: 0.6820\n",
            "Epoch 94/110\n",
            "922/922 [==============================] - 15s 16ms/step - loss: 0.2539 - accuracy: 0.9024 - val_loss: 2.4474 - val_accuracy: 0.6836\n",
            "Epoch 95/110\n",
            "922/922 [==============================] - 15s 16ms/step - loss: 0.2492 - accuracy: 0.9041 - val_loss: 2.5293 - val_accuracy: 0.6775\n",
            "Epoch 96/110\n",
            "922/922 [==============================] - 15s 16ms/step - loss: 0.2542 - accuracy: 0.9026 - val_loss: 2.6015 - val_accuracy: 0.6860\n",
            "Epoch 97/110\n",
            "922/922 [==============================] - 15s 16ms/step - loss: 0.2517 - accuracy: 0.9035 - val_loss: 2.5374 - val_accuracy: 0.6797\n",
            "Epoch 98/110\n",
            "922/922 [==============================] - 15s 16ms/step - loss: 0.2379 - accuracy: 0.9082 - val_loss: 2.4681 - val_accuracy: 0.6831\n",
            "Epoch 99/110\n",
            "922/922 [==============================] - 15s 16ms/step - loss: 0.2508 - accuracy: 0.9038 - val_loss: 2.4245 - val_accuracy: 0.6846\n",
            "Epoch 100/110\n",
            "922/922 [==============================] - 15s 16ms/step - loss: 0.2508 - accuracy: 0.9032 - val_loss: 2.3020 - val_accuracy: 0.6803\n",
            "Epoch 101/110\n",
            "922/922 [==============================] - 15s 16ms/step - loss: 0.2383 - accuracy: 0.9073 - val_loss: 2.4251 - val_accuracy: 0.6886\n",
            "Epoch 102/110\n",
            "922/922 [==============================] - 15s 16ms/step - loss: 0.2410 - accuracy: 0.9065 - val_loss: 2.4870 - val_accuracy: 0.6860\n",
            "Epoch 103/110\n",
            "922/922 [==============================] - 15s 16ms/step - loss: 0.2414 - accuracy: 0.9063 - val_loss: 2.5961 - val_accuracy: 0.6891\n",
            "Epoch 104/110\n",
            "922/922 [==============================] - 15s 16ms/step - loss: 0.2411 - accuracy: 0.9062 - val_loss: 2.6056 - val_accuracy: 0.6850\n",
            "Epoch 105/110\n",
            "922/922 [==============================] - 15s 16ms/step - loss: 0.2372 - accuracy: 0.9089 - val_loss: 2.0541 - val_accuracy: 0.6883\n",
            "Epoch 106/110\n",
            "922/922 [==============================] - 15s 16ms/step - loss: 0.2760 - accuracy: 0.8987 - val_loss: 2.5192 - val_accuracy: 0.6799\n",
            "Epoch 107/110\n",
            "922/922 [==============================] - 15s 16ms/step - loss: 0.2244 - accuracy: 0.9121 - val_loss: 2.6436 - val_accuracy: 0.6832\n",
            "Epoch 108/110\n",
            "922/922 [==============================] - 15s 16ms/step - loss: 0.2384 - accuracy: 0.9069 - val_loss: 2.6328 - val_accuracy: 0.6806\n",
            "Epoch 109/110\n",
            "922/922 [==============================] - 15s 16ms/step - loss: 0.2376 - accuracy: 0.9075 - val_loss: 2.6047 - val_accuracy: 0.6754\n",
            "Epoch 110/110\n",
            "922/922 [==============================] - 15s 16ms/step - loss: 0.2304 - accuracy: 0.9087 - val_loss: 2.7867 - val_accuracy: 0.6786\n"
          ],
          "name": "stdout"
        },
        {
          "output_type": "stream",
          "text": [
            "WARNING:absl:Found untraced functions such as lstm_cell_6_layer_call_fn, lstm_cell_6_layer_call_and_return_conditional_losses, lstm_cell_7_layer_call_fn, lstm_cell_7_layer_call_and_return_conditional_losses, lstm_cell_6_layer_call_fn while saving (showing 5 of 10). These functions will not be directly callable after loading.\n",
            "WARNING:absl:Found untraced functions such as lstm_cell_6_layer_call_fn, lstm_cell_6_layer_call_and_return_conditional_losses, lstm_cell_7_layer_call_fn, lstm_cell_7_layer_call_and_return_conditional_losses, lstm_cell_6_layer_call_fn while saving (showing 5 of 10). These functions will not be directly callable after loading.\n"
          ],
          "name": "stderr"
        },
        {
          "output_type": "stream",
          "text": [
            "INFO:tensorflow:Assets written to: models2/base_42/assets\n"
          ],
          "name": "stdout"
        },
        {
          "output_type": "stream",
          "text": [
            "INFO:tensorflow:Assets written to: models2/base_42/assets\n"
          ],
          "name": "stderr"
        }
      ]
    },
    {
      "cell_type": "code",
      "metadata": {
        "colab": {
          "base_uri": "https://localhost:8080/",
          "height": 1000
        },
        "id": "YEZwn9CL7N9P",
        "outputId": "91191303-c744-4215-d124-c753173344bb"
      },
      "source": [
        "from google.colab import files\n",
        "# for var in top10all:\n",
        "#   files.download('models/42_%s' % var)\n",
        "\n",
        "# files.download('models/base_42')\n",
        "# files.download('models/42_xmeas_22')\n",
        "# files.download('models/42_xmeas_21')\n",
        "!zip -r /content/file.zip /content/models\n",
        "files.download('/content/file.zip')"
      ],
      "execution_count": null,
      "outputs": [
        {
          "output_type": "stream",
          "text": [
            "updating: content/models/ (stored 0%)\n",
            "updating: content/models/base_42/ (stored 0%)\n",
            "updating: content/models/base_42/saved_model.pb (deflated 89%)\n",
            "updating: content/models/base_42/variables/ (stored 0%)\n",
            "updating: content/models/base_42/variables/variables.index (deflated 66%)\n",
            "updating: content/models/base_42/variables/variables.data-00000-of-00001 (deflated 7%)\n",
            "updating: content/models/base_42/assets/ (stored 0%)\n",
            "updating: content/models/42_xmeas_35/ (stored 0%)\n",
            "updating: content/models/42_xmeas_35/saved_model.pb (deflated 89%)\n",
            "updating: content/models/42_xmeas_35/variables/ (stored 0%)\n",
            "updating: content/models/42_xmeas_35/variables/variables.index (deflated 66%)\n",
            "updating: content/models/42_xmeas_35/variables/variables.data-00000-of-00001 (deflated 7%)\n",
            "updating: content/models/42_xmeas_35/assets/ (stored 0%)\n",
            "updating: content/models/42_xmeas_17/ (stored 0%)\n",
            "updating: content/models/42_xmeas_17/saved_model.pb (deflated 90%)\n",
            "updating: content/models/42_xmeas_17/variables/ (stored 0%)\n",
            "updating: content/models/42_xmeas_17/variables/variables.index (deflated 66%)\n",
            "updating: content/models/42_xmeas_17/variables/variables.data-00000-of-00001 (deflated 7%)\n",
            "updating: content/models/42_xmeas_17/assets/ (stored 0%)\n",
            "updating: content/models/42_xmeas_21/ (stored 0%)\n",
            "updating: content/models/42_xmeas_21/saved_model.pb (deflated 90%)\n",
            "updating: content/models/42_xmeas_21/variables/ (stored 0%)\n",
            "updating: content/models/42_xmeas_21/variables/variables.index (deflated 66%)\n",
            "updating: content/models/42_xmeas_21/variables/variables.data-00000-of-00001 (deflated 7%)\n",
            "updating: content/models/42_xmeas_21/assets/ (stored 0%)\n",
            "updating: content/models/42_xmv_10/ (stored 0%)\n",
            "updating: content/models/42_xmv_10/saved_model.pb (deflated 90%)\n",
            "updating: content/models/42_xmv_10/variables/ (stored 0%)\n",
            "updating: content/models/42_xmv_10/variables/variables.index (deflated 66%)\n",
            "updating: content/models/42_xmv_10/variables/variables.data-00000-of-00001 (deflated 7%)\n",
            "updating: content/models/42_xmv_10/assets/ (stored 0%)\n",
            "updating: content/models/42_xmeas_25/ (stored 0%)\n",
            "updating: content/models/42_xmeas_25/saved_model.pb (deflated 89%)\n",
            "updating: content/models/42_xmeas_25/variables/ (stored 0%)\n",
            "updating: content/models/42_xmeas_25/variables/variables.index (deflated 66%)\n",
            "updating: content/models/42_xmeas_25/variables/variables.data-00000-of-00001 (deflated 7%)\n",
            "updating: content/models/42_xmeas_25/assets/ (stored 0%)\n",
            "updating: content/models/42_xmeas_33/ (stored 0%)\n",
            "updating: content/models/42_xmeas_33/saved_model.pb (deflated 90%)\n",
            "updating: content/models/42_xmeas_33/variables/ (stored 0%)\n",
            "updating: content/models/42_xmeas_33/variables/variables.index (deflated 66%)\n",
            "updating: content/models/42_xmeas_33/variables/variables.data-00000-of-00001 (deflated 7%)\n",
            "updating: content/models/42_xmeas_33/assets/ (stored 0%)\n",
            "updating: content/models/42_xmeas_30/ (stored 0%)\n",
            "updating: content/models/42_xmeas_30/saved_model.pb (deflated 89%)\n",
            "updating: content/models/42_xmeas_30/variables/ (stored 0%)\n",
            "updating: content/models/42_xmeas_30/variables/variables.index (deflated 66%)\n",
            "updating: content/models/42_xmeas_30/variables/variables.data-00000-of-00001 (deflated 7%)\n",
            "updating: content/models/42_xmeas_30/assets/ (stored 0%)\n",
            "updating: content/models/42_xmv_11/ (stored 0%)\n",
            "updating: content/models/42_xmv_11/saved_model.pb (deflated 90%)\n",
            "updating: content/models/42_xmv_11/variables/ (stored 0%)\n",
            "updating: content/models/42_xmv_11/variables/variables.index (deflated 66%)\n",
            "updating: content/models/42_xmv_11/variables/variables.data-00000-of-00001 (deflated 7%)\n",
            "updating: content/models/42_xmv_11/assets/ (stored 0%)\n",
            "updating: content/models/42_xmv_4/ (stored 0%)\n",
            "updating: content/models/42_xmv_4/saved_model.pb (deflated 90%)\n",
            "updating: content/models/42_xmv_4/variables/ (stored 0%)\n",
            "updating: content/models/42_xmv_4/variables/variables.index (deflated 66%)\n",
            "updating: content/models/42_xmv_4/variables/variables.data-00000-of-00001 (deflated 7%)\n",
            "updating: content/models/42_xmv_4/assets/ (stored 0%)\n",
            "updating: content/models/42_xmeas_22/ (stored 0%)\n",
            "updating: content/models/42_xmeas_22/saved_model.pb (deflated 90%)\n",
            "updating: content/models/42_xmeas_22/variables/ (stored 0%)\n",
            "updating: content/models/42_xmeas_22/variables/variables.index (deflated 66%)\n",
            "updating: content/models/42_xmeas_22/variables/variables.data-00000-of-00001 (deflated 7%)\n",
            "updating: content/models/42_xmeas_22/assets/ (stored 0%)\n",
            "  adding: content/models/43_xmeas_33/ (stored 0%)\n",
            "  adding: content/models/43_xmeas_33/saved_model.pb (deflated 90%)\n",
            "  adding: content/models/43_xmeas_33/variables/ (stored 0%)\n",
            "  adding: content/models/43_xmeas_33/variables/variables.index (deflated 66%)\n",
            "  adding: content/models/43_xmeas_33/variables/variables.data-00000-of-00001 (deflated 6%)\n",
            "  adding: content/models/43_xmeas_33/assets/ (stored 0%)\n",
            "  adding: content/models/43_xmv_10/ (stored 0%)\n",
            "  adding: content/models/43_xmv_10/saved_model.pb (deflated 90%)\n",
            "  adding: content/models/43_xmv_10/variables/ (stored 0%)\n",
            "  adding: content/models/43_xmv_10/variables/variables.index (deflated 66%)\n",
            "  adding: content/models/43_xmv_10/variables/variables.data-00000-of-00001 (deflated 6%)\n",
            "  adding: content/models/43_xmv_10/assets/ (stored 0%)\n",
            "  adding: content/models/43_xmeas_17/ (stored 0%)\n",
            "  adding: content/models/43_xmeas_17/saved_model.pb (deflated 90%)\n",
            "  adding: content/models/43_xmeas_17/variables/ (stored 0%)\n",
            "  adding: content/models/43_xmeas_17/variables/variables.index (deflated 66%)\n",
            "  adding: content/models/43_xmeas_17/variables/variables.data-00000-of-00001 (deflated 7%)\n",
            "  adding: content/models/43_xmeas_17/assets/ (stored 0%)\n",
            "  adding: content/models/43_xmeas_21/ (stored 0%)\n",
            "  adding: content/models/43_xmeas_21/saved_model.pb (deflated 89%)\n",
            "  adding: content/models/43_xmeas_21/variables/ (stored 0%)\n",
            "  adding: content/models/43_xmeas_21/variables/variables.index (deflated 66%)\n",
            "  adding: content/models/43_xmeas_21/variables/variables.data-00000-of-00001 (deflated 7%)\n",
            "  adding: content/models/43_xmeas_21/assets/ (stored 0%)\n",
            "  adding: content/models/43_xmeas_30/ (stored 0%)\n",
            "  adding: content/models/43_xmeas_30/saved_model.pb (deflated 89%)\n",
            "  adding: content/models/43_xmeas_30/variables/ (stored 0%)\n",
            "  adding: content/models/43_xmeas_30/variables/variables.index (deflated 66%)\n",
            "  adding: content/models/43_xmeas_30/variables/variables.data-00000-of-00001 (deflated 7%)\n",
            "  adding: content/models/43_xmeas_30/assets/ (stored 0%)\n",
            "  adding: content/models/43_xmv_11/ (stored 0%)\n",
            "  adding: content/models/43_xmv_11/saved_model.pb (deflated 90%)\n",
            "  adding: content/models/43_xmv_11/variables/ (stored 0%)\n",
            "  adding: content/models/43_xmv_11/variables/variables.index (deflated 66%)\n",
            "  adding: content/models/43_xmv_11/variables/variables.data-00000-of-00001 (deflated 6%)\n",
            "  adding: content/models/43_xmv_11/assets/ (stored 0%)\n",
            "  adding: content/models/43_xmeas_35/ (stored 0%)\n",
            "  adding: content/models/43_xmeas_35/saved_model.pb (deflated 90%)\n",
            "  adding: content/models/43_xmeas_35/variables/ (stored 0%)\n",
            "  adding: content/models/43_xmeas_35/variables/variables.index (deflated 66%)\n",
            "  adding: content/models/43_xmeas_35/variables/variables.data-00000-of-00001 (deflated 7%)\n",
            "  adding: content/models/43_xmeas_35/assets/ (stored 0%)\n",
            "  adding: content/models/43_xmv_4/ (stored 0%)\n",
            "  adding: content/models/43_xmv_4/saved_model.pb (deflated 90%)\n",
            "  adding: content/models/43_xmv_4/variables/ (stored 0%)\n",
            "  adding: content/models/43_xmv_4/variables/variables.index (deflated 66%)\n",
            "  adding: content/models/43_xmv_4/variables/variables.data-00000-of-00001 (deflated 7%)\n",
            "  adding: content/models/43_xmv_4/assets/ (stored 0%)\n",
            "  adding: content/models/43_xmeas_22/ (stored 0%)\n",
            "  adding: content/models/43_xmeas_22/saved_model.pb (deflated 89%)\n",
            "  adding: content/models/43_xmeas_22/variables/ (stored 0%)\n",
            "  adding: content/models/43_xmeas_22/variables/variables.index (deflated 66%)\n",
            "  adding: content/models/43_xmeas_22/variables/variables.data-00000-of-00001 (deflated 7%)\n",
            "  adding: content/models/43_xmeas_22/assets/ (stored 0%)\n"
          ],
          "name": "stdout"
        },
        {
          "output_type": "display_data",
          "data": {
            "application/javascript": [
              "\n",
              "    async function download(id, filename, size) {\n",
              "      if (!google.colab.kernel.accessAllowed) {\n",
              "        return;\n",
              "      }\n",
              "      const div = document.createElement('div');\n",
              "      const label = document.createElement('label');\n",
              "      label.textContent = `Downloading \"${filename}\": `;\n",
              "      div.appendChild(label);\n",
              "      const progress = document.createElement('progress');\n",
              "      progress.max = size;\n",
              "      div.appendChild(progress);\n",
              "      document.body.appendChild(div);\n",
              "\n",
              "      const buffers = [];\n",
              "      let downloaded = 0;\n",
              "\n",
              "      const channel = await google.colab.kernel.comms.open(id);\n",
              "      // Send a message to notify the kernel that we're ready.\n",
              "      channel.send({})\n",
              "\n",
              "      for await (const message of channel.messages) {\n",
              "        // Send a message to notify the kernel that we're ready.\n",
              "        channel.send({})\n",
              "        if (message.buffers) {\n",
              "          for (const buffer of message.buffers) {\n",
              "            buffers.push(buffer);\n",
              "            downloaded += buffer.byteLength;\n",
              "            progress.value = downloaded;\n",
              "          }\n",
              "        }\n",
              "      }\n",
              "      const blob = new Blob(buffers, {type: 'application/binary'});\n",
              "      const a = document.createElement('a');\n",
              "      a.href = window.URL.createObjectURL(blob);\n",
              "      a.download = filename;\n",
              "      div.appendChild(a);\n",
              "      a.click();\n",
              "      div.remove();\n",
              "    }\n",
              "  "
            ],
            "text/plain": [
              "<IPython.core.display.Javascript object>"
            ]
          },
          "metadata": {
            "tags": []
          }
        },
        {
          "output_type": "display_data",
          "data": {
            "application/javascript": [
              "download(\"download_88726c89-18f1-44b4-9d6e-02cc88766e62\", \"file.zip\", 125038828)"
            ],
            "text/plain": [
              "<IPython.core.display.Javascript object>"
            ]
          },
          "metadata": {
            "tags": []
          }
        }
      ]
    },
    {
      "cell_type": "code",
      "metadata": {
        "colab": {
          "base_uri": "https://localhost:8080/"
        },
        "id": "COD91PI18Tem",
        "outputId": "fdd7850d-cc13-448f-918d-43dad03286fb"
      },
      "source": [
        "# Testing\n",
        "import keras\n",
        "model = keras.models.load_model('/content/drive/MyDrive/base_42')\n",
        "model.summary()"
      ],
      "execution_count": null,
      "outputs": [
        {
          "output_type": "stream",
          "text": [
            "Model: \"sequential_6\"\n",
            "_________________________________________________________________\n",
            "Layer (type)                 Output Shape              Param #   \n",
            "=================================================================\n",
            "lstm_12 (LSTM)               (None, 42, 256)           264192    \n",
            "_________________________________________________________________\n",
            "lstm_13 (LSTM)               (None, 128)               197120    \n",
            "_________________________________________________________________\n",
            "dense_18 (Dense)             (None, 300)               38700     \n",
            "_________________________________________________________________\n",
            "dropout_6 (Dropout)          (None, 300)               0         \n",
            "_________________________________________________________________\n",
            "dense_19 (Dense)             (None, 128)               38528     \n",
            "_________________________________________________________________\n",
            "dense_20 (Dense)             (None, 21)                2709      \n",
            "=================================================================\n",
            "Total params: 541,249\n",
            "Trainable params: 541,249\n",
            "Non-trainable params: 0\n",
            "_________________________________________________________________\n"
          ],
          "name": "stdout"
        }
      ]
    }
  ]
}